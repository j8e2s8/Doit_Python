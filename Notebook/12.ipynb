{
 "cells": [
  {
   "cell_type": "markdown",
   "id": "5ad271c7",
   "metadata": {},
   "source": [
    "# 12 인터랙티브 그래프\n",
    "\n",
    "## 12-1 인터랙티브 그래프 만들기\n",
    "\n",
    "### 산점도 만들기\n",
    "\n",
    "#### 패키지 준비하기"
   ]
  },
  {
   "cell_type": "raw",
   "id": "a8ae48b1-aa66-49d5-8acf-0f19c4b444aa",
   "metadata": {
    "error": false,
    "eval": false
   },
   "source": [
    "pip install plotly\n",
    "pip install jupyter-dash"
   ]
  },
  {
   "cell_type": "markdown",
   "id": "67b1342d",
   "metadata": {},
   "source": [
    "#### 산점도 만들기"
   ]
  },
  {
   "cell_type": "code",
   "execution_count": 1,
   "id": "47fbdd45",
   "metadata": {
    "eval": false
   },
   "outputs": [],
   "source": [
    "import pandas as pd\n",
    "mpg = pd.read_csv('mpg.csv')"
   ]
  },
  {
   "cell_type": "code",
   "execution_count": 12,
   "id": "b08fb5cf",
   "metadata": {},
   "outputs": [
    {
     "data": {
      "application/vnd.plotly.v1+json": {
       "config": {
        "plotlyServerURL": "https://plot.ly"
       },
       "data": [
        {
         "hovertemplate": "drv=f<br>cty=%{x}<br>hwy=%{y}<extra></extra>",
         "legendgroup": "f",
         "marker": {
          "color": "#636efa",
          "symbol": "circle"
         },
         "mode": "markers",
         "name": "f",
         "orientation": "v",
         "showlegend": true,
         "type": "scatter",
         "x": [
          18,
          21,
          20,
          21,
          16,
          18,
          18,
          19,
          22,
          18,
          18,
          17,
          18,
          17,
          16,
          16,
          17,
          17,
          11,
          15,
          15,
          16,
          16,
          28,
          24,
          25,
          23,
          24,
          26,
          25,
          24,
          21,
          18,
          18,
          21,
          21,
          18,
          18,
          19,
          19,
          19,
          20,
          20,
          17,
          16,
          17,
          21,
          19,
          23,
          23,
          19,
          19,
          18,
          19,
          19,
          18,
          16,
          17,
          18,
          16,
          21,
          21,
          21,
          21,
          18,
          18,
          19,
          21,
          21,
          21,
          22,
          18,
          18,
          18,
          24,
          24,
          26,
          28,
          26,
          21,
          19,
          21,
          22,
          17,
          33,
          21,
          19,
          22,
          21,
          21,
          21,
          16,
          17,
          35,
          29,
          21,
          19,
          20,
          20,
          21,
          18,
          19,
          21,
          16,
          18,
          17
         ],
         "xaxis": "x",
         "y": [
          29,
          29,
          31,
          30,
          26,
          26,
          27,
          27,
          30,
          26,
          29,
          26,
          24,
          24,
          22,
          22,
          24,
          24,
          17,
          22,
          21,
          23,
          23,
          33,
          32,
          32,
          29,
          32,
          34,
          36,
          36,
          29,
          26,
          27,
          30,
          31,
          26,
          26,
          28,
          26,
          29,
          28,
          27,
          24,
          24,
          24,
          29,
          27,
          31,
          32,
          27,
          26,
          26,
          25,
          25,
          26,
          26,
          27,
          28,
          25,
          29,
          27,
          31,
          31,
          26,
          26,
          28,
          27,
          29,
          31,
          31,
          26,
          26,
          27,
          30,
          33,
          35,
          37,
          35,
          29,
          26,
          29,
          29,
          24,
          44,
          29,
          26,
          29,
          29,
          29,
          29,
          23,
          24,
          44,
          41,
          29,
          26,
          28,
          29,
          29,
          29,
          28,
          29,
          26,
          26,
          26
         ],
         "yaxis": "y"
        },
        {
         "hovertemplate": "drv=4<br>cty=%{x}<br>hwy=%{y}<extra></extra>",
         "legendgroup": "4",
         "marker": {
          "color": "#EF553B",
          "symbol": "circle"
         },
         "mode": "markers",
         "name": "4",
         "orientation": "v",
         "showlegend": true,
         "type": "scatter",
         "x": [
          18,
          16,
          20,
          19,
          15,
          17,
          17,
          15,
          15,
          17,
          16,
          14,
          11,
          11,
          14,
          15,
          14,
          13,
          14,
          14,
          14,
          9,
          11,
          11,
          13,
          13,
          9,
          13,
          11,
          13,
          11,
          12,
          9,
          13,
          13,
          12,
          9,
          11,
          11,
          13,
          11,
          14,
          15,
          14,
          13,
          13,
          13,
          14,
          14,
          13,
          13,
          13,
          11,
          13,
          17,
          15,
          15,
          14,
          9,
          14,
          13,
          11,
          11,
          12,
          12,
          11,
          14,
          13,
          13,
          13,
          14,
          15,
          14,
          12,
          18,
          18,
          20,
          19,
          20,
          18,
          21,
          19,
          19,
          19,
          20,
          20,
          19,
          20,
          15,
          16,
          15,
          15,
          16,
          14,
          11,
          13,
          15,
          16,
          17,
          15,
          15,
          15,
          16
         ],
         "xaxis": "x",
         "y": [
          26,
          25,
          28,
          27,
          25,
          25,
          25,
          25,
          24,
          25,
          23,
          19,
          14,
          15,
          17,
          19,
          18,
          17,
          17,
          19,
          19,
          12,
          17,
          15,
          17,
          17,
          12,
          17,
          16,
          18,
          15,
          16,
          12,
          17,
          17,
          16,
          12,
          15,
          16,
          17,
          15,
          17,
          19,
          17,
          19,
          19,
          17,
          17,
          17,
          16,
          16,
          17,
          15,
          17,
          22,
          19,
          20,
          17,
          12,
          19,
          18,
          14,
          15,
          18,
          18,
          15,
          17,
          19,
          19,
          17,
          17,
          17,
          20,
          18,
          25,
          24,
          27,
          25,
          26,
          23,
          26,
          26,
          26,
          26,
          25,
          27,
          25,
          27,
          20,
          20,
          19,
          17,
          20,
          17,
          15,
          18,
          20,
          20,
          22,
          17,
          19,
          18,
          20
         ],
         "yaxis": "y"
        },
        {
         "hovertemplate": "drv=r<br>cty=%{x}<br>hwy=%{y}<extra></extra>",
         "legendgroup": "r",
         "marker": {
          "color": "#00cc96",
          "symbol": "circle"
         },
         "mode": "markers",
         "name": "r",
         "orientation": "v",
         "showlegend": true,
         "type": "scatter",
         "x": [
          14,
          11,
          14,
          13,
          12,
          16,
          15,
          16,
          15,
          15,
          11,
          11,
          12,
          18,
          18,
          17,
          16,
          15,
          15,
          15,
          15,
          14,
          11,
          11,
          12
         ],
         "xaxis": "x",
         "y": [
          20,
          15,
          20,
          17,
          17,
          26,
          23,
          26,
          25,
          24,
          17,
          17,
          18,
          26,
          25,
          26,
          24,
          21,
          22,
          23,
          22,
          20,
          17,
          16,
          18
         ],
         "yaxis": "y"
        }
       ],
       "layout": {
        "autosize": true,
        "legend": {
         "title": {
          "text": "drv"
         },
         "tracegroupgap": 0
        },
        "margin": {
         "t": 60
        },
        "template": {
         "data": {
          "bar": [
           {
            "error_x": {
             "color": "#2a3f5f"
            },
            "error_y": {
             "color": "#2a3f5f"
            },
            "marker": {
             "line": {
              "color": "#E5ECF6",
              "width": 0.5
             },
             "pattern": {
              "fillmode": "overlay",
              "size": 10,
              "solidity": 0.2
             }
            },
            "type": "bar"
           }
          ],
          "barpolar": [
           {
            "marker": {
             "line": {
              "color": "#E5ECF6",
              "width": 0.5
             },
             "pattern": {
              "fillmode": "overlay",
              "size": 10,
              "solidity": 0.2
             }
            },
            "type": "barpolar"
           }
          ],
          "carpet": [
           {
            "aaxis": {
             "endlinecolor": "#2a3f5f",
             "gridcolor": "white",
             "linecolor": "white",
             "minorgridcolor": "white",
             "startlinecolor": "#2a3f5f"
            },
            "baxis": {
             "endlinecolor": "#2a3f5f",
             "gridcolor": "white",
             "linecolor": "white",
             "minorgridcolor": "white",
             "startlinecolor": "#2a3f5f"
            },
            "type": "carpet"
           }
          ],
          "choropleth": [
           {
            "colorbar": {
             "outlinewidth": 0,
             "ticks": ""
            },
            "type": "choropleth"
           }
          ],
          "contour": [
           {
            "colorbar": {
             "outlinewidth": 0,
             "ticks": ""
            },
            "colorscale": [
             [
              0,
              "#0d0887"
             ],
             [
              0.1111111111111111,
              "#46039f"
             ],
             [
              0.2222222222222222,
              "#7201a8"
             ],
             [
              0.3333333333333333,
              "#9c179e"
             ],
             [
              0.4444444444444444,
              "#bd3786"
             ],
             [
              0.5555555555555556,
              "#d8576b"
             ],
             [
              0.6666666666666666,
              "#ed7953"
             ],
             [
              0.7777777777777778,
              "#fb9f3a"
             ],
             [
              0.8888888888888888,
              "#fdca26"
             ],
             [
              1,
              "#f0f921"
             ]
            ],
            "type": "contour"
           }
          ],
          "contourcarpet": [
           {
            "colorbar": {
             "outlinewidth": 0,
             "ticks": ""
            },
            "type": "contourcarpet"
           }
          ],
          "heatmap": [
           {
            "colorbar": {
             "outlinewidth": 0,
             "ticks": ""
            },
            "colorscale": [
             [
              0,
              "#0d0887"
             ],
             [
              0.1111111111111111,
              "#46039f"
             ],
             [
              0.2222222222222222,
              "#7201a8"
             ],
             [
              0.3333333333333333,
              "#9c179e"
             ],
             [
              0.4444444444444444,
              "#bd3786"
             ],
             [
              0.5555555555555556,
              "#d8576b"
             ],
             [
              0.6666666666666666,
              "#ed7953"
             ],
             [
              0.7777777777777778,
              "#fb9f3a"
             ],
             [
              0.8888888888888888,
              "#fdca26"
             ],
             [
              1,
              "#f0f921"
             ]
            ],
            "type": "heatmap"
           }
          ],
          "heatmapgl": [
           {
            "colorbar": {
             "outlinewidth": 0,
             "ticks": ""
            },
            "colorscale": [
             [
              0,
              "#0d0887"
             ],
             [
              0.1111111111111111,
              "#46039f"
             ],
             [
              0.2222222222222222,
              "#7201a8"
             ],
             [
              0.3333333333333333,
              "#9c179e"
             ],
             [
              0.4444444444444444,
              "#bd3786"
             ],
             [
              0.5555555555555556,
              "#d8576b"
             ],
             [
              0.6666666666666666,
              "#ed7953"
             ],
             [
              0.7777777777777778,
              "#fb9f3a"
             ],
             [
              0.8888888888888888,
              "#fdca26"
             ],
             [
              1,
              "#f0f921"
             ]
            ],
            "type": "heatmapgl"
           }
          ],
          "histogram": [
           {
            "marker": {
             "pattern": {
              "fillmode": "overlay",
              "size": 10,
              "solidity": 0.2
             }
            },
            "type": "histogram"
           }
          ],
          "histogram2d": [
           {
            "colorbar": {
             "outlinewidth": 0,
             "ticks": ""
            },
            "colorscale": [
             [
              0,
              "#0d0887"
             ],
             [
              0.1111111111111111,
              "#46039f"
             ],
             [
              0.2222222222222222,
              "#7201a8"
             ],
             [
              0.3333333333333333,
              "#9c179e"
             ],
             [
              0.4444444444444444,
              "#bd3786"
             ],
             [
              0.5555555555555556,
              "#d8576b"
             ],
             [
              0.6666666666666666,
              "#ed7953"
             ],
             [
              0.7777777777777778,
              "#fb9f3a"
             ],
             [
              0.8888888888888888,
              "#fdca26"
             ],
             [
              1,
              "#f0f921"
             ]
            ],
            "type": "histogram2d"
           }
          ],
          "histogram2dcontour": [
           {
            "colorbar": {
             "outlinewidth": 0,
             "ticks": ""
            },
            "colorscale": [
             [
              0,
              "#0d0887"
             ],
             [
              0.1111111111111111,
              "#46039f"
             ],
             [
              0.2222222222222222,
              "#7201a8"
             ],
             [
              0.3333333333333333,
              "#9c179e"
             ],
             [
              0.4444444444444444,
              "#bd3786"
             ],
             [
              0.5555555555555556,
              "#d8576b"
             ],
             [
              0.6666666666666666,
              "#ed7953"
             ],
             [
              0.7777777777777778,
              "#fb9f3a"
             ],
             [
              0.8888888888888888,
              "#fdca26"
             ],
             [
              1,
              "#f0f921"
             ]
            ],
            "type": "histogram2dcontour"
           }
          ],
          "mesh3d": [
           {
            "colorbar": {
             "outlinewidth": 0,
             "ticks": ""
            },
            "type": "mesh3d"
           }
          ],
          "parcoords": [
           {
            "line": {
             "colorbar": {
              "outlinewidth": 0,
              "ticks": ""
             }
            },
            "type": "parcoords"
           }
          ],
          "pie": [
           {
            "automargin": true,
            "type": "pie"
           }
          ],
          "scatter": [
           {
            "fillpattern": {
             "fillmode": "overlay",
             "size": 10,
             "solidity": 0.2
            },
            "type": "scatter"
           }
          ],
          "scatter3d": [
           {
            "line": {
             "colorbar": {
              "outlinewidth": 0,
              "ticks": ""
             }
            },
            "marker": {
             "colorbar": {
              "outlinewidth": 0,
              "ticks": ""
             }
            },
            "type": "scatter3d"
           }
          ],
          "scattercarpet": [
           {
            "marker": {
             "colorbar": {
              "outlinewidth": 0,
              "ticks": ""
             }
            },
            "type": "scattercarpet"
           }
          ],
          "scattergeo": [
           {
            "marker": {
             "colorbar": {
              "outlinewidth": 0,
              "ticks": ""
             }
            },
            "type": "scattergeo"
           }
          ],
          "scattergl": [
           {
            "marker": {
             "colorbar": {
              "outlinewidth": 0,
              "ticks": ""
             }
            },
            "type": "scattergl"
           }
          ],
          "scattermapbox": [
           {
            "marker": {
             "colorbar": {
              "outlinewidth": 0,
              "ticks": ""
             }
            },
            "type": "scattermapbox"
           }
          ],
          "scatterpolar": [
           {
            "marker": {
             "colorbar": {
              "outlinewidth": 0,
              "ticks": ""
             }
            },
            "type": "scatterpolar"
           }
          ],
          "scatterpolargl": [
           {
            "marker": {
             "colorbar": {
              "outlinewidth": 0,
              "ticks": ""
             }
            },
            "type": "scatterpolargl"
           }
          ],
          "scatterternary": [
           {
            "marker": {
             "colorbar": {
              "outlinewidth": 0,
              "ticks": ""
             }
            },
            "type": "scatterternary"
           }
          ],
          "surface": [
           {
            "colorbar": {
             "outlinewidth": 0,
             "ticks": ""
            },
            "colorscale": [
             [
              0,
              "#0d0887"
             ],
             [
              0.1111111111111111,
              "#46039f"
             ],
             [
              0.2222222222222222,
              "#7201a8"
             ],
             [
              0.3333333333333333,
              "#9c179e"
             ],
             [
              0.4444444444444444,
              "#bd3786"
             ],
             [
              0.5555555555555556,
              "#d8576b"
             ],
             [
              0.6666666666666666,
              "#ed7953"
             ],
             [
              0.7777777777777778,
              "#fb9f3a"
             ],
             [
              0.8888888888888888,
              "#fdca26"
             ],
             [
              1,
              "#f0f921"
             ]
            ],
            "type": "surface"
           }
          ],
          "table": [
           {
            "cells": {
             "fill": {
              "color": "#EBF0F8"
             },
             "line": {
              "color": "white"
             }
            },
            "header": {
             "fill": {
              "color": "#C8D4E3"
             },
             "line": {
              "color": "white"
             }
            },
            "type": "table"
           }
          ]
         },
         "layout": {
          "annotationdefaults": {
           "arrowcolor": "#2a3f5f",
           "arrowhead": 0,
           "arrowwidth": 1
          },
          "autotypenumbers": "strict",
          "coloraxis": {
           "colorbar": {
            "outlinewidth": 0,
            "ticks": ""
           }
          },
          "colorscale": {
           "diverging": [
            [
             0,
             "#8e0152"
            ],
            [
             0.1,
             "#c51b7d"
            ],
            [
             0.2,
             "#de77ae"
            ],
            [
             0.3,
             "#f1b6da"
            ],
            [
             0.4,
             "#fde0ef"
            ],
            [
             0.5,
             "#f7f7f7"
            ],
            [
             0.6,
             "#e6f5d0"
            ],
            [
             0.7,
             "#b8e186"
            ],
            [
             0.8,
             "#7fbc41"
            ],
            [
             0.9,
             "#4d9221"
            ],
            [
             1,
             "#276419"
            ]
           ],
           "sequential": [
            [
             0,
             "#0d0887"
            ],
            [
             0.1111111111111111,
             "#46039f"
            ],
            [
             0.2222222222222222,
             "#7201a8"
            ],
            [
             0.3333333333333333,
             "#9c179e"
            ],
            [
             0.4444444444444444,
             "#bd3786"
            ],
            [
             0.5555555555555556,
             "#d8576b"
            ],
            [
             0.6666666666666666,
             "#ed7953"
            ],
            [
             0.7777777777777778,
             "#fb9f3a"
            ],
            [
             0.8888888888888888,
             "#fdca26"
            ],
            [
             1,
             "#f0f921"
            ]
           ],
           "sequentialminus": [
            [
             0,
             "#0d0887"
            ],
            [
             0.1111111111111111,
             "#46039f"
            ],
            [
             0.2222222222222222,
             "#7201a8"
            ],
            [
             0.3333333333333333,
             "#9c179e"
            ],
            [
             0.4444444444444444,
             "#bd3786"
            ],
            [
             0.5555555555555556,
             "#d8576b"
            ],
            [
             0.6666666666666666,
             "#ed7953"
            ],
            [
             0.7777777777777778,
             "#fb9f3a"
            ],
            [
             0.8888888888888888,
             "#fdca26"
            ],
            [
             1,
             "#f0f921"
            ]
           ]
          },
          "colorway": [
           "#636efa",
           "#EF553B",
           "#00cc96",
           "#ab63fa",
           "#FFA15A",
           "#19d3f3",
           "#FF6692",
           "#B6E880",
           "#FF97FF",
           "#FECB52"
          ],
          "font": {
           "color": "#2a3f5f"
          },
          "geo": {
           "bgcolor": "white",
           "lakecolor": "white",
           "landcolor": "#E5ECF6",
           "showlakes": true,
           "showland": true,
           "subunitcolor": "white"
          },
          "hoverlabel": {
           "align": "left"
          },
          "hovermode": "closest",
          "mapbox": {
           "style": "light"
          },
          "paper_bgcolor": "white",
          "plot_bgcolor": "#E5ECF6",
          "polar": {
           "angularaxis": {
            "gridcolor": "white",
            "linecolor": "white",
            "ticks": ""
           },
           "bgcolor": "#E5ECF6",
           "radialaxis": {
            "gridcolor": "white",
            "linecolor": "white",
            "ticks": ""
           }
          },
          "scene": {
           "xaxis": {
            "backgroundcolor": "#E5ECF6",
            "gridcolor": "white",
            "gridwidth": 2,
            "linecolor": "white",
            "showbackground": true,
            "ticks": "",
            "zerolinecolor": "white"
           },
           "yaxis": {
            "backgroundcolor": "#E5ECF6",
            "gridcolor": "white",
            "gridwidth": 2,
            "linecolor": "white",
            "showbackground": true,
            "ticks": "",
            "zerolinecolor": "white"
           },
           "zaxis": {
            "backgroundcolor": "#E5ECF6",
            "gridcolor": "white",
            "gridwidth": 2,
            "linecolor": "white",
            "showbackground": true,
            "ticks": "",
            "zerolinecolor": "white"
           }
          },
          "shapedefaults": {
           "line": {
            "color": "#2a3f5f"
           }
          },
          "ternary": {
           "aaxis": {
            "gridcolor": "white",
            "linecolor": "white",
            "ticks": ""
           },
           "baxis": {
            "gridcolor": "white",
            "linecolor": "white",
            "ticks": ""
           },
           "bgcolor": "#E5ECF6",
           "caxis": {
            "gridcolor": "white",
            "linecolor": "white",
            "ticks": ""
           }
          },
          "title": {
           "x": 0.05
          },
          "xaxis": {
           "automargin": true,
           "gridcolor": "white",
           "linecolor": "white",
           "ticks": "",
           "title": {
            "standoff": 15
           },
           "zerolinecolor": "white",
           "zerolinewidth": 2
          },
          "yaxis": {
           "automargin": true,
           "gridcolor": "white",
           "linecolor": "white",
           "ticks": "",
           "title": {
            "standoff": 15
           },
           "zerolinecolor": "white",
           "zerolinewidth": 2
          }
         }
        },
        "xaxis": {
         "anchor": "y",
         "autorange": true,
         "domain": [
          0,
          1
         ],
         "range": [
          7.373910127431254,
          36.62608987256875
         ],
         "title": {
          "text": "cty"
         },
         "type": "linear"
        },
        "yaxis": {
         "anchor": "x",
         "autorange": true,
         "domain": [
          0,
          1
         ],
         "range": [
          9.52230971128609,
          46.47769028871391
         ],
         "title": {
          "text": "hwy"
         },
         "type": "linear"
        }
       }
      },
      "image/png": "[encoded data removed]"
     },
     "metadata": {},
     "output_type": "display_data"
    }
   ],
   "source": [
    "# 산점도 만들기\n",
    "import plotly.express as px\n",
    "px.scatter(data_frame = mpg, x = 'cty', y = 'hwy', color = 'drv')"
   ]
  },
  {
   "cell_type": "markdown",
   "id": "4fd3aec0",
   "metadata": {},
   "source": [
    "### 막대 그래프 만들기"
   ]
  },
  {
   "cell_type": "code",
   "execution_count": 3,
   "id": "b2cd0ead",
   "metadata": {},
   "outputs": [
    {
     "data": {
      "text/html": [
       "<div>\n",
       "<style scoped>\n",
       "    .dataframe tbody tr th:only-of-type {\n",
       "        vertical-align: middle;\n",
       "    }\n",
       "\n",
       "    .dataframe tbody tr th {\n",
       "        vertical-align: top;\n",
       "    }\n",
       "\n",
       "    .dataframe thead th {\n",
       "        text-align: right;\n",
       "    }\n",
       "</style>\n",
       "<table border=\"1\" class=\"dataframe\">\n",
       "  <thead>\n",
       "    <tr style=\"text-align: right;\">\n",
       "      <th></th>\n",
       "      <th>category</th>\n",
       "      <th>n</th>\n",
       "    </tr>\n",
       "  </thead>\n",
       "  <tbody>\n",
       "    <tr>\n",
       "      <th>0</th>\n",
       "      <td>2seater</td>\n",
       "      <td>5</td>\n",
       "    </tr>\n",
       "    <tr>\n",
       "      <th>1</th>\n",
       "      <td>compact</td>\n",
       "      <td>47</td>\n",
       "    </tr>\n",
       "    <tr>\n",
       "      <th>2</th>\n",
       "      <td>midsize</td>\n",
       "      <td>41</td>\n",
       "    </tr>\n",
       "    <tr>\n",
       "      <th>3</th>\n",
       "      <td>minivan</td>\n",
       "      <td>11</td>\n",
       "    </tr>\n",
       "    <tr>\n",
       "      <th>4</th>\n",
       "      <td>pickup</td>\n",
       "      <td>33</td>\n",
       "    </tr>\n",
       "    <tr>\n",
       "      <th>5</th>\n",
       "      <td>subcompact</td>\n",
       "      <td>35</td>\n",
       "    </tr>\n",
       "    <tr>\n",
       "      <th>6</th>\n",
       "      <td>suv</td>\n",
       "      <td>62</td>\n",
       "    </tr>\n",
       "  </tbody>\n",
       "</table>\n",
       "</div>"
      ],
      "text/plain": [
       "     category   n\n",
       "0     2seater   5\n",
       "1     compact  47\n",
       "2     midsize  41\n",
       "3     minivan  11\n",
       "4      pickup  33\n",
       "5  subcompact  35\n",
       "6         suv  62"
      ]
     },
     "execution_count": 3,
     "metadata": {},
     "output_type": "execute_result"
    }
   ],
   "source": [
    "# 자동차 종류별 빈도 구하기\n",
    "df = mpg.groupby('category', as_index = False) \\\n",
    "        .agg(n = ('category', 'count'))\n",
    "df"
   ]
  },
  {
   "cell_type": "code",
   "execution_count": 4,
   "id": "01c6e888",
   "metadata": {},
   "outputs": [
    {
     "data": {
      "application/vnd.plotly.v1+json": {
       "config": {
        "plotlyServerURL": "https://plot.ly"
       },
       "data": [
        {
         "alignmentgroup": "True",
         "hovertemplate": "category=%{x}<br>n=%{y}<extra></extra>",
         "legendgroup": "2seater",
         "marker": {
          "color": "#636efa",
          "pattern": {
           "shape": ""
          }
         },
         "name": "2seater",
         "offsetgroup": "2seater",
         "orientation": "v",
         "showlegend": true,
         "textposition": "auto",
         "type": "bar",
         "x": [
          "2seater"
         ],
         "xaxis": "x",
         "y": [
          5
         ],
         "yaxis": "y"
        },
        {
         "alignmentgroup": "True",
         "hovertemplate": "category=%{x}<br>n=%{y}<extra></extra>",
         "legendgroup": "compact",
         "marker": {
          "color": "#EF553B",
          "pattern": {
           "shape": ""
          }
         },
         "name": "compact",
         "offsetgroup": "compact",
         "orientation": "v",
         "showlegend": true,
         "textposition": "auto",
         "type": "bar",
         "x": [
          "compact"
         ],
         "xaxis": "x",
         "y": [
          47
         ],
         "yaxis": "y"
        },
        {
         "alignmentgroup": "True",
         "hovertemplate": "category=%{x}<br>n=%{y}<extra></extra>",
         "legendgroup": "midsize",
         "marker": {
          "color": "#00cc96",
          "pattern": {
           "shape": ""
          }
         },
         "name": "midsize",
         "offsetgroup": "midsize",
         "orientation": "v",
         "showlegend": true,
         "textposition": "auto",
         "type": "bar",
         "x": [
          "midsize"
         ],
         "xaxis": "x",
         "y": [
          41
         ],
         "yaxis": "y"
        },
        {
         "alignmentgroup": "True",
         "hovertemplate": "category=%{x}<br>n=%{y}<extra></extra>",
         "legendgroup": "minivan",
         "marker": {
          "color": "#ab63fa",
          "pattern": {
           "shape": ""
          }
         },
         "name": "minivan",
         "offsetgroup": "minivan",
         "orientation": "v",
         "showlegend": true,
         "textposition": "auto",
         "type": "bar",
         "x": [
          "minivan"
         ],
         "xaxis": "x",
         "y": [
          11
         ],
         "yaxis": "y"
        },
        {
         "alignmentgroup": "True",
         "hovertemplate": "category=%{x}<br>n=%{y}<extra></extra>",
         "legendgroup": "pickup",
         "marker": {
          "color": "#FFA15A",
          "pattern": {
           "shape": ""
          }
         },
         "name": "pickup",
         "offsetgroup": "pickup",
         "orientation": "v",
         "showlegend": true,
         "textposition": "auto",
         "type": "bar",
         "x": [
          "pickup"
         ],
         "xaxis": "x",
         "y": [
          33
         ],
         "yaxis": "y"
        },
        {
         "alignmentgroup": "True",
         "hovertemplate": "category=%{x}<br>n=%{y}<extra></extra>",
         "legendgroup": "subcompact",
         "marker": {
          "color": "#19d3f3",
          "pattern": {
           "shape": ""
          }
         },
         "name": "subcompact",
         "offsetgroup": "subcompact",
         "orientation": "v",
         "showlegend": true,
         "textposition": "auto",
         "type": "bar",
         "x": [
          "subcompact"
         ],
         "xaxis": "x",
         "y": [
          35
         ],
         "yaxis": "y"
        },
        {
         "alignmentgroup": "True",
         "hovertemplate": "category=%{x}<br>n=%{y}<extra></extra>",
         "legendgroup": "suv",
         "marker": {
          "color": "#FF6692",
          "pattern": {
           "shape": ""
          }
         },
         "name": "suv",
         "offsetgroup": "suv",
         "orientation": "v",
         "showlegend": true,
         "textposition": "auto",
         "type": "bar",
         "x": [
          "suv"
         ],
         "xaxis": "x",
         "y": [
          62
         ],
         "yaxis": "y"
        }
       ],
       "layout": {
        "autosize": true,
        "barmode": "relative",
        "legend": {
         "title": {
          "text": "category"
         },
         "tracegroupgap": 0
        },
        "margin": {
         "t": 60
        },
        "template": {
         "data": {
          "bar": [
           {
            "error_x": {
             "color": "#2a3f5f"
            },
            "error_y": {
             "color": "#2a3f5f"
            },
            "marker": {
             "line": {
              "color": "#E5ECF6",
              "width": 0.5
             },
             "pattern": {
              "fillmode": "overlay",
              "size": 10,
              "solidity": 0.2
             }
            },
            "type": "bar"
           }
          ],
          "barpolar": [
           {
            "marker": {
             "line": {
              "color": "#E5ECF6",
              "width": 0.5
             },
             "pattern": {
              "fillmode": "overlay",
              "size": 10,
              "solidity": 0.2
             }
            },
            "type": "barpolar"
           }
          ],
          "carpet": [
           {
            "aaxis": {
             "endlinecolor": "#2a3f5f",
             "gridcolor": "white",
             "linecolor": "white",
             "minorgridcolor": "white",
             "startlinecolor": "#2a3f5f"
            },
            "baxis": {
             "endlinecolor": "#2a3f5f",
             "gridcolor": "white",
             "linecolor": "white",
             "minorgridcolor": "white",
             "startlinecolor": "#2a3f5f"
            },
            "type": "carpet"
           }
          ],
          "choropleth": [
           {
            "colorbar": {
             "outlinewidth": 0,
             "ticks": ""
            },
            "type": "choropleth"
           }
          ],
          "contour": [
           {
            "colorbar": {
             "outlinewidth": 0,
             "ticks": ""
            },
            "colorscale": [
             [
              0,
              "#0d0887"
             ],
             [
              0.1111111111111111,
              "#46039f"
             ],
             [
              0.2222222222222222,
              "#7201a8"
             ],
             [
              0.3333333333333333,
              "#9c179e"
             ],
             [
              0.4444444444444444,
              "#bd3786"
             ],
             [
              0.5555555555555556,
              "#d8576b"
             ],
             [
              0.6666666666666666,
              "#ed7953"
             ],
             [
              0.7777777777777778,
              "#fb9f3a"
             ],
             [
              0.8888888888888888,
              "#fdca26"
             ],
             [
              1,
              "#f0f921"
             ]
            ],
            "type": "contour"
           }
          ],
          "contourcarpet": [
           {
            "colorbar": {
             "outlinewidth": 0,
             "ticks": ""
            },
            "type": "contourcarpet"
           }
          ],
          "heatmap": [
           {
            "colorbar": {
             "outlinewidth": 0,
             "ticks": ""
            },
            "colorscale": [
             [
              0,
              "#0d0887"
             ],
             [
              0.1111111111111111,
              "#46039f"
             ],
             [
              0.2222222222222222,
              "#7201a8"
             ],
             [
              0.3333333333333333,
              "#9c179e"
             ],
             [
              0.4444444444444444,
              "#bd3786"
             ],
             [
              0.5555555555555556,
              "#d8576b"
             ],
             [
              0.6666666666666666,
              "#ed7953"
             ],
             [
              0.7777777777777778,
              "#fb9f3a"
             ],
             [
              0.8888888888888888,
              "#fdca26"
             ],
             [
              1,
              "#f0f921"
             ]
            ],
            "type": "heatmap"
           }
          ],
          "heatmapgl": [
           {
            "colorbar": {
             "outlinewidth": 0,
             "ticks": ""
            },
            "colorscale": [
             [
              0,
              "#0d0887"
             ],
             [
              0.1111111111111111,
              "#46039f"
             ],
             [
              0.2222222222222222,
              "#7201a8"
             ],
             [
              0.3333333333333333,
              "#9c179e"
             ],
             [
              0.4444444444444444,
              "#bd3786"
             ],
             [
              0.5555555555555556,
              "#d8576b"
             ],
             [
              0.6666666666666666,
              "#ed7953"
             ],
             [
              0.7777777777777778,
              "#fb9f3a"
             ],
             [
              0.8888888888888888,
              "#fdca26"
             ],
             [
              1,
              "#f0f921"
             ]
            ],
            "type": "heatmapgl"
           }
          ],
          "histogram": [
           {
            "marker": {
             "pattern": {
              "fillmode": "overlay",
              "size": 10,
              "solidity": 0.2
             }
            },
            "type": "histogram"
           }
          ],
          "histogram2d": [
           {
            "colorbar": {
             "outlinewidth": 0,
             "ticks": ""
            },
            "colorscale": [
             [
              0,
              "#0d0887"
             ],
             [
              0.1111111111111111,
              "#46039f"
             ],
             [
              0.2222222222222222,
              "#7201a8"
             ],
             [
              0.3333333333333333,
              "#9c179e"
             ],
             [
              0.4444444444444444,
              "#bd3786"
             ],
             [
              0.5555555555555556,
              "#d8576b"
             ],
             [
              0.6666666666666666,
              "#ed7953"
             ],
             [
              0.7777777777777778,
              "#fb9f3a"
             ],
             [
              0.8888888888888888,
              "#fdca26"
             ],
             [
              1,
              "#f0f921"
             ]
            ],
            "type": "histogram2d"
           }
          ],
          "histogram2dcontour": [
           {
            "colorbar": {
             "outlinewidth": 0,
             "ticks": ""
            },
            "colorscale": [
             [
              0,
              "#0d0887"
             ],
             [
              0.1111111111111111,
              "#46039f"
             ],
             [
              0.2222222222222222,
              "#7201a8"
             ],
             [
              0.3333333333333333,
              "#9c179e"
             ],
             [
              0.4444444444444444,
              "#bd3786"
             ],
             [
              0.5555555555555556,
              "#d8576b"
             ],
             [
              0.6666666666666666,
              "#ed7953"
             ],
             [
              0.7777777777777778,
              "#fb9f3a"
             ],
             [
              0.8888888888888888,
              "#fdca26"
             ],
             [
              1,
              "#f0f921"
             ]
            ],
            "type": "histogram2dcontour"
           }
          ],
          "mesh3d": [
           {
            "colorbar": {
             "outlinewidth": 0,
             "ticks": ""
            },
            "type": "mesh3d"
           }
          ],
          "parcoords": [
           {
            "line": {
             "colorbar": {
              "outlinewidth": 0,
              "ticks": ""
             }
            },
            "type": "parcoords"
           }
          ],
          "pie": [
           {
            "automargin": true,
            "type": "pie"
           }
          ],
          "scatter": [
           {
            "fillpattern": {
             "fillmode": "overlay",
             "size": 10,
             "solidity": 0.2
            },
            "type": "scatter"
           }
          ],
          "scatter3d": [
           {
            "line": {
             "colorbar": {
              "outlinewidth": 0,
              "ticks": ""
             }
            },
            "marker": {
             "colorbar": {
              "outlinewidth": 0,
              "ticks": ""
             }
            },
            "type": "scatter3d"
           }
          ],
          "scattercarpet": [
           {
            "marker": {
             "colorbar": {
              "outlinewidth": 0,
              "ticks": ""
             }
            },
            "type": "scattercarpet"
           }
          ],
          "scattergeo": [
           {
            "marker": {
             "colorbar": {
              "outlinewidth": 0,
              "ticks": ""
             }
            },
            "type": "scattergeo"
           }
          ],
          "scattergl": [
           {
            "marker": {
             "colorbar": {
              "outlinewidth": 0,
              "ticks": ""
             }
            },
            "type": "scattergl"
           }
          ],
          "scattermapbox": [
           {
            "marker": {
             "colorbar": {
              "outlinewidth": 0,
              "ticks": ""
             }
            },
            "type": "scattermapbox"
           }
          ],
          "scatterpolar": [
           {
            "marker": {
             "colorbar": {
              "outlinewidth": 0,
              "ticks": ""
             }
            },
            "type": "scatterpolar"
           }
          ],
          "scatterpolargl": [
           {
            "marker": {
             "colorbar": {
              "outlinewidth": 0,
              "ticks": ""
             }
            },
            "type": "scatterpolargl"
           }
          ],
          "scatterternary": [
           {
            "marker": {
             "colorbar": {
              "outlinewidth": 0,
              "ticks": ""
             }
            },
            "type": "scatterternary"
           }
          ],
          "surface": [
           {
            "colorbar": {
             "outlinewidth": 0,
             "ticks": ""
            },
            "colorscale": [
             [
              0,
              "#0d0887"
             ],
             [
              0.1111111111111111,
              "#46039f"
             ],
             [
              0.2222222222222222,
              "#7201a8"
             ],
             [
              0.3333333333333333,
              "#9c179e"
             ],
             [
              0.4444444444444444,
              "#bd3786"
             ],
             [
              0.5555555555555556,
              "#d8576b"
             ],
             [
              0.6666666666666666,
              "#ed7953"
             ],
             [
              0.7777777777777778,
              "#fb9f3a"
             ],
             [
              0.8888888888888888,
              "#fdca26"
             ],
             [
              1,
              "#f0f921"
             ]
            ],
            "type": "surface"
           }
          ],
          "table": [
           {
            "cells": {
             "fill": {
              "color": "#EBF0F8"
             },
             "line": {
              "color": "white"
             }
            },
            "header": {
             "fill": {
              "color": "#C8D4E3"
             },
             "line": {
              "color": "white"
             }
            },
            "type": "table"
           }
          ]
         },
         "layout": {
          "annotationdefaults": {
           "arrowcolor": "#2a3f5f",
           "arrowhead": 0,
           "arrowwidth": 1
          },
          "autotypenumbers": "strict",
          "coloraxis": {
           "colorbar": {
            "outlinewidth": 0,
            "ticks": ""
           }
          },
          "colorscale": {
           "diverging": [
            [
             0,
             "#8e0152"
            ],
            [
             0.1,
             "#c51b7d"
            ],
            [
             0.2,
             "#de77ae"
            ],
            [
             0.3,
             "#f1b6da"
            ],
            [
             0.4,
             "#fde0ef"
            ],
            [
             0.5,
             "#f7f7f7"
            ],
            [
             0.6,
             "#e6f5d0"
            ],
            [
             0.7,
             "#b8e186"
            ],
            [
             0.8,
             "#7fbc41"
            ],
            [
             0.9,
             "#4d9221"
            ],
            [
             1,
             "#276419"
            ]
           ],
           "sequential": [
            [
             0,
             "#0d0887"
            ],
            [
             0.1111111111111111,
             "#46039f"
            ],
            [
             0.2222222222222222,
             "#7201a8"
            ],
            [
             0.3333333333333333,
             "#9c179e"
            ],
            [
             0.4444444444444444,
             "#bd3786"
            ],
            [
             0.5555555555555556,
             "#d8576b"
            ],
            [
             0.6666666666666666,
             "#ed7953"
            ],
            [
             0.7777777777777778,
             "#fb9f3a"
            ],
            [
             0.8888888888888888,
             "#fdca26"
            ],
            [
             1,
             "#f0f921"
            ]
           ],
           "sequentialminus": [
            [
             0,
             "#0d0887"
            ],
            [
             0.1111111111111111,
             "#46039f"
            ],
            [
             0.2222222222222222,
             "#7201a8"
            ],
            [
             0.3333333333333333,
             "#9c179e"
            ],
            [
             0.4444444444444444,
             "#bd3786"
            ],
            [
             0.5555555555555556,
             "#d8576b"
            ],
            [
             0.6666666666666666,
             "#ed7953"
            ],
            [
             0.7777777777777778,
             "#fb9f3a"
            ],
            [
             0.8888888888888888,
             "#fdca26"
            ],
            [
             1,
             "#f0f921"
            ]
           ]
          },
          "colorway": [
           "#636efa",
           "#EF553B",
           "#00cc96",
           "#ab63fa",
           "#FFA15A",
           "#19d3f3",
           "#FF6692",
           "#B6E880",
           "#FF97FF",
           "#FECB52"
          ],
          "font": {
           "color": "#2a3f5f"
          },
          "geo": {
           "bgcolor": "white",
           "lakecolor": "white",
           "landcolor": "#E5ECF6",
           "showlakes": true,
           "showland": true,
           "subunitcolor": "white"
          },
          "hoverlabel": {
           "align": "left"
          },
          "hovermode": "closest",
          "mapbox": {
           "style": "light"
          },
          "paper_bgcolor": "white",
          "plot_bgcolor": "#E5ECF6",
          "polar": {
           "angularaxis": {
            "gridcolor": "white",
            "linecolor": "white",
            "ticks": ""
           },
           "bgcolor": "#E5ECF6",
           "radialaxis": {
            "gridcolor": "white",
            "linecolor": "white",
            "ticks": ""
           }
          },
          "scene": {
           "xaxis": {
            "backgroundcolor": "#E5ECF6",
            "gridcolor": "white",
            "gridwidth": 2,
            "linecolor": "white",
            "showbackground": true,
            "ticks": "",
            "zerolinecolor": "white"
           },
           "yaxis": {
            "backgroundcolor": "#E5ECF6",
            "gridcolor": "white",
            "gridwidth": 2,
            "linecolor": "white",
            "showbackground": true,
            "ticks": "",
            "zerolinecolor": "white"
           },
           "zaxis": {
            "backgroundcolor": "#E5ECF6",
            "gridcolor": "white",
            "gridwidth": 2,
            "linecolor": "white",
            "showbackground": true,
            "ticks": "",
            "zerolinecolor": "white"
           }
          },
          "shapedefaults": {
           "line": {
            "color": "#2a3f5f"
           }
          },
          "ternary": {
           "aaxis": {
            "gridcolor": "white",
            "linecolor": "white",
            "ticks": ""
           },
           "baxis": {
            "gridcolor": "white",
            "linecolor": "white",
            "ticks": ""
           },
           "bgcolor": "#E5ECF6",
           "caxis": {
            "gridcolor": "white",
            "linecolor": "white",
            "ticks": ""
           }
          },
          "title": {
           "x": 0.05
          },
          "xaxis": {
           "automargin": true,
           "gridcolor": "white",
           "linecolor": "white",
           "ticks": "",
           "title": {
            "standoff": 15
           },
           "zerolinecolor": "white",
           "zerolinewidth": 2
          },
          "yaxis": {
           "automargin": true,
           "gridcolor": "white",
           "linecolor": "white",
           "ticks": "",
           "title": {
            "standoff": 15
           },
           "zerolinecolor": "white",
           "zerolinewidth": 2
          }
         }
        },
        "xaxis": {
         "anchor": "y",
         "autorange": true,
         "categoryarray": [
          "2seater",
          "compact",
          "midsize",
          "minivan",
          "pickup",
          "subcompact",
          "suv"
         ],
         "categoryorder": "array",
         "domain": [
          0,
          1
         ],
         "range": [
          -0.5,
          6.5
         ],
         "title": {
          "text": "category"
         },
         "type": "category"
        },
        "yaxis": {
         "anchor": "x",
         "autorange": true,
         "domain": [
          0,
          1
         ],
         "range": [
          0,
          65.26315789473684
         ],
         "title": {
          "text": "n"
         },
         "type": "linear"
        }
       }
      },
      "image/png": "[encoded data removed]",
      "text/html": [
       "<div>                            <div id=\"f4c29637-55dd-459b-8d4f-464f666346df\" class=\"plotly-graph-div\" style=\"height:525px; width:100%;\"></div>            <script type=\"text/javascript\">                require([\"plotly\"], function(Plotly) {                    window.PLOTLYENV=window.PLOTLYENV || {};                                    if (document.getElementById(\"f4c29637-55dd-459b-8d4f-464f666346df\")) {                    Plotly.newPlot(                        \"f4c29637-55dd-459b-8d4f-464f666346df\",                        [{\"alignmentgroup\":\"True\",\"hovertemplate\":\"category=%{x}<br>n=%{y}<extra></extra>\",\"legendgroup\":\"2seater\",\"marker\":{\"color\":\"#636efa\",\"pattern\":{\"shape\":\"\"}},\"name\":\"2seater\",\"offsetgroup\":\"2seater\",\"orientation\":\"v\",\"showlegend\":true,\"textposition\":\"auto\",\"x\":[\"2seater\"],\"xaxis\":\"x\",\"y\":[5],\"yaxis\":\"y\",\"type\":\"bar\"},{\"alignmentgroup\":\"True\",\"hovertemplate\":\"category=%{x}<br>n=%{y}<extra></extra>\",\"legendgroup\":\"compact\",\"marker\":{\"color\":\"#EF553B\",\"pattern\":{\"shape\":\"\"}},\"name\":\"compact\",\"offsetgroup\":\"compact\",\"orientation\":\"v\",\"showlegend\":true,\"textposition\":\"auto\",\"x\":[\"compact\"],\"xaxis\":\"x\",\"y\":[47],\"yaxis\":\"y\",\"type\":\"bar\"},{\"alignmentgroup\":\"True\",\"hovertemplate\":\"category=%{x}<br>n=%{y}<extra></extra>\",\"legendgroup\":\"midsize\",\"marker\":{\"color\":\"#00cc96\",\"pattern\":{\"shape\":\"\"}},\"name\":\"midsize\",\"offsetgroup\":\"midsize\",\"orientation\":\"v\",\"showlegend\":true,\"textposition\":\"auto\",\"x\":[\"midsize\"],\"xaxis\":\"x\",\"y\":[41],\"yaxis\":\"y\",\"type\":\"bar\"},{\"alignmentgroup\":\"True\",\"hovertemplate\":\"category=%{x}<br>n=%{y}<extra></extra>\",\"legendgroup\":\"minivan\",\"marker\":{\"color\":\"#ab63fa\",\"pattern\":{\"shape\":\"\"}},\"name\":\"minivan\",\"offsetgroup\":\"minivan\",\"orientation\":\"v\",\"showlegend\":true,\"textposition\":\"auto\",\"x\":[\"minivan\"],\"xaxis\":\"x\",\"y\":[11],\"yaxis\":\"y\",\"type\":\"bar\"},{\"alignmentgroup\":\"True\",\"hovertemplate\":\"category=%{x}<br>n=%{y}<extra></extra>\",\"legendgroup\":\"pickup\",\"marker\":{\"color\":\"#FFA15A\",\"pattern\":{\"shape\":\"\"}},\"name\":\"pickup\",\"offsetgroup\":\"pickup\",\"orientation\":\"v\",\"showlegend\":true,\"textposition\":\"auto\",\"x\":[\"pickup\"],\"xaxis\":\"x\",\"y\":[33],\"yaxis\":\"y\",\"type\":\"bar\"},{\"alignmentgroup\":\"True\",\"hovertemplate\":\"category=%{x}<br>n=%{y}<extra></extra>\",\"legendgroup\":\"subcompact\",\"marker\":{\"color\":\"#19d3f3\",\"pattern\":{\"shape\":\"\"}},\"name\":\"subcompact\",\"offsetgroup\":\"subcompact\",\"orientation\":\"v\",\"showlegend\":true,\"textposition\":\"auto\",\"x\":[\"subcompact\"],\"xaxis\":\"x\",\"y\":[35],\"yaxis\":\"y\",\"type\":\"bar\"},{\"alignmentgroup\":\"True\",\"hovertemplate\":\"category=%{x}<br>n=%{y}<extra></extra>\",\"legendgroup\":\"suv\",\"marker\":{\"color\":\"#FF6692\",\"pattern\":{\"shape\":\"\"}},\"name\":\"suv\",\"offsetgroup\":\"suv\",\"orientation\":\"v\",\"showlegend\":true,\"textposition\":\"auto\",\"x\":[\"suv\"],\"xaxis\":\"x\",\"y\":[62],\"yaxis\":\"y\",\"type\":\"bar\"}],                        {\"template\":{\"data\":{\"histogram2dcontour\":[{\"type\":\"histogram2dcontour\",\"colorbar\":{\"outlinewidth\":0,\"ticks\":\"\"},\"colorscale\":[[0.0,\"#0d0887\"],[0.1111111111111111,\"#46039f\"],[0.2222222222222222,\"#7201a8\"],[0.3333333333333333,\"#9c179e\"],[0.4444444444444444,\"#bd3786\"],[0.5555555555555556,\"#d8576b\"],[0.6666666666666666,\"#ed7953\"],[0.7777777777777778,\"#fb9f3a\"],[0.8888888888888888,\"#fdca26\"],[1.0,\"#f0f921\"]]}],\"choropleth\":[{\"type\":\"choropleth\",\"colorbar\":{\"outlinewidth\":0,\"ticks\":\"\"}}],\"histogram2d\":[{\"type\":\"histogram2d\",\"colorbar\":{\"outlinewidth\":0,\"ticks\":\"\"},\"colorscale\":[[0.0,\"#0d0887\"],[0.1111111111111111,\"#46039f\"],[0.2222222222222222,\"#7201a8\"],[0.3333333333333333,\"#9c179e\"],[0.4444444444444444,\"#bd3786\"],[0.5555555555555556,\"#d8576b\"],[0.6666666666666666,\"#ed7953\"],[0.7777777777777778,\"#fb9f3a\"],[0.8888888888888888,\"#fdca26\"],[1.0,\"#f0f921\"]]}],\"heatmap\":[{\"type\":\"heatmap\",\"colorbar\":{\"outlinewidth\":0,\"ticks\":\"\"},\"colorscale\":[[0.0,\"#0d0887\"],[0.1111111111111111,\"#46039f\"],[0.2222222222222222,\"#7201a8\"],[0.3333333333333333,\"#9c179e\"],[0.4444444444444444,\"#bd3786\"],[0.5555555555555556,\"#d8576b\"],[0.6666666666666666,\"#ed7953\"],[0.7777777777777778,\"#fb9f3a\"],[0.8888888888888888,\"#fdca26\"],[1.0,\"#f0f921\"]]}],\"heatmapgl\":[{\"type\":\"heatmapgl\",\"colorbar\":{\"outlinewidth\":0,\"ticks\":\"\"},\"colorscale\":[[0.0,\"#0d0887\"],[0.1111111111111111,\"#46039f\"],[0.2222222222222222,\"#7201a8\"],[0.3333333333333333,\"#9c179e\"],[0.4444444444444444,\"#bd3786\"],[0.5555555555555556,\"#d8576b\"],[0.6666666666666666,\"#ed7953\"],[0.7777777777777778,\"#fb9f3a\"],[0.8888888888888888,\"#fdca26\"],[1.0,\"#f0f921\"]]}],\"contourcarpet\":[{\"type\":\"contourcarpet\",\"colorbar\":{\"outlinewidth\":0,\"ticks\":\"\"}}],\"contour\":[{\"type\":\"contour\",\"colorbar\":{\"outlinewidth\":0,\"ticks\":\"\"},\"colorscale\":[[0.0,\"#0d0887\"],[0.1111111111111111,\"#46039f\"],[0.2222222222222222,\"#7201a8\"],[0.3333333333333333,\"#9c179e\"],[0.4444444444444444,\"#bd3786\"],[0.5555555555555556,\"#d8576b\"],[0.6666666666666666,\"#ed7953\"],[0.7777777777777778,\"#fb9f3a\"],[0.8888888888888888,\"#fdca26\"],[1.0,\"#f0f921\"]]}],\"surface\":[{\"type\":\"surface\",\"colorbar\":{\"outlinewidth\":0,\"ticks\":\"\"},\"colorscale\":[[0.0,\"#0d0887\"],[0.1111111111111111,\"#46039f\"],[0.2222222222222222,\"#7201a8\"],[0.3333333333333333,\"#9c179e\"],[0.4444444444444444,\"#bd3786\"],[0.5555555555555556,\"#d8576b\"],[0.6666666666666666,\"#ed7953\"],[0.7777777777777778,\"#fb9f3a\"],[0.8888888888888888,\"#fdca26\"],[1.0,\"#f0f921\"]]}],\"mesh3d\":[{\"type\":\"mesh3d\",\"colorbar\":{\"outlinewidth\":0,\"ticks\":\"\"}}],\"scatter\":[{\"fillpattern\":{\"fillmode\":\"overlay\",\"size\":10,\"solidity\":0.2},\"type\":\"scatter\"}],\"parcoords\":[{\"type\":\"parcoords\",\"line\":{\"colorbar\":{\"outlinewidth\":0,\"ticks\":\"\"}}}],\"scatterpolargl\":[{\"type\":\"scatterpolargl\",\"marker\":{\"colorbar\":{\"outlinewidth\":0,\"ticks\":\"\"}}}],\"bar\":[{\"error_x\":{\"color\":\"#2a3f5f\"},\"error_y\":{\"color\":\"#2a3f5f\"},\"marker\":{\"line\":{\"color\":\"#E5ECF6\",\"width\":0.5},\"pattern\":{\"fillmode\":\"overlay\",\"size\":10,\"solidity\":0.2}},\"type\":\"bar\"}],\"scattergeo\":[{\"type\":\"scattergeo\",\"marker\":{\"colorbar\":{\"outlinewidth\":0,\"ticks\":\"\"}}}],\"scatterpolar\":[{\"type\":\"scatterpolar\",\"marker\":{\"colorbar\":{\"outlinewidth\":0,\"ticks\":\"\"}}}],\"histogram\":[{\"marker\":{\"pattern\":{\"fillmode\":\"overlay\",\"size\":10,\"solidity\":0.2}},\"type\":\"histogram\"}],\"scattergl\":[{\"type\":\"scattergl\",\"marker\":{\"colorbar\":{\"outlinewidth\":0,\"ticks\":\"\"}}}],\"scatter3d\":[{\"type\":\"scatter3d\",\"line\":{\"colorbar\":{\"outlinewidth\":0,\"ticks\":\"\"}},\"marker\":{\"colorbar\":{\"outlinewidth\":0,\"ticks\":\"\"}}}],\"scattermapbox\":[{\"type\":\"scattermapbox\",\"marker\":{\"colorbar\":{\"outlinewidth\":0,\"ticks\":\"\"}}}],\"scatterternary\":[{\"type\":\"scatterternary\",\"marker\":{\"colorbar\":{\"outlinewidth\":0,\"ticks\":\"\"}}}],\"scattercarpet\":[{\"type\":\"scattercarpet\",\"marker\":{\"colorbar\":{\"outlinewidth\":0,\"ticks\":\"\"}}}],\"carpet\":[{\"aaxis\":{\"endlinecolor\":\"#2a3f5f\",\"gridcolor\":\"white\",\"linecolor\":\"white\",\"minorgridcolor\":\"white\",\"startlinecolor\":\"#2a3f5f\"},\"baxis\":{\"endlinecolor\":\"#2a3f5f\",\"gridcolor\":\"white\",\"linecolor\":\"white\",\"minorgridcolor\":\"white\",\"startlinecolor\":\"#2a3f5f\"},\"type\":\"carpet\"}],\"table\":[{\"cells\":{\"fill\":{\"color\":\"#EBF0F8\"},\"line\":{\"color\":\"white\"}},\"header\":{\"fill\":{\"color\":\"#C8D4E3\"},\"line\":{\"color\":\"white\"}},\"type\":\"table\"}],\"barpolar\":[{\"marker\":{\"line\":{\"color\":\"#E5ECF6\",\"width\":0.5},\"pattern\":{\"fillmode\":\"overlay\",\"size\":10,\"solidity\":0.2}},\"type\":\"barpolar\"}],\"pie\":[{\"automargin\":true,\"type\":\"pie\"}]},\"layout\":{\"autotypenumbers\":\"strict\",\"colorway\":[\"#636efa\",\"#EF553B\",\"#00cc96\",\"#ab63fa\",\"#FFA15A\",\"#19d3f3\",\"#FF6692\",\"#B6E880\",\"#FF97FF\",\"#FECB52\"],\"font\":{\"color\":\"#2a3f5f\"},\"hovermode\":\"closest\",\"hoverlabel\":{\"align\":\"left\"},\"paper_bgcolor\":\"white\",\"plot_bgcolor\":\"#E5ECF6\",\"polar\":{\"bgcolor\":\"#E5ECF6\",\"angularaxis\":{\"gridcolor\":\"white\",\"linecolor\":\"white\",\"ticks\":\"\"},\"radialaxis\":{\"gridcolor\":\"white\",\"linecolor\":\"white\",\"ticks\":\"\"}},\"ternary\":{\"bgcolor\":\"#E5ECF6\",\"aaxis\":{\"gridcolor\":\"white\",\"linecolor\":\"white\",\"ticks\":\"\"},\"baxis\":{\"gridcolor\":\"white\",\"linecolor\":\"white\",\"ticks\":\"\"},\"caxis\":{\"gridcolor\":\"white\",\"linecolor\":\"white\",\"ticks\":\"\"}},\"coloraxis\":{\"colorbar\":{\"outlinewidth\":0,\"ticks\":\"\"}},\"colorscale\":{\"sequential\":[[0.0,\"#0d0887\"],[0.1111111111111111,\"#46039f\"],[0.2222222222222222,\"#7201a8\"],[0.3333333333333333,\"#9c179e\"],[0.4444444444444444,\"#bd3786\"],[0.5555555555555556,\"#d8576b\"],[0.6666666666666666,\"#ed7953\"],[0.7777777777777778,\"#fb9f3a\"],[0.8888888888888888,\"#fdca26\"],[1.0,\"#f0f921\"]],\"sequentialminus\":[[0.0,\"#0d0887\"],[0.1111111111111111,\"#46039f\"],[0.2222222222222222,\"#7201a8\"],[0.3333333333333333,\"#9c179e\"],[0.4444444444444444,\"#bd3786\"],[0.5555555555555556,\"#d8576b\"],[0.6666666666666666,\"#ed7953\"],[0.7777777777777778,\"#fb9f3a\"],[0.8888888888888888,\"#fdca26\"],[1.0,\"#f0f921\"]],\"diverging\":[[0,\"#8e0152\"],[0.1,\"#c51b7d\"],[0.2,\"#de77ae\"],[0.3,\"#f1b6da\"],[0.4,\"#fde0ef\"],[0.5,\"#f7f7f7\"],[0.6,\"#e6f5d0\"],[0.7,\"#b8e186\"],[0.8,\"#7fbc41\"],[0.9,\"#4d9221\"],[1,\"#276419\"]]},\"xaxis\":{\"gridcolor\":\"white\",\"linecolor\":\"white\",\"ticks\":\"\",\"title\":{\"standoff\":15},\"zerolinecolor\":\"white\",\"automargin\":true,\"zerolinewidth\":2},\"yaxis\":{\"gridcolor\":\"white\",\"linecolor\":\"white\",\"ticks\":\"\",\"title\":{\"standoff\":15},\"zerolinecolor\":\"white\",\"automargin\":true,\"zerolinewidth\":2},\"scene\":{\"xaxis\":{\"backgroundcolor\":\"#E5ECF6\",\"gridcolor\":\"white\",\"linecolor\":\"white\",\"showbackground\":true,\"ticks\":\"\",\"zerolinecolor\":\"white\",\"gridwidth\":2},\"yaxis\":{\"backgroundcolor\":\"#E5ECF6\",\"gridcolor\":\"white\",\"linecolor\":\"white\",\"showbackground\":true,\"ticks\":\"\",\"zerolinecolor\":\"white\",\"gridwidth\":2},\"zaxis\":{\"backgroundcolor\":\"#E5ECF6\",\"gridcolor\":\"white\",\"linecolor\":\"white\",\"showbackground\":true,\"ticks\":\"\",\"zerolinecolor\":\"white\",\"gridwidth\":2}},\"shapedefaults\":{\"line\":{\"color\":\"#2a3f5f\"}},\"annotationdefaults\":{\"arrowcolor\":\"#2a3f5f\",\"arrowhead\":0,\"arrowwidth\":1},\"geo\":{\"bgcolor\":\"white\",\"landcolor\":\"#E5ECF6\",\"subunitcolor\":\"white\",\"showland\":true,\"showlakes\":true,\"lakecolor\":\"white\"},\"title\":{\"x\":0.05},\"mapbox\":{\"style\":\"light\"}}},\"xaxis\":{\"anchor\":\"y\",\"domain\":[0.0,1.0],\"title\":{\"text\":\"category\"},\"categoryorder\":\"array\",\"categoryarray\":[\"2seater\",\"compact\",\"midsize\",\"minivan\",\"pickup\",\"subcompact\",\"suv\"]},\"yaxis\":{\"anchor\":\"x\",\"domain\":[0.0,1.0],\"title\":{\"text\":\"n\"}},\"legend\":{\"title\":{\"text\":\"category\"},\"tracegroupgap\":0},\"margin\":{\"t\":60},\"barmode\":\"relative\"},                        {\"responsive\": true}                    ).then(function(){\n",
       "                            \n",
       "var gd = document.getElementById('f4c29637-55dd-459b-8d4f-464f666346df');\n",
       "var x = new MutationObserver(function (mutations, observer) {{\n",
       "        var display = window.getComputedStyle(gd).display;\n",
       "        if (!display || display === 'none') {{\n",
       "            console.log([gd, 'removed!']);\n",
       "            Plotly.purge(gd);\n",
       "            observer.disconnect();\n",
       "        }}\n",
       "}});\n",
       "\n",
       "// Listen for the removal of the full notebook cells\n",
       "var notebookContainer = gd.closest('#notebook-container');\n",
       "if (notebookContainer) {{\n",
       "    x.observe(notebookContainer, {childList: true});\n",
       "}}\n",
       "\n",
       "// Listen for the clearing of the current output cell\n",
       "var outputEl = gd.closest('.output');\n",
       "if (outputEl) {{\n",
       "    x.observe(outputEl, {childList: true});\n",
       "}}\n",
       "\n",
       "                        })                };                });            </script>        </div>"
      ]
     },
     "metadata": {},
     "output_type": "display_data"
    }
   ],
   "source": [
    "# 막대 그래프 만들기\n",
    "px.bar(data_frame = df, x = 'category', y = 'n', color = 'category')"
   ]
  },
  {
   "cell_type": "markdown",
   "id": "d5b9f383",
   "metadata": {},
   "source": [
    "### 선 그래프 만들기"
   ]
  },
  {
   "cell_type": "code",
   "execution_count": 5,
   "id": "d9e79a9e",
   "metadata": {
    "eval": false
   },
   "outputs": [
    {
     "data": {
      "application/vnd.plotly.v1+json": {
       "config": {
        "plotlyServerURL": "https://plot.ly"
       },
       "data": [
        {
         "hovertemplate": "date=%{x}<br>psavert=%{y}<extra></extra>",
         "legendgroup": "",
         "line": {
          "color": "#636efa",
          "dash": "solid"
         },
         "marker": {
          "symbol": "circle"
         },
         "mode": "lines",
         "name": "",
         "orientation": "v",
         "showlegend": false,
         "type": "scatter",
         "x": [
          "1967-07-01",
          "1967-08-01",
          "1967-09-01",
          "1967-10-01",
          "1967-11-01",
          "1967-12-01",
          "1968-01-01",
          "1968-02-01",
          "1968-03-01",
          "1968-04-01",
          "1968-05-01",
          "1968-06-01",
          "1968-07-01",
          "1968-08-01",
          "1968-09-01",
          "1968-10-01",
          "1968-11-01",
          "1968-12-01",
          "1969-01-01",
          "1969-02-01",
          "1969-03-01",
          "1969-04-01",
          "1969-05-01",
          "1969-06-01",
          "1969-07-01",
          "1969-08-01",
          "1969-09-01",
          "1969-10-01",
          "1969-11-01",
          "1969-12-01",
          "1970-01-01",
          "1970-02-01",
          "1970-03-01",
          "1970-04-01",
          "1970-05-01",
          "1970-06-01",
          "1970-07-01",
          "1970-08-01",
          "1970-09-01",
          "1970-10-01",
          "1970-11-01",
          "1970-12-01",
          "1971-01-01",
          "1971-02-01",
          "1971-03-01",
          "1971-04-01",
          "1971-05-01",
          "1971-06-01",
          "1971-07-01",
          "1971-08-01",
          "1971-09-01",
          "1971-10-01",
          "1971-11-01",
          "1971-12-01",
          "1972-01-01",
          "1972-02-01",
          "1972-03-01",
          "1972-04-01",
          "1972-05-01",
          "1972-06-01",
          "1972-07-01",
          "1972-08-01",
          "1972-09-01",
          "1972-10-01",
          "1972-11-01",
          "1972-12-01",
          "1973-01-01",
          "1973-02-01",
          "1973-03-01",
          "1973-04-01",
          "1973-05-01",
          "1973-06-01",
          "1973-07-01",
          "1973-08-01",
          "1973-09-01",
          "1973-10-01",
          "1973-11-01",
          "1973-12-01",
          "1974-01-01",
          "1974-02-01",
          "1974-03-01",
          "1974-04-01",
          "1974-05-01",
          "1974-06-01",
          "1974-07-01",
          "1974-08-01",
          "1974-09-01",
          "1974-10-01",
          "1974-11-01",
          "1974-12-01",
          "1975-01-01",
          "1975-02-01",
          "1975-03-01",
          "1975-04-01",
          "1975-05-01",
          "1975-06-01",
          "1975-07-01",
          "1975-08-01",
          "1975-09-01",
          "1975-10-01",
          "1975-11-01",
          "1975-12-01",
          "1976-01-01",
          "1976-02-01",
          "1976-03-01",
          "1976-04-01",
          "1976-05-01",
          "1976-06-01",
          "1976-07-01",
          "1976-08-01",
          "1976-09-01",
          "1976-10-01",
          "1976-11-01",
          "1976-12-01",
          "1977-01-01",
          "1977-02-01",
          "1977-03-01",
          "1977-04-01",
          "1977-05-01",
          "1977-06-01",
          "1977-07-01",
          "1977-08-01",
          "1977-09-01",
          "1977-10-01",
          "1977-11-01",
          "1977-12-01",
          "1978-01-01",
          "1978-02-01",
          "1978-03-01",
          "1978-04-01",
          "1978-05-01",
          "1978-06-01",
          "1978-07-01",
          "1978-08-01",
          "1978-09-01",
          "1978-10-01",
          "1978-11-01",
          "1978-12-01",
          "1979-01-01",
          "1979-02-01",
          "1979-03-01",
          "1979-04-01",
          "1979-05-01",
          "1979-06-01",
          "1979-07-01",
          "1979-08-01",
          "1979-09-01",
          "1979-10-01",
          "1979-11-01",
          "1979-12-01",
          "1980-01-01",
          "1980-02-01",
          "1980-03-01",
          "1980-04-01",
          "1980-05-01",
          "1980-06-01",
          "1980-07-01",
          "1980-08-01",
          "1980-09-01",
          "1980-10-01",
          "1980-11-01",
          "1980-12-01",
          "1981-01-01",
          "1981-02-01",
          "1981-03-01",
          "1981-04-01",
          "1981-05-01",
          "1981-06-01",
          "1981-07-01",
          "1981-08-01",
          "1981-09-01",
          "1981-10-01",
          "1981-11-01",
          "1981-12-01",
          "1982-01-01",
          "1982-02-01",
          "1982-03-01",
          "1982-04-01",
          "1982-05-01",
          "1982-06-01",
          "1982-07-01",
          "1982-08-01",
          "1982-09-01",
          "1982-10-01",
          "1982-11-01",
          "1982-12-01",
          "1983-01-01",
          "1983-02-01",
          "1983-03-01",
          "1983-04-01",
          "1983-05-01",
          "1983-06-01",
          "1983-07-01",
          "1983-08-01",
          "1983-09-01",
          "1983-10-01",
          "1983-11-01",
          "1983-12-01",
          "1984-01-01",
          "1984-02-01",
          "1984-03-01",
          "1984-04-01",
          "1984-05-01",
          "1984-06-01",
          "1984-07-01",
          "1984-08-01",
          "1984-09-01",
          "1984-10-01",
          "1984-11-01",
          "1984-12-01",
          "1985-01-01",
          "1985-02-01",
          "1985-03-01",
          "1985-04-01",
          "1985-05-01",
          "1985-06-01",
          "1985-07-01",
          "1985-08-01",
          "1985-09-01",
          "1985-10-01",
          "1985-11-01",
          "1985-12-01",
          "1986-01-01",
          "1986-02-01",
          "1986-03-01",
          "1986-04-01",
          "1986-05-01",
          "1986-06-01",
          "1986-07-01",
          "1986-08-01",
          "1986-09-01",
          "1986-10-01",
          "1986-11-01",
          "1986-12-01",
          "1987-01-01",
          "1987-02-01",
          "1987-03-01",
          "1987-04-01",
          "1987-05-01",
          "1987-06-01",
          "1987-07-01",
          "1987-08-01",
          "1987-09-01",
          "1987-10-01",
          "1987-11-01",
          "1987-12-01",
          "1988-01-01",
          "1988-02-01",
          "1988-03-01",
          "1988-04-01",
          "1988-05-01",
          "1988-06-01",
          "1988-07-01",
          "1988-08-01",
          "1988-09-01",
          "1988-10-01",
          "1988-11-01",
          "1988-12-01",
          "1989-01-01",
          "1989-02-01",
          "1989-03-01",
          "1989-04-01",
          "1989-05-01",
          "1989-06-01",
          "1989-07-01",
          "1989-08-01",
          "1989-09-01",
          "1989-10-01",
          "1989-11-01",
          "1989-12-01",
          "1990-01-01",
          "1990-02-01",
          "1990-03-01",
          "1990-04-01",
          "1990-05-01",
          "1990-06-01",
          "1990-07-01",
          "1990-08-01",
          "1990-09-01",
          "1990-10-01",
          "1990-11-01",
          "1990-12-01",
          "1991-01-01",
          "1991-02-01",
          "1991-03-01",
          "1991-04-01",
          "1991-05-01",
          "1991-06-01",
          "1991-07-01",
          "1991-08-01",
          "1991-09-01",
          "1991-10-01",
          "1991-11-01",
          "1991-12-01",
          "1992-01-01",
          "1992-02-01",
          "1992-03-01",
          "1992-04-01",
          "1992-05-01",
          "1992-06-01",
          "1992-07-01",
          "1992-08-01",
          "1992-09-01",
          "1992-10-01",
          "1992-11-01",
          "1992-12-01",
          "1993-01-01",
          "1993-02-01",
          "1993-03-01",
          "1993-04-01",
          "1993-05-01",
          "1993-06-01",
          "1993-07-01",
          "1993-08-01",
          "1993-09-01",
          "1993-10-01",
          "1993-11-01",
          "1993-12-01",
          "1994-01-01",
          "1994-02-01",
          "1994-03-01",
          "1994-04-01",
          "1994-05-01",
          "1994-06-01",
          "1994-07-01",
          "1994-08-01",
          "1994-09-01",
          "1994-10-01",
          "1994-11-01",
          "1994-12-01",
          "1995-01-01",
          "1995-02-01",
          "1995-03-01",
          "1995-04-01",
          "1995-05-01",
          "1995-06-01",
          "1995-07-01",
          "1995-08-01",
          "1995-09-01",
          "1995-10-01",
          "1995-11-01",
          "1995-12-01",
          "1996-01-01",
          "1996-02-01",
          "1996-03-01",
          "1996-04-01",
          "1996-05-01",
          "1996-06-01",
          "1996-07-01",
          "1996-08-01",
          "1996-09-01",
          "1996-10-01",
          "1996-11-01",
          "1996-12-01",
          "1997-01-01",
          "1997-02-01",
          "1997-03-01",
          "1997-04-01",
          "1997-05-01",
          "1997-06-01",
          "1997-07-01",
          "1997-08-01",
          "1997-09-01",
          "1997-10-01",
          "1997-11-01",
          "1997-12-01",
          "1998-01-01",
          "1998-02-01",
          "1998-03-01",
          "1998-04-01",
          "1998-05-01",
          "1998-06-01",
          "1998-07-01",
          "1998-08-01",
          "1998-09-01",
          "1998-10-01",
          "1998-11-01",
          "1998-12-01",
          "1999-01-01",
          "1999-02-01",
          "1999-03-01",
          "1999-04-01",
          "1999-05-01",
          "1999-06-01",
          "1999-07-01",
          "1999-08-01",
          "1999-09-01",
          "1999-10-01",
          "1999-11-01",
          "1999-12-01",
          "2000-01-01",
          "2000-02-01",
          "2000-03-01",
          "2000-04-01",
          "2000-05-01",
          "2000-06-01",
          "2000-07-01",
          "2000-08-01",
          "2000-09-01",
          "2000-10-01",
          "2000-11-01",
          "2000-12-01",
          "2001-01-01",
          "2001-02-01",
          "2001-03-01",
          "2001-04-01",
          "2001-05-01",
          "2001-06-01",
          "2001-07-01",
          "2001-08-01",
          "2001-09-01",
          "2001-10-01",
          "2001-11-01",
          "2001-12-01",
          "2002-01-01",
          "2002-02-01",
          "2002-03-01",
          "2002-04-01",
          "2002-05-01",
          "2002-06-01",
          "2002-07-01",
          "2002-08-01",
          "2002-09-01",
          "2002-10-01",
          "2002-11-01",
          "2002-12-01",
          "2003-01-01",
          "2003-02-01",
          "2003-03-01",
          "2003-04-01",
          "2003-05-01",
          "2003-06-01",
          "2003-07-01",
          "2003-08-01",
          "2003-09-01",
          "2003-10-01",
          "2003-11-01",
          "2003-12-01",
          "2004-01-01",
          "2004-02-01",
          "2004-03-01",
          "2004-04-01",
          "2004-05-01",
          "2004-06-01",
          "2004-07-01",
          "2004-08-01",
          "2004-09-01",
          "2004-10-01",
          "2004-11-01",
          "2004-12-01",
          "2005-01-01",
          "2005-02-01",
          "2005-03-01",
          "2005-04-01",
          "2005-05-01",
          "2005-06-01",
          "2005-07-01",
          "2005-08-01",
          "2005-09-01",
          "2005-10-01",
          "2005-11-01",
          "2005-12-01",
          "2006-01-01",
          "2006-02-01",
          "2006-03-01",
          "2006-04-01",
          "2006-05-01",
          "2006-06-01",
          "2006-07-01",
          "2006-08-01",
          "2006-09-01",
          "2006-10-01",
          "2006-11-01",
          "2006-12-01",
          "2007-01-01",
          "2007-02-01",
          "2007-03-01",
          "2007-04-01",
          "2007-05-01",
          "2007-06-01",
          "2007-07-01",
          "2007-08-01",
          "2007-09-01",
          "2007-10-01",
          "2007-11-01",
          "2007-12-01",
          "2008-01-01",
          "2008-02-01",
          "2008-03-01",
          "2008-04-01",
          "2008-05-01",
          "2008-06-01",
          "2008-07-01",
          "2008-08-01",
          "2008-09-01",
          "2008-10-01",
          "2008-11-01",
          "2008-12-01",
          "2009-01-01",
          "2009-02-01",
          "2009-03-01",
          "2009-04-01",
          "2009-05-01",
          "2009-06-01",
          "2009-07-01",
          "2009-08-01",
          "2009-09-01",
          "2009-10-01",
          "2009-11-01",
          "2009-12-01",
          "2010-01-01",
          "2010-02-01",
          "2010-03-01",
          "2010-04-01",
          "2010-05-01",
          "2010-06-01",
          "2010-07-01",
          "2010-08-01",
          "2010-09-01",
          "2010-10-01",
          "2010-11-01",
          "2010-12-01",
          "2011-01-01",
          "2011-02-01",
          "2011-03-01",
          "2011-04-01",
          "2011-05-01",
          "2011-06-01",
          "2011-07-01",
          "2011-08-01",
          "2011-09-01",
          "2011-10-01",
          "2011-11-01",
          "2011-12-01",
          "2012-01-01",
          "2012-02-01",
          "2012-03-01",
          "2012-04-01",
          "2012-05-01",
          "2012-06-01",
          "2012-07-01",
          "2012-08-01",
          "2012-09-01",
          "2012-10-01",
          "2012-11-01",
          "2012-12-01",
          "2013-01-01",
          "2013-02-01",
          "2013-03-01",
          "2013-04-01",
          "2013-05-01",
          "2013-06-01",
          "2013-07-01",
          "2013-08-01",
          "2013-09-01",
          "2013-10-01",
          "2013-11-01",
          "2013-12-01",
          "2014-01-01",
          "2014-02-01",
          "2014-03-01",
          "2014-04-01",
          "2014-05-01",
          "2014-06-01",
          "2014-07-01",
          "2014-08-01",
          "2014-09-01",
          "2014-10-01",
          "2014-11-01",
          "2014-12-01",
          "2015-01-01",
          "2015-02-01",
          "2015-03-01",
          "2015-04-01"
         ],
         "xaxis": "x",
         "y": [
          12.6,
          12.6,
          11.9,
          12.9,
          12.8,
          11.8,
          11.7,
          12.3,
          11.7,
          12.3,
          12,
          11.7,
          10.7,
          10.5,
          10.6,
          10.8,
          10.6,
          11.1,
          10.3,
          9.7,
          10.2,
          9.7,
          10.1,
          11.1,
          11.8,
          11.5,
          11.6,
          11.4,
          11.6,
          11.8,
          11.8,
          11.7,
          12.4,
          13.3,
          12.4,
          12.3,
          13.5,
          13.4,
          12.9,
          13.1,
          13.6,
          13.2,
          13.3,
          13.3,
          13.5,
          13.2,
          13.6,
          14.7,
          13.8,
          13.6,
          13.3,
          13.3,
          13.1,
          13,
          12.5,
          12.8,
          11.8,
          11.5,
          11.7,
          11.7,
          11.7,
          12,
          12.2,
          13,
          13.6,
          13.7,
          12.4,
          12.5,
          12.7,
          13.2,
          13.2,
          13.6,
          13.2,
          13.9,
          13.1,
          14.4,
          14.4,
          14.8,
          14.3,
          14.2,
          13.4,
          13.1,
          12.8,
          12.8,
          12.8,
          12.1,
          12.9,
          13.4,
          13.8,
          14,
          13.2,
          12.5,
          12.7,
          14.2,
          17.3,
          14.3,
          12.6,
          13,
          13,
          13.4,
          12.7,
          12,
          11.7,
          12.3,
          12.2,
          11.7,
          12.3,
          11.4,
          11.7,
          11.7,
          11.4,
          11.1,
          11.4,
          10.6,
          10.6,
          9.3,
          10.5,
          10.5,
          10.3,
          10.6,
          10.5,
          10.9,
          11.1,
          11,
          11.2,
          11.4,
          11.9,
          11.1,
          11,
          10.8,
          10.3,
          10,
          10.9,
          10.5,
          10.6,
          10.7,
          10.5,
          10.4,
          11.1,
          11.1,
          11.2,
          11,
          10.3,
          9.9,
          10.6,
          9.7,
          9.4,
          9.7,
          9.7,
          10.1,
          9.9,
          10.1,
          10.2,
          11.3,
          11.4,
          11.2,
          11.3,
          11.3,
          11.7,
          11.3,
          11.6,
          11.4,
          10.9,
          10.8,
          10.8,
          10.9,
          11,
          10.8,
          12.3,
          12,
          12.4,
          13,
          13.2,
          12.5,
          12.7,
          12.1,
          12.2,
          12.9,
          12.3,
          12.3,
          12.5,
          12.6,
          11.8,
          11.3,
          10.9,
          10.9,
          11.1,
          11.1,
          10.6,
          10.3,
          9.9,
          9.1,
          9.6,
          9.2,
          9.6,
          9.7,
          10.3,
          10.1,
          10,
          11.7,
          11.5,
          11.5,
          11.1,
          11.1,
          11.6,
          11.8,
          11.8,
          11.7,
          10.9,
          11.2,
          10.3,
          9.1,
          8.7,
          9.9,
          11.1,
          9.6,
          9.1,
          8.2,
          7.3,
          9.1,
          9,
          8.6,
          8.6,
          9.3,
          9.9,
          9.7,
          9.3,
          9.4,
          9.3,
          9,
          7.2,
          8.4,
          8.8,
          7,
          9.7,
          8.5,
          8.5,
          4.5,
          8.2,
          7.7,
          7.5,
          7.2,
          7.6,
          8.3,
          8.5,
          8.7,
          8.1,
          8.6,
          8.2,
          8.8,
          8.4,
          8.4,
          8.6,
          8.4,
          8.9,
          8.6,
          8.4,
          8.3,
          8.5,
          9,
          9.5,
          8.4,
          8.1,
          8.2,
          8.2,
          7.6,
          8.1,
          8.5,
          8.6,
          7.8,
          8,
          8.6,
          8.3,
          8.8,
          8.7,
          8.6,
          8.7,
          8.1,
          8.1,
          7.8,
          7.9,
          8.8,
          9.3,
          8.8,
          8,
          8.6,
          8.4,
          8.9,
          8.2,
          8.6,
          8.8,
          9.3,
          9,
          9.7,
          9.4,
          9.8,
          9.7,
          9.9,
          9.9,
          10.1,
          9.6,
          9.7,
          8.7,
          8,
          8,
          10.6,
          8.6,
          8.9,
          8.9,
          8.7,
          8.3,
          7.8,
          7.6,
          7.7,
          6.9,
          6.3,
          6.3,
          9.1,
          7.1,
          6.5,
          6.8,
          6.4,
          7.6,
          6.9,
          7,
          6.5,
          6.8,
          7.1,
          7,
          7.2,
          7.5,
          7.8,
          7.5,
          6.9,
          7.1,
          6.7,
          7.1,
          6.7,
          6.8,
          7.1,
          6.6,
          6.1,
          6.7,
          6.7,
          6.6,
          5.7,
          6.7,
          7.1,
          6.7,
          6.6,
          6.7,
          6.4,
          6.4,
          6.4,
          6.2,
          6.2,
          6.4,
          6.5,
          6.8,
          6.6,
          6.1,
          6,
          6.2,
          6.2,
          6.4,
          6.4,
          7.4,
          7.4,
          7.5,
          7.2,
          6.9,
          6.8,
          6.9,
          6.8,
          6.4,
          6.2,
          6.3,
          5.8,
          6.4,
          6.2,
          5.9,
          5.2,
          4.9,
          4.8,
          4.8,
          4.7,
          4.2,
          4.6,
          4.8,
          4.4,
          5.4,
          4.8,
          4.5,
          5,
          4.9,
          4.9,
          5.2,
          5.2,
          4.5,
          4.6,
          4.5,
          4.2,
          4.8,
          4.9,
          5.3,
          5,
          4.5,
          4.5,
          5.6,
          6.8,
          7,
          3.4,
          4.1,
          4.5,
          6.1,
          5.8,
          5.9,
          5.8,
          6.5,
          6.4,
          5.5,
          5.4,
          5.7,
          5.7,
          5.7,
          5.5,
          5.5,
          5.6,
          5.3,
          5.3,
          5.8,
          5.6,
          6.3,
          6,
          5.2,
          5.3,
          5.4,
          5.4,
          5,
          5,
          4.9,
          5.3,
          5.3,
          5.8,
          5.3,
          5.2,
          4.6,
          4.5,
          4.1,
          6.9,
          3.7,
          3.4,
          3.6,
          3.1,
          3.5,
          2.9,
          2.2,
          2.7,
          2.7,
          3.1,
          3.5,
          3.7,
          4.2,
          4.2,
          4.2,
          4,
          3.8,
          4,
          3.4,
          3.6,
          3.6,
          3.6,
          3.9,
          3.7,
          3.7,
          4.1,
          4.4,
          4.2,
          4,
          3.8,
          3.7,
          3.4,
          3.5,
          3.4,
          3.1,
          3.6,
          3.7,
          4.1,
          4,
          3.4,
          7.8,
          5.5,
          4.4,
          3.8,
          4.7,
          5.5,
          6.4,
          6.4,
          6.2,
          5.5,
          5.9,
          6.8,
          8.2,
          6.7,
          6,
          4.9,
          5.9,
          5.4,
          5.9,
          5.9,
          6.1,
          5.8,
          5.7,
          6.4,
          7,
          6.9,
          6.8,
          6.9,
          6.7,
          6.6,
          6.6,
          7.1,
          7.4,
          7.6,
          7,
          6.9,
          6.9,
          7.2,
          7.3,
          7.2,
          6.8,
          6.8,
          7,
          7.8,
          8,
          8,
          8.5,
          8.7,
          8.8,
          9.1,
          8.2,
          8,
          8.2,
          8.8,
          9.7,
          12,
          6.3,
          5.8,
          5.9,
          6.4,
          6.7,
          6.8,
          6.6,
          6.7,
          6.8,
          6.3,
          6.2,
          6.4,
          7.1,
          7.3,
          7.4,
          7.4,
          7.4,
          7.4,
          7.5,
          7.2,
          7.4,
          7.2,
          7.3,
          7.6,
          7.7,
          7.9,
          7.4,
          7.6
         ],
         "yaxis": "y"
        }
       ],
       "layout": {
        "autosize": true,
        "legend": {
         "tracegroupgap": 0
        },
        "margin": {
         "t": 60
        },
        "template": {
         "data": {
          "bar": [
           {
            "error_x": {
             "color": "#2a3f5f"
            },
            "error_y": {
             "color": "#2a3f5f"
            },
            "marker": {
             "line": {
              "color": "#E5ECF6",
              "width": 0.5
             },
             "pattern": {
              "fillmode": "overlay",
              "size": 10,
              "solidity": 0.2
             }
            },
            "type": "bar"
           }
          ],
          "barpolar": [
           {
            "marker": {
             "line": {
              "color": "#E5ECF6",
              "width": 0.5
             },
             "pattern": {
              "fillmode": "overlay",
              "size": 10,
              "solidity": 0.2
             }
            },
            "type": "barpolar"
           }
          ],
          "carpet": [
           {
            "aaxis": {
             "endlinecolor": "#2a3f5f",
             "gridcolor": "white",
             "linecolor": "white",
             "minorgridcolor": "white",
             "startlinecolor": "#2a3f5f"
            },
            "baxis": {
             "endlinecolor": "#2a3f5f",
             "gridcolor": "white",
             "linecolor": "white",
             "minorgridcolor": "white",
             "startlinecolor": "#2a3f5f"
            },
            "type": "carpet"
           }
          ],
          "choropleth": [
           {
            "colorbar": {
             "outlinewidth": 0,
             "ticks": ""
            },
            "type": "choropleth"
           }
          ],
          "contour": [
           {
            "colorbar": {
             "outlinewidth": 0,
             "ticks": ""
            },
            "colorscale": [
             [
              0,
              "#0d0887"
             ],
             [
              0.1111111111111111,
              "#46039f"
             ],
             [
              0.2222222222222222,
              "#7201a8"
             ],
             [
              0.3333333333333333,
              "#9c179e"
             ],
             [
              0.4444444444444444,
              "#bd3786"
             ],
             [
              0.5555555555555556,
              "#d8576b"
             ],
             [
              0.6666666666666666,
              "#ed7953"
             ],
             [
              0.7777777777777778,
              "#fb9f3a"
             ],
             [
              0.8888888888888888,
              "#fdca26"
             ],
             [
              1,
              "#f0f921"
             ]
            ],
            "type": "contour"
           }
          ],
          "contourcarpet": [
           {
            "colorbar": {
             "outlinewidth": 0,
             "ticks": ""
            },
            "type": "contourcarpet"
           }
          ],
          "heatmap": [
           {
            "colorbar": {
             "outlinewidth": 0,
             "ticks": ""
            },
            "colorscale": [
             [
              0,
              "#0d0887"
             ],
             [
              0.1111111111111111,
              "#46039f"
             ],
             [
              0.2222222222222222,
              "#7201a8"
             ],
             [
              0.3333333333333333,
              "#9c179e"
             ],
             [
              0.4444444444444444,
              "#bd3786"
             ],
             [
              0.5555555555555556,
              "#d8576b"
             ],
             [
              0.6666666666666666,
              "#ed7953"
             ],
             [
              0.7777777777777778,
              "#fb9f3a"
             ],
             [
              0.8888888888888888,
              "#fdca26"
             ],
             [
              1,
              "#f0f921"
             ]
            ],
            "type": "heatmap"
           }
          ],
          "heatmapgl": [
           {
            "colorbar": {
             "outlinewidth": 0,
             "ticks": ""
            },
            "colorscale": [
             [
              0,
              "#0d0887"
             ],
             [
              0.1111111111111111,
              "#46039f"
             ],
             [
              0.2222222222222222,
              "#7201a8"
             ],
             [
              0.3333333333333333,
              "#9c179e"
             ],
             [
              0.4444444444444444,
              "#bd3786"
             ],
             [
              0.5555555555555556,
              "#d8576b"
             ],
             [
              0.6666666666666666,
              "#ed7953"
             ],
             [
              0.7777777777777778,
              "#fb9f3a"
             ],
             [
              0.8888888888888888,
              "#fdca26"
             ],
             [
              1,
              "#f0f921"
             ]
            ],
            "type": "heatmapgl"
           }
          ],
          "histogram": [
           {
            "marker": {
             "pattern": {
              "fillmode": "overlay",
              "size": 10,
              "solidity": 0.2
             }
            },
            "type": "histogram"
           }
          ],
          "histogram2d": [
           {
            "colorbar": {
             "outlinewidth": 0,
             "ticks": ""
            },
            "colorscale": [
             [
              0,
              "#0d0887"
             ],
             [
              0.1111111111111111,
              "#46039f"
             ],
             [
              0.2222222222222222,
              "#7201a8"
             ],
             [
              0.3333333333333333,
              "#9c179e"
             ],
             [
              0.4444444444444444,
              "#bd3786"
             ],
             [
              0.5555555555555556,
              "#d8576b"
             ],
             [
              0.6666666666666666,
              "#ed7953"
             ],
             [
              0.7777777777777778,
              "#fb9f3a"
             ],
             [
              0.8888888888888888,
              "#fdca26"
             ],
             [
              1,
              "#f0f921"
             ]
            ],
            "type": "histogram2d"
           }
          ],
          "histogram2dcontour": [
           {
            "colorbar": {
             "outlinewidth": 0,
             "ticks": ""
            },
            "colorscale": [
             [
              0,
              "#0d0887"
             ],
             [
              0.1111111111111111,
              "#46039f"
             ],
             [
              0.2222222222222222,
              "#7201a8"
             ],
             [
              0.3333333333333333,
              "#9c179e"
             ],
             [
              0.4444444444444444,
              "#bd3786"
             ],
             [
              0.5555555555555556,
              "#d8576b"
             ],
             [
              0.6666666666666666,
              "#ed7953"
             ],
             [
              0.7777777777777778,
              "#fb9f3a"
             ],
             [
              0.8888888888888888,
              "#fdca26"
             ],
             [
              1,
              "#f0f921"
             ]
            ],
            "type": "histogram2dcontour"
           }
          ],
          "mesh3d": [
           {
            "colorbar": {
             "outlinewidth": 0,
             "ticks": ""
            },
            "type": "mesh3d"
           }
          ],
          "parcoords": [
           {
            "line": {
             "colorbar": {
              "outlinewidth": 0,
              "ticks": ""
             }
            },
            "type": "parcoords"
           }
          ],
          "pie": [
           {
            "automargin": true,
            "type": "pie"
           }
          ],
          "scatter": [
           {
            "fillpattern": {
             "fillmode": "overlay",
             "size": 10,
             "solidity": 0.2
            },
            "type": "scatter"
           }
          ],
          "scatter3d": [
           {
            "line": {
             "colorbar": {
              "outlinewidth": 0,
              "ticks": ""
             }
            },
            "marker": {
             "colorbar": {
              "outlinewidth": 0,
              "ticks": ""
             }
            },
            "type": "scatter3d"
           }
          ],
          "scattercarpet": [
           {
            "marker": {
             "colorbar": {
              "outlinewidth": 0,
              "ticks": ""
             }
            },
            "type": "scattercarpet"
           }
          ],
          "scattergeo": [
           {
            "marker": {
             "colorbar": {
              "outlinewidth": 0,
              "ticks": ""
             }
            },
            "type": "scattergeo"
           }
          ],
          "scattergl": [
           {
            "marker": {
             "colorbar": {
              "outlinewidth": 0,
              "ticks": ""
             }
            },
            "type": "scattergl"
           }
          ],
          "scattermapbox": [
           {
            "marker": {
             "colorbar": {
              "outlinewidth": 0,
              "ticks": ""
             }
            },
            "type": "scattermapbox"
           }
          ],
          "scatterpolar": [
           {
            "marker": {
             "colorbar": {
              "outlinewidth": 0,
              "ticks": ""
             }
            },
            "type": "scatterpolar"
           }
          ],
          "scatterpolargl": [
           {
            "marker": {
             "colorbar": {
              "outlinewidth": 0,
              "ticks": ""
             }
            },
            "type": "scatterpolargl"
           }
          ],
          "scatterternary": [
           {
            "marker": {
             "colorbar": {
              "outlinewidth": 0,
              "ticks": ""
             }
            },
            "type": "scatterternary"
           }
          ],
          "surface": [
           {
            "colorbar": {
             "outlinewidth": 0,
             "ticks": ""
            },
            "colorscale": [
             [
              0,
              "#0d0887"
             ],
             [
              0.1111111111111111,
              "#46039f"
             ],
             [
              0.2222222222222222,
              "#7201a8"
             ],
             [
              0.3333333333333333,
              "#9c179e"
             ],
             [
              0.4444444444444444,
              "#bd3786"
             ],
             [
              0.5555555555555556,
              "#d8576b"
             ],
             [
              0.6666666666666666,
              "#ed7953"
             ],
             [
              0.7777777777777778,
              "#fb9f3a"
             ],
             [
              0.8888888888888888,
              "#fdca26"
             ],
             [
              1,
              "#f0f921"
             ]
            ],
            "type": "surface"
           }
          ],
          "table": [
           {
            "cells": {
             "fill": {
              "color": "#EBF0F8"
             },
             "line": {
              "color": "white"
             }
            },
            "header": {
             "fill": {
              "color": "#C8D4E3"
             },
             "line": {
              "color": "white"
             }
            },
            "type": "table"
           }
          ]
         },
         "layout": {
          "annotationdefaults": {
           "arrowcolor": "#2a3f5f",
           "arrowhead": 0,
           "arrowwidth": 1
          },
          "autotypenumbers": "strict",
          "coloraxis": {
           "colorbar": {
            "outlinewidth": 0,
            "ticks": ""
           }
          },
          "colorscale": {
           "diverging": [
            [
             0,
             "#8e0152"
            ],
            [
             0.1,
             "#c51b7d"
            ],
            [
             0.2,
             "#de77ae"
            ],
            [
             0.3,
             "#f1b6da"
            ],
            [
             0.4,
             "#fde0ef"
            ],
            [
             0.5,
             "#f7f7f7"
            ],
            [
             0.6,
             "#e6f5d0"
            ],
            [
             0.7,
             "#b8e186"
            ],
            [
             0.8,
             "#7fbc41"
            ],
            [
             0.9,
             "#4d9221"
            ],
            [
             1,
             "#276419"
            ]
           ],
           "sequential": [
            [
             0,
             "#0d0887"
            ],
            [
             0.1111111111111111,
             "#46039f"
            ],
            [
             0.2222222222222222,
             "#7201a8"
            ],
            [
             0.3333333333333333,
             "#9c179e"
            ],
            [
             0.4444444444444444,
             "#bd3786"
            ],
            [
             0.5555555555555556,
             "#d8576b"
            ],
            [
             0.6666666666666666,
             "#ed7953"
            ],
            [
             0.7777777777777778,
             "#fb9f3a"
            ],
            [
             0.8888888888888888,
             "#fdca26"
            ],
            [
             1,
             "#f0f921"
            ]
           ],
           "sequentialminus": [
            [
             0,
             "#0d0887"
            ],
            [
             0.1111111111111111,
             "#46039f"
            ],
            [
             0.2222222222222222,
             "#7201a8"
            ],
            [
             0.3333333333333333,
             "#9c179e"
            ],
            [
             0.4444444444444444,
             "#bd3786"
            ],
            [
             0.5555555555555556,
             "#d8576b"
            ],
            [
             0.6666666666666666,
             "#ed7953"
            ],
            [
             0.7777777777777778,
             "#fb9f3a"
            ],
            [
             0.8888888888888888,
             "#fdca26"
            ],
            [
             1,
             "#f0f921"
            ]
           ]
          },
          "colorway": [
           "#636efa",
           "#EF553B",
           "#00cc96",
           "#ab63fa",
           "#FFA15A",
           "#19d3f3",
           "#FF6692",
           "#B6E880",
           "#FF97FF",
           "#FECB52"
          ],
          "font": {
           "color": "#2a3f5f"
          },
          "geo": {
           "bgcolor": "white",
           "lakecolor": "white",
           "landcolor": "#E5ECF6",
           "showlakes": true,
           "showland": true,
           "subunitcolor": "white"
          },
          "hoverlabel": {
           "align": "left"
          },
          "hovermode": "closest",
          "mapbox": {
           "style": "light"
          },
          "paper_bgcolor": "white",
          "plot_bgcolor": "#E5ECF6",
          "polar": {
           "angularaxis": {
            "gridcolor": "white",
            "linecolor": "white",
            "ticks": ""
           },
           "bgcolor": "#E5ECF6",
           "radialaxis": {
            "gridcolor": "white",
            "linecolor": "white",
            "ticks": ""
           }
          },
          "scene": {
           "xaxis": {
            "backgroundcolor": "#E5ECF6",
            "gridcolor": "white",
            "gridwidth": 2,
            "linecolor": "white",
            "showbackground": true,
            "ticks": "",
            "zerolinecolor": "white"
           },
           "yaxis": {
            "backgroundcolor": "#E5ECF6",
            "gridcolor": "white",
            "gridwidth": 2,
            "linecolor": "white",
            "showbackground": true,
            "ticks": "",
            "zerolinecolor": "white"
           },
           "zaxis": {
            "backgroundcolor": "#E5ECF6",
            "gridcolor": "white",
            "gridwidth": 2,
            "linecolor": "white",
            "showbackground": true,
            "ticks": "",
            "zerolinecolor": "white"
           }
          },
          "shapedefaults": {
           "line": {
            "color": "#2a3f5f"
           }
          },
          "ternary": {
           "aaxis": {
            "gridcolor": "white",
            "linecolor": "white",
            "ticks": ""
           },
           "baxis": {
            "gridcolor": "white",
            "linecolor": "white",
            "ticks": ""
           },
           "bgcolor": "#E5ECF6",
           "caxis": {
            "gridcolor": "white",
            "linecolor": "white",
            "ticks": ""
           }
          },
          "title": {
           "x": 0.05
          },
          "xaxis": {
           "automargin": true,
           "gridcolor": "white",
           "linecolor": "white",
           "ticks": "",
           "title": {
            "standoff": 15
           },
           "zerolinecolor": "white",
           "zerolinewidth": 2
          },
          "yaxis": {
           "automargin": true,
           "gridcolor": "white",
           "linecolor": "white",
           "ticks": "",
           "title": {
            "standoff": 15
           },
           "zerolinecolor": "white",
           "zerolinewidth": 2
          }
         }
        },
        "xaxis": {
         "anchor": "y",
         "autorange": true,
         "domain": [
          0,
          1
         ],
         "range": [
          "1967-07-01",
          "2015-04-01"
         ],
         "title": {
          "text": "date"
         },
         "type": "date"
        },
        "yaxis": {
         "anchor": "x",
         "autorange": true,
         "domain": [
          0,
          1
         ],
         "range": [
          1.3611111111111112,
          18.13888888888889
         ],
         "title": {
          "text": "psavert"
         },
         "type": "linear"
        }
       }
      },
      "image/png": "[encoded data removed]",
      "text/html": [
       "<div>                            <div id=\"3109e9ab-70cb-4043-8933-4f79cf246707\" class=\"plotly-graph-div\" style=\"height:525px; width:100%;\"></div>            <script type=\"text/javascript\">                require([\"plotly\"], function(Plotly) {                    window.PLOTLYENV=window.PLOTLYENV || {};                                    if (document.getElementById(\"3109e9ab-70cb-4043-8933-4f79cf246707\")) {                    Plotly.newPlot(                        \"3109e9ab-70cb-4043-8933-4f79cf246707\",                        [{\"hovertemplate\":\"date=%{x}<br>psavert=%{y}<extra></extra>\",\"legendgroup\":\"\",\"line\":{\"color\":\"#636efa\",\"dash\":\"solid\"},\"marker\":{\"symbol\":\"circle\"},\"mode\":\"lines\",\"name\":\"\",\"orientation\":\"v\",\"showlegend\":false,\"x\":[\"1967-07-01\",\"1967-08-01\",\"1967-09-01\",\"1967-10-01\",\"1967-11-01\",\"1967-12-01\",\"1968-01-01\",\"1968-02-01\",\"1968-03-01\",\"1968-04-01\",\"1968-05-01\",\"1968-06-01\",\"1968-07-01\",\"1968-08-01\",\"1968-09-01\",\"1968-10-01\",\"1968-11-01\",\"1968-12-01\",\"1969-01-01\",\"1969-02-01\",\"1969-03-01\",\"1969-04-01\",\"1969-05-01\",\"1969-06-01\",\"1969-07-01\",\"1969-08-01\",\"1969-09-01\",\"1969-10-01\",\"1969-11-01\",\"1969-12-01\",\"1970-01-01\",\"1970-02-01\",\"1970-03-01\",\"1970-04-01\",\"1970-05-01\",\"1970-06-01\",\"1970-07-01\",\"1970-08-01\",\"1970-09-01\",\"1970-10-01\",\"1970-11-01\",\"1970-12-01\",\"1971-01-01\",\"1971-02-01\",\"1971-03-01\",\"1971-04-01\",\"1971-05-01\",\"1971-06-01\",\"1971-07-01\",\"1971-08-01\",\"1971-09-01\",\"1971-10-01\",\"1971-11-01\",\"1971-12-01\",\"1972-01-01\",\"1972-02-01\",\"1972-03-01\",\"1972-04-01\",\"1972-05-01\",\"1972-06-01\",\"1972-07-01\",\"1972-08-01\",\"1972-09-01\",\"1972-10-01\",\"1972-11-01\",\"1972-12-01\",\"1973-01-01\",\"1973-02-01\",\"1973-03-01\",\"1973-04-01\",\"1973-05-01\",\"1973-06-01\",\"1973-07-01\",\"1973-08-01\",\"1973-09-01\",\"1973-10-01\",\"1973-11-01\",\"1973-12-01\",\"1974-01-01\",\"1974-02-01\",\"1974-03-01\",\"1974-04-01\",\"1974-05-01\",\"1974-06-01\",\"1974-07-01\",\"1974-08-01\",\"1974-09-01\",\"1974-10-01\",\"1974-11-01\",\"1974-12-01\",\"1975-01-01\",\"1975-02-01\",\"1975-03-01\",\"1975-04-01\",\"1975-05-01\",\"1975-06-01\",\"1975-07-01\",\"1975-08-01\",\"1975-09-01\",\"1975-10-01\",\"1975-11-01\",\"1975-12-01\",\"1976-01-01\",\"1976-02-01\",\"1976-03-01\",\"1976-04-01\",\"1976-05-01\",\"1976-06-01\",\"1976-07-01\",\"1976-08-01\",\"1976-09-01\",\"1976-10-01\",\"1976-11-01\",\"1976-12-01\",\"1977-01-01\",\"1977-02-01\",\"1977-03-01\",\"1977-04-01\",\"1977-05-01\",\"1977-06-01\",\"1977-07-01\",\"1977-08-01\",\"1977-09-01\",\"1977-10-01\",\"1977-11-01\",\"1977-12-01\",\"1978-01-01\",\"1978-02-01\",\"1978-03-01\",\"1978-04-01\",\"1978-05-01\",\"1978-06-01\",\"1978-07-01\",\"1978-08-01\",\"1978-09-01\",\"1978-10-01\",\"1978-11-01\",\"1978-12-01\",\"1979-01-01\",\"1979-02-01\",\"1979-03-01\",\"1979-04-01\",\"1979-05-01\",\"1979-06-01\",\"1979-07-01\",\"1979-08-01\",\"1979-09-01\",\"1979-10-01\",\"1979-11-01\",\"1979-12-01\",\"1980-01-01\",\"1980-02-01\",\"1980-03-01\",\"1980-04-01\",\"1980-05-01\",\"1980-06-01\",\"1980-07-01\",\"1980-08-01\",\"1980-09-01\",\"1980-10-01\",\"1980-11-01\",\"1980-12-01\",\"1981-01-01\",\"1981-02-01\",\"1981-03-01\",\"1981-04-01\",\"1981-05-01\",\"1981-06-01\",\"1981-07-01\",\"1981-08-01\",\"1981-09-01\",\"1981-10-01\",\"1981-11-01\",\"1981-12-01\",\"1982-01-01\",\"1982-02-01\",\"1982-03-01\",\"1982-04-01\",\"1982-05-01\",\"1982-06-01\",\"1982-07-01\",\"1982-08-01\",\"1982-09-01\",\"1982-10-01\",\"1982-11-01\",\"1982-12-01\",\"1983-01-01\",\"1983-02-01\",\"1983-03-01\",\"1983-04-01\",\"1983-05-01\",\"1983-06-01\",\"1983-07-01\",\"1983-08-01\",\"1983-09-01\",\"1983-10-01\",\"1983-11-01\",\"1983-12-01\",\"1984-01-01\",\"1984-02-01\",\"1984-03-01\",\"1984-04-01\",\"1984-05-01\",\"1984-06-01\",\"1984-07-01\",\"1984-08-01\",\"1984-09-01\",\"1984-10-01\",\"1984-11-01\",\"1984-12-01\",\"1985-01-01\",\"1985-02-01\",\"1985-03-01\",\"1985-04-01\",\"1985-05-01\",\"1985-06-01\",\"1985-07-01\",\"1985-08-01\",\"1985-09-01\",\"1985-10-01\",\"1985-11-01\",\"1985-12-01\",\"1986-01-01\",\"1986-02-01\",\"1986-03-01\",\"1986-04-01\",\"1986-05-01\",\"1986-06-01\",\"1986-07-01\",\"1986-08-01\",\"1986-09-01\",\"1986-10-01\",\"1986-11-01\",\"1986-12-01\",\"1987-01-01\",\"1987-02-01\",\"1987-03-01\",\"1987-04-01\",\"1987-05-01\",\"1987-06-01\",\"1987-07-01\",\"1987-08-01\",\"1987-09-01\",\"1987-10-01\",\"1987-11-01\",\"1987-12-01\",\"1988-01-01\",\"1988-02-01\",\"1988-03-01\",\"1988-04-01\",\"1988-05-01\",\"1988-06-01\",\"1988-07-01\",\"1988-08-01\",\"1988-09-01\",\"1988-10-01\",\"1988-11-01\",\"1988-12-01\",\"1989-01-01\",\"1989-02-01\",\"1989-03-01\",\"1989-04-01\",\"1989-05-01\",\"1989-06-01\",\"1989-07-01\",\"1989-08-01\",\"1989-09-01\",\"1989-10-01\",\"1989-11-01\",\"1989-12-01\",\"1990-01-01\",\"1990-02-01\",\"1990-03-01\",\"1990-04-01\",\"1990-05-01\",\"1990-06-01\",\"1990-07-01\",\"1990-08-01\",\"1990-09-01\",\"1990-10-01\",\"1990-11-01\",\"1990-12-01\",\"1991-01-01\",\"1991-02-01\",\"1991-03-01\",\"1991-04-01\",\"1991-05-01\",\"1991-06-01\",\"1991-07-01\",\"1991-08-01\",\"1991-09-01\",\"1991-10-01\",\"1991-11-01\",\"1991-12-01\",\"1992-01-01\",\"1992-02-01\",\"1992-03-01\",\"1992-04-01\",\"1992-05-01\",\"1992-06-01\",\"1992-07-01\",\"1992-08-01\",\"1992-09-01\",\"1992-10-01\",\"1992-11-01\",\"1992-12-01\",\"1993-01-01\",\"1993-02-01\",\"1993-03-01\",\"1993-04-01\",\"1993-05-01\",\"1993-06-01\",\"1993-07-01\",\"1993-08-01\",\"1993-09-01\",\"1993-10-01\",\"1993-11-01\",\"1993-12-01\",\"1994-01-01\",\"1994-02-01\",\"1994-03-01\",\"1994-04-01\",\"1994-05-01\",\"1994-06-01\",\"1994-07-01\",\"1994-08-01\",\"1994-09-01\",\"1994-10-01\",\"1994-11-01\",\"1994-12-01\",\"1995-01-01\",\"1995-02-01\",\"1995-03-01\",\"1995-04-01\",\"1995-05-01\",\"1995-06-01\",\"1995-07-01\",\"1995-08-01\",\"1995-09-01\",\"1995-10-01\",\"1995-11-01\",\"1995-12-01\",\"1996-01-01\",\"1996-02-01\",\"1996-03-01\",\"1996-04-01\",\"1996-05-01\",\"1996-06-01\",\"1996-07-01\",\"1996-08-01\",\"1996-09-01\",\"1996-10-01\",\"1996-11-01\",\"1996-12-01\",\"1997-01-01\",\"1997-02-01\",\"1997-03-01\",\"1997-04-01\",\"1997-05-01\",\"1997-06-01\",\"1997-07-01\",\"1997-08-01\",\"1997-09-01\",\"1997-10-01\",\"1997-11-01\",\"1997-12-01\",\"1998-01-01\",\"1998-02-01\",\"1998-03-01\",\"1998-04-01\",\"1998-05-01\",\"1998-06-01\",\"1998-07-01\",\"1998-08-01\",\"1998-09-01\",\"1998-10-01\",\"1998-11-01\",\"1998-12-01\",\"1999-01-01\",\"1999-02-01\",\"1999-03-01\",\"1999-04-01\",\"1999-05-01\",\"1999-06-01\",\"1999-07-01\",\"1999-08-01\",\"1999-09-01\",\"1999-10-01\",\"1999-11-01\",\"1999-12-01\",\"2000-01-01\",\"2000-02-01\",\"2000-03-01\",\"2000-04-01\",\"2000-05-01\",\"2000-06-01\",\"2000-07-01\",\"2000-08-01\",\"2000-09-01\",\"2000-10-01\",\"2000-11-01\",\"2000-12-01\",\"2001-01-01\",\"2001-02-01\",\"2001-03-01\",\"2001-04-01\",\"2001-05-01\",\"2001-06-01\",\"2001-07-01\",\"2001-08-01\",\"2001-09-01\",\"2001-10-01\",\"2001-11-01\",\"2001-12-01\",\"2002-01-01\",\"2002-02-01\",\"2002-03-01\",\"2002-04-01\",\"2002-05-01\",\"2002-06-01\",\"2002-07-01\",\"2002-08-01\",\"2002-09-01\",\"2002-10-01\",\"2002-11-01\",\"2002-12-01\",\"2003-01-01\",\"2003-02-01\",\"2003-03-01\",\"2003-04-01\",\"2003-05-01\",\"2003-06-01\",\"2003-07-01\",\"2003-08-01\",\"2003-09-01\",\"2003-10-01\",\"2003-11-01\",\"2003-12-01\",\"2004-01-01\",\"2004-02-01\",\"2004-03-01\",\"2004-04-01\",\"2004-05-01\",\"2004-06-01\",\"2004-07-01\",\"2004-08-01\",\"2004-09-01\",\"2004-10-01\",\"2004-11-01\",\"2004-12-01\",\"2005-01-01\",\"2005-02-01\",\"2005-03-01\",\"2005-04-01\",\"2005-05-01\",\"2005-06-01\",\"2005-07-01\",\"2005-08-01\",\"2005-09-01\",\"2005-10-01\",\"2005-11-01\",\"2005-12-01\",\"2006-01-01\",\"2006-02-01\",\"2006-03-01\",\"2006-04-01\",\"2006-05-01\",\"2006-06-01\",\"2006-07-01\",\"2006-08-01\",\"2006-09-01\",\"2006-10-01\",\"2006-11-01\",\"2006-12-01\",\"2007-01-01\",\"2007-02-01\",\"2007-03-01\",\"2007-04-01\",\"2007-05-01\",\"2007-06-01\",\"2007-07-01\",\"2007-08-01\",\"2007-09-01\",\"2007-10-01\",\"2007-11-01\",\"2007-12-01\",\"2008-01-01\",\"2008-02-01\",\"2008-03-01\",\"2008-04-01\",\"2008-05-01\",\"2008-06-01\",\"2008-07-01\",\"2008-08-01\",\"2008-09-01\",\"2008-10-01\",\"2008-11-01\",\"2008-12-01\",\"2009-01-01\",\"2009-02-01\",\"2009-03-01\",\"2009-04-01\",\"2009-05-01\",\"2009-06-01\",\"2009-07-01\",\"2009-08-01\",\"2009-09-01\",\"2009-10-01\",\"2009-11-01\",\"2009-12-01\",\"2010-01-01\",\"2010-02-01\",\"2010-03-01\",\"2010-04-01\",\"2010-05-01\",\"2010-06-01\",\"2010-07-01\",\"2010-08-01\",\"2010-09-01\",\"2010-10-01\",\"2010-11-01\",\"2010-12-01\",\"2011-01-01\",\"2011-02-01\",\"2011-03-01\",\"2011-04-01\",\"2011-05-01\",\"2011-06-01\",\"2011-07-01\",\"2011-08-01\",\"2011-09-01\",\"2011-10-01\",\"2011-11-01\",\"2011-12-01\",\"2012-01-01\",\"2012-02-01\",\"2012-03-01\",\"2012-04-01\",\"2012-05-01\",\"2012-06-01\",\"2012-07-01\",\"2012-08-01\",\"2012-09-01\",\"2012-10-01\",\"2012-11-01\",\"2012-12-01\",\"2013-01-01\",\"2013-02-01\",\"2013-03-01\",\"2013-04-01\",\"2013-05-01\",\"2013-06-01\",\"2013-07-01\",\"2013-08-01\",\"2013-09-01\",\"2013-10-01\",\"2013-11-01\",\"2013-12-01\",\"2014-01-01\",\"2014-02-01\",\"2014-03-01\",\"2014-04-01\",\"2014-05-01\",\"2014-06-01\",\"2014-07-01\",\"2014-08-01\",\"2014-09-01\",\"2014-10-01\",\"2014-11-01\",\"2014-12-01\",\"2015-01-01\",\"2015-02-01\",\"2015-03-01\",\"2015-04-01\"],\"xaxis\":\"x\",\"y\":[12.6,12.6,11.9,12.9,12.8,11.8,11.7,12.3,11.7,12.3,12.0,11.7,10.7,10.5,10.6,10.8,10.6,11.1,10.3,9.7,10.2,9.7,10.1,11.1,11.8,11.5,11.6,11.4,11.6,11.8,11.8,11.7,12.4,13.3,12.4,12.3,13.5,13.4,12.9,13.1,13.6,13.2,13.3,13.3,13.5,13.2,13.6,14.7,13.8,13.6,13.3,13.3,13.1,13.0,12.5,12.8,11.8,11.5,11.7,11.7,11.7,12.0,12.2,13.0,13.6,13.7,12.4,12.5,12.7,13.2,13.2,13.6,13.2,13.9,13.1,14.4,14.4,14.8,14.3,14.2,13.4,13.1,12.8,12.8,12.8,12.1,12.9,13.4,13.8,14.0,13.2,12.5,12.7,14.2,17.3,14.3,12.6,13.0,13.0,13.4,12.7,12.0,11.7,12.3,12.2,11.7,12.3,11.4,11.7,11.7,11.4,11.1,11.4,10.6,10.6,9.3,10.5,10.5,10.3,10.6,10.5,10.9,11.1,11.0,11.2,11.4,11.9,11.1,11.0,10.8,10.3,10.0,10.9,10.5,10.6,10.7,10.5,10.4,11.1,11.1,11.2,11.0,10.3,9.9,10.6,9.7,9.4,9.7,9.7,10.1,9.9,10.1,10.2,11.3,11.4,11.2,11.3,11.3,11.7,11.3,11.6,11.4,10.9,10.8,10.8,10.9,11.0,10.8,12.3,12.0,12.4,13.0,13.2,12.5,12.7,12.1,12.2,12.9,12.3,12.3,12.5,12.6,11.8,11.3,10.9,10.9,11.1,11.1,10.6,10.3,9.9,9.1,9.6,9.2,9.6,9.7,10.3,10.1,10.0,11.7,11.5,11.5,11.1,11.1,11.6,11.8,11.8,11.7,10.9,11.2,10.3,9.1,8.7,9.9,11.1,9.6,9.1,8.2,7.3,9.1,9.0,8.6,8.6,9.3,9.9,9.7,9.3,9.4,9.3,9.0,7.2,8.4,8.8,7.0,9.7,8.5,8.5,4.5,8.2,7.7,7.5,7.2,7.6,8.3,8.5,8.7,8.1,8.6,8.2,8.8,8.4,8.4,8.6,8.4,8.9,8.6,8.4,8.3,8.5,9.0,9.5,8.4,8.1,8.2,8.2,7.6,8.1,8.5,8.6,7.8,8.0,8.6,8.3,8.8,8.7,8.6,8.7,8.1,8.1,7.8,7.9,8.8,9.3,8.8,8.0,8.6,8.4,8.9,8.2,8.6,8.8,9.3,9.0,9.7,9.4,9.8,9.7,9.9,9.9,10.1,9.6,9.7,8.7,8.0,8.0,10.6,8.6,8.9,8.9,8.7,8.3,7.8,7.6,7.7,6.9,6.3,6.3,9.1,7.1,6.5,6.8,6.4,7.6,6.9,7.0,6.5,6.8,7.1,7.0,7.2,7.5,7.8,7.5,6.9,7.1,6.7,7.1,6.7,6.8,7.1,6.6,6.1,6.7,6.7,6.6,5.7,6.7,7.1,6.7,6.6,6.7,6.4,6.4,6.4,6.2,6.2,6.4,6.5,6.8,6.6,6.1,6.0,6.2,6.2,6.4,6.4,7.4,7.4,7.5,7.2,6.9,6.8,6.9,6.8,6.4,6.2,6.3,5.8,6.4,6.2,5.9,5.2,4.9,4.8,4.8,4.7,4.2,4.6,4.8,4.4,5.4,4.8,4.5,5.0,4.9,4.9,5.2,5.2,4.5,4.6,4.5,4.2,4.8,4.9,5.3,5.0,4.5,4.5,5.6,6.8,7.0,3.4,4.1,4.5,6.1,5.8,5.9,5.8,6.5,6.4,5.5,5.4,5.7,5.7,5.7,5.5,5.5,5.6,5.3,5.3,5.8,5.6,6.3,6.0,5.2,5.3,5.4,5.4,5.0,5.0,4.9,5.3,5.3,5.8,5.3,5.2,4.6,4.5,4.1,6.9,3.7,3.4,3.6,3.1,3.5,2.9,2.2,2.7,2.7,3.1,3.5,3.7,4.2,4.2,4.2,4.0,3.8,4.0,3.4,3.6,3.6,3.6,3.9,3.7,3.7,4.1,4.4,4.2,4.0,3.8,3.7,3.4,3.5,3.4,3.1,3.6,3.7,4.1,4.0,3.4,7.8,5.5,4.4,3.8,4.7,5.5,6.4,6.4,6.2,5.5,5.9,6.8,8.2,6.7,6.0,4.9,5.9,5.4,5.9,5.9,6.1,5.8,5.7,6.4,7.0,6.9,6.8,6.9,6.7,6.6,6.6,7.1,7.4,7.6,7.0,6.9,6.9,7.2,7.3,7.2,6.8,6.8,7.0,7.8,8.0,8.0,8.5,8.7,8.8,9.1,8.2,8.0,8.2,8.8,9.7,12.0,6.3,5.8,5.9,6.4,6.7,6.8,6.6,6.7,6.8,6.3,6.2,6.4,7.1,7.3,7.4,7.4,7.4,7.4,7.5,7.2,7.4,7.2,7.3,7.6,7.7,7.9,7.4,7.6],\"yaxis\":\"y\",\"type\":\"scatter\"}],                        {\"template\":{\"data\":{\"histogram2dcontour\":[{\"type\":\"histogram2dcontour\",\"colorbar\":{\"outlinewidth\":0,\"ticks\":\"\"},\"colorscale\":[[0.0,\"#0d0887\"],[0.1111111111111111,\"#46039f\"],[0.2222222222222222,\"#7201a8\"],[0.3333333333333333,\"#9c179e\"],[0.4444444444444444,\"#bd3786\"],[0.5555555555555556,\"#d8576b\"],[0.6666666666666666,\"#ed7953\"],[0.7777777777777778,\"#fb9f3a\"],[0.8888888888888888,\"#fdca26\"],[1.0,\"#f0f921\"]]}],\"choropleth\":[{\"type\":\"choropleth\",\"colorbar\":{\"outlinewidth\":0,\"ticks\":\"\"}}],\"histogram2d\":[{\"type\":\"histogram2d\",\"colorbar\":{\"outlinewidth\":0,\"ticks\":\"\"},\"colorscale\":[[0.0,\"#0d0887\"],[0.1111111111111111,\"#46039f\"],[0.2222222222222222,\"#7201a8\"],[0.3333333333333333,\"#9c179e\"],[0.4444444444444444,\"#bd3786\"],[0.5555555555555556,\"#d8576b\"],[0.6666666666666666,\"#ed7953\"],[0.7777777777777778,\"#fb9f3a\"],[0.8888888888888888,\"#fdca26\"],[1.0,\"#f0f921\"]]}],\"heatmap\":[{\"type\":\"heatmap\",\"colorbar\":{\"outlinewidth\":0,\"ticks\":\"\"},\"colorscale\":[[0.0,\"#0d0887\"],[0.1111111111111111,\"#46039f\"],[0.2222222222222222,\"#7201a8\"],[0.3333333333333333,\"#9c179e\"],[0.4444444444444444,\"#bd3786\"],[0.5555555555555556,\"#d8576b\"],[0.6666666666666666,\"#ed7953\"],[0.7777777777777778,\"#fb9f3a\"],[0.8888888888888888,\"#fdca26\"],[1.0,\"#f0f921\"]]}],\"heatmapgl\":[{\"type\":\"heatmapgl\",\"colorbar\":{\"outlinewidth\":0,\"ticks\":\"\"},\"colorscale\":[[0.0,\"#0d0887\"],[0.1111111111111111,\"#46039f\"],[0.2222222222222222,\"#7201a8\"],[0.3333333333333333,\"#9c179e\"],[0.4444444444444444,\"#bd3786\"],[0.5555555555555556,\"#d8576b\"],[0.6666666666666666,\"#ed7953\"],[0.7777777777777778,\"#fb9f3a\"],[0.8888888888888888,\"#fdca26\"],[1.0,\"#f0f921\"]]}],\"contourcarpet\":[{\"type\":\"contourcarpet\",\"colorbar\":{\"outlinewidth\":0,\"ticks\":\"\"}}],\"contour\":[{\"type\":\"contour\",\"colorbar\":{\"outlinewidth\":0,\"ticks\":\"\"},\"colorscale\":[[0.0,\"#0d0887\"],[0.1111111111111111,\"#46039f\"],[0.2222222222222222,\"#7201a8\"],[0.3333333333333333,\"#9c179e\"],[0.4444444444444444,\"#bd3786\"],[0.5555555555555556,\"#d8576b\"],[0.6666666666666666,\"#ed7953\"],[0.7777777777777778,\"#fb9f3a\"],[0.8888888888888888,\"#fdca26\"],[1.0,\"#f0f921\"]]}],\"surface\":[{\"type\":\"surface\",\"colorbar\":{\"outlinewidth\":0,\"ticks\":\"\"},\"colorscale\":[[0.0,\"#0d0887\"],[0.1111111111111111,\"#46039f\"],[0.2222222222222222,\"#7201a8\"],[0.3333333333333333,\"#9c179e\"],[0.4444444444444444,\"#bd3786\"],[0.5555555555555556,\"#d8576b\"],[0.6666666666666666,\"#ed7953\"],[0.7777777777777778,\"#fb9f3a\"],[0.8888888888888888,\"#fdca26\"],[1.0,\"#f0f921\"]]}],\"mesh3d\":[{\"type\":\"mesh3d\",\"colorbar\":{\"outlinewidth\":0,\"ticks\":\"\"}}],\"scatter\":[{\"fillpattern\":{\"fillmode\":\"overlay\",\"size\":10,\"solidity\":0.2},\"type\":\"scatter\"}],\"parcoords\":[{\"type\":\"parcoords\",\"line\":{\"colorbar\":{\"outlinewidth\":0,\"ticks\":\"\"}}}],\"scatterpolargl\":[{\"type\":\"scatterpolargl\",\"marker\":{\"colorbar\":{\"outlinewidth\":0,\"ticks\":\"\"}}}],\"bar\":[{\"error_x\":{\"color\":\"#2a3f5f\"},\"error_y\":{\"color\":\"#2a3f5f\"},\"marker\":{\"line\":{\"color\":\"#E5ECF6\",\"width\":0.5},\"pattern\":{\"fillmode\":\"overlay\",\"size\":10,\"solidity\":0.2}},\"type\":\"bar\"}],\"scattergeo\":[{\"type\":\"scattergeo\",\"marker\":{\"colorbar\":{\"outlinewidth\":0,\"ticks\":\"\"}}}],\"scatterpolar\":[{\"type\":\"scatterpolar\",\"marker\":{\"colorbar\":{\"outlinewidth\":0,\"ticks\":\"\"}}}],\"histogram\":[{\"marker\":{\"pattern\":{\"fillmode\":\"overlay\",\"size\":10,\"solidity\":0.2}},\"type\":\"histogram\"}],\"scattergl\":[{\"type\":\"scattergl\",\"marker\":{\"colorbar\":{\"outlinewidth\":0,\"ticks\":\"\"}}}],\"scatter3d\":[{\"type\":\"scatter3d\",\"line\":{\"colorbar\":{\"outlinewidth\":0,\"ticks\":\"\"}},\"marker\":{\"colorbar\":{\"outlinewidth\":0,\"ticks\":\"\"}}}],\"scattermapbox\":[{\"type\":\"scattermapbox\",\"marker\":{\"colorbar\":{\"outlinewidth\":0,\"ticks\":\"\"}}}],\"scatterternary\":[{\"type\":\"scatterternary\",\"marker\":{\"colorbar\":{\"outlinewidth\":0,\"ticks\":\"\"}}}],\"scattercarpet\":[{\"type\":\"scattercarpet\",\"marker\":{\"colorbar\":{\"outlinewidth\":0,\"ticks\":\"\"}}}],\"carpet\":[{\"aaxis\":{\"endlinecolor\":\"#2a3f5f\",\"gridcolor\":\"white\",\"linecolor\":\"white\",\"minorgridcolor\":\"white\",\"startlinecolor\":\"#2a3f5f\"},\"baxis\":{\"endlinecolor\":\"#2a3f5f\",\"gridcolor\":\"white\",\"linecolor\":\"white\",\"minorgridcolor\":\"white\",\"startlinecolor\":\"#2a3f5f\"},\"type\":\"carpet\"}],\"table\":[{\"cells\":{\"fill\":{\"color\":\"#EBF0F8\"},\"line\":{\"color\":\"white\"}},\"header\":{\"fill\":{\"color\":\"#C8D4E3\"},\"line\":{\"color\":\"white\"}},\"type\":\"table\"}],\"barpolar\":[{\"marker\":{\"line\":{\"color\":\"#E5ECF6\",\"width\":0.5},\"pattern\":{\"fillmode\":\"overlay\",\"size\":10,\"solidity\":0.2}},\"type\":\"barpolar\"}],\"pie\":[{\"automargin\":true,\"type\":\"pie\"}]},\"layout\":{\"autotypenumbers\":\"strict\",\"colorway\":[\"#636efa\",\"#EF553B\",\"#00cc96\",\"#ab63fa\",\"#FFA15A\",\"#19d3f3\",\"#FF6692\",\"#B6E880\",\"#FF97FF\",\"#FECB52\"],\"font\":{\"color\":\"#2a3f5f\"},\"hovermode\":\"closest\",\"hoverlabel\":{\"align\":\"left\"},\"paper_bgcolor\":\"white\",\"plot_bgcolor\":\"#E5ECF6\",\"polar\":{\"bgcolor\":\"#E5ECF6\",\"angularaxis\":{\"gridcolor\":\"white\",\"linecolor\":\"white\",\"ticks\":\"\"},\"radialaxis\":{\"gridcolor\":\"white\",\"linecolor\":\"white\",\"ticks\":\"\"}},\"ternary\":{\"bgcolor\":\"#E5ECF6\",\"aaxis\":{\"gridcolor\":\"white\",\"linecolor\":\"white\",\"ticks\":\"\"},\"baxis\":{\"gridcolor\":\"white\",\"linecolor\":\"white\",\"ticks\":\"\"},\"caxis\":{\"gridcolor\":\"white\",\"linecolor\":\"white\",\"ticks\":\"\"}},\"coloraxis\":{\"colorbar\":{\"outlinewidth\":0,\"ticks\":\"\"}},\"colorscale\":{\"sequential\":[[0.0,\"#0d0887\"],[0.1111111111111111,\"#46039f\"],[0.2222222222222222,\"#7201a8\"],[0.3333333333333333,\"#9c179e\"],[0.4444444444444444,\"#bd3786\"],[0.5555555555555556,\"#d8576b\"],[0.6666666666666666,\"#ed7953\"],[0.7777777777777778,\"#fb9f3a\"],[0.8888888888888888,\"#fdca26\"],[1.0,\"#f0f921\"]],\"sequentialminus\":[[0.0,\"#0d0887\"],[0.1111111111111111,\"#46039f\"],[0.2222222222222222,\"#7201a8\"],[0.3333333333333333,\"#9c179e\"],[0.4444444444444444,\"#bd3786\"],[0.5555555555555556,\"#d8576b\"],[0.6666666666666666,\"#ed7953\"],[0.7777777777777778,\"#fb9f3a\"],[0.8888888888888888,\"#fdca26\"],[1.0,\"#f0f921\"]],\"diverging\":[[0,\"#8e0152\"],[0.1,\"#c51b7d\"],[0.2,\"#de77ae\"],[0.3,\"#f1b6da\"],[0.4,\"#fde0ef\"],[0.5,\"#f7f7f7\"],[0.6,\"#e6f5d0\"],[0.7,\"#b8e186\"],[0.8,\"#7fbc41\"],[0.9,\"#4d9221\"],[1,\"#276419\"]]},\"xaxis\":{\"gridcolor\":\"white\",\"linecolor\":\"white\",\"ticks\":\"\",\"title\":{\"standoff\":15},\"zerolinecolor\":\"white\",\"automargin\":true,\"zerolinewidth\":2},\"yaxis\":{\"gridcolor\":\"white\",\"linecolor\":\"white\",\"ticks\":\"\",\"title\":{\"standoff\":15},\"zerolinecolor\":\"white\",\"automargin\":true,\"zerolinewidth\":2},\"scene\":{\"xaxis\":{\"backgroundcolor\":\"#E5ECF6\",\"gridcolor\":\"white\",\"linecolor\":\"white\",\"showbackground\":true,\"ticks\":\"\",\"zerolinecolor\":\"white\",\"gridwidth\":2},\"yaxis\":{\"backgroundcolor\":\"#E5ECF6\",\"gridcolor\":\"white\",\"linecolor\":\"white\",\"showbackground\":true,\"ticks\":\"\",\"zerolinecolor\":\"white\",\"gridwidth\":2},\"zaxis\":{\"backgroundcolor\":\"#E5ECF6\",\"gridcolor\":\"white\",\"linecolor\":\"white\",\"showbackground\":true,\"ticks\":\"\",\"zerolinecolor\":\"white\",\"gridwidth\":2}},\"shapedefaults\":{\"line\":{\"color\":\"#2a3f5f\"}},\"annotationdefaults\":{\"arrowcolor\":\"#2a3f5f\",\"arrowhead\":0,\"arrowwidth\":1},\"geo\":{\"bgcolor\":\"white\",\"landcolor\":\"#E5ECF6\",\"subunitcolor\":\"white\",\"showland\":true,\"showlakes\":true,\"lakecolor\":\"white\"},\"title\":{\"x\":0.05},\"mapbox\":{\"style\":\"light\"}}},\"xaxis\":{\"anchor\":\"y\",\"domain\":[0.0,1.0],\"title\":{\"text\":\"date\"}},\"yaxis\":{\"anchor\":\"x\",\"domain\":[0.0,1.0],\"title\":{\"text\":\"psavert\"}},\"legend\":{\"tracegroupgap\":0},\"margin\":{\"t\":60}},                        {\"responsive\": true}                    ).then(function(){\n",
       "                            \n",
       "var gd = document.getElementById('3109e9ab-70cb-4043-8933-4f79cf246707');\n",
       "var x = new MutationObserver(function (mutations, observer) {{\n",
       "        var display = window.getComputedStyle(gd).display;\n",
       "        if (!display || display === 'none') {{\n",
       "            console.log([gd, 'removed!']);\n",
       "            Plotly.purge(gd);\n",
       "            observer.disconnect();\n",
       "        }}\n",
       "}});\n",
       "\n",
       "// Listen for the removal of the full notebook cells\n",
       "var notebookContainer = gd.closest('#notebook-container');\n",
       "if (notebookContainer) {{\n",
       "    x.observe(notebookContainer, {childList: true});\n",
       "}}\n",
       "\n",
       "// Listen for the clearing of the current output cell\n",
       "var outputEl = gd.closest('.output');\n",
       "if (outputEl) {{\n",
       "    x.observe(outputEl, {childList: true});\n",
       "}}\n",
       "\n",
       "                        })                };                });            </script>        </div>"
      ]
     },
     "metadata": {},
     "output_type": "display_data"
    }
   ],
   "source": [
    "# economics 불러오기\n",
    "economics = pd.read_csv('economics.csv')                  \n",
    "\n",
    "# 선 그래프 만들기\n",
    "px.line(data_frame = economics, x = 'date', y = 'psavert')"
   ]
  },
  {
   "cell_type": "markdown",
   "id": "23b19e77",
   "metadata": {},
   "source": [
    "### 상자 그림 만들기"
   ]
  },
  {
   "cell_type": "code",
   "execution_count": 6,
   "id": "b109e681",
   "metadata": {},
   "outputs": [
    {
     "data": {
      "application/vnd.plotly.v1+json": {
       "config": {
        "plotlyServerURL": "https://plot.ly"
       },
       "data": [
        {
         "alignmentgroup": "True",
         "hovertemplate": "drv=%{x}<br>hwy=%{y}<extra></extra>",
         "legendgroup": "f",
         "marker": {
          "color": "#636efa"
         },
         "name": "f",
         "notched": false,
         "offsetgroup": "f",
         "orientation": "v",
         "showlegend": true,
         "type": "box",
         "x": [
          "f",
          "f",
          "f",
          "f",
          "f",
          "f",
          "f",
          "f",
          "f",
          "f",
          "f",
          "f",
          "f",
          "f",
          "f",
          "f",
          "f",
          "f",
          "f",
          "f",
          "f",
          "f",
          "f",
          "f",
          "f",
          "f",
          "f",
          "f",
          "f",
          "f",
          "f",
          "f",
          "f",
          "f",
          "f",
          "f",
          "f",
          "f",
          "f",
          "f",
          "f",
          "f",
          "f",
          "f",
          "f",
          "f",
          "f",
          "f",
          "f",
          "f",
          "f",
          "f",
          "f",
          "f",
          "f",
          "f",
          "f",
          "f",
          "f",
          "f",
          "f",
          "f",
          "f",
          "f",
          "f",
          "f",
          "f",
          "f",
          "f",
          "f",
          "f",
          "f",
          "f",
          "f",
          "f",
          "f",
          "f",
          "f",
          "f",
          "f",
          "f",
          "f",
          "f",
          "f",
          "f",
          "f",
          "f",
          "f",
          "f",
          "f",
          "f",
          "f",
          "f",
          "f",
          "f",
          "f",
          "f",
          "f",
          "f",
          "f",
          "f",
          "f",
          "f",
          "f",
          "f",
          "f"
         ],
         "x0": " ",
         "xaxis": "x",
         "y": [
          29,
          29,
          31,
          30,
          26,
          26,
          27,
          27,
          30,
          26,
          29,
          26,
          24,
          24,
          22,
          22,
          24,
          24,
          17,
          22,
          21,
          23,
          23,
          33,
          32,
          32,
          29,
          32,
          34,
          36,
          36,
          29,
          26,
          27,
          30,
          31,
          26,
          26,
          28,
          26,
          29,
          28,
          27,
          24,
          24,
          24,
          29,
          27,
          31,
          32,
          27,
          26,
          26,
          25,
          25,
          26,
          26,
          27,
          28,
          25,
          29,
          27,
          31,
          31,
          26,
          26,
          28,
          27,
          29,
          31,
          31,
          26,
          26,
          27,
          30,
          33,
          35,
          37,
          35,
          29,
          26,
          29,
          29,
          24,
          44,
          29,
          26,
          29,
          29,
          29,
          29,
          23,
          24,
          44,
          41,
          29,
          26,
          28,
          29,
          29,
          29,
          28,
          29,
          26,
          26,
          26
         ],
         "y0": " ",
         "yaxis": "y"
        },
        {
         "alignmentgroup": "True",
         "hovertemplate": "drv=%{x}<br>hwy=%{y}<extra></extra>",
         "legendgroup": "4",
         "marker": {
          "color": "#EF553B"
         },
         "name": "4",
         "notched": false,
         "offsetgroup": "4",
         "orientation": "v",
         "showlegend": true,
         "type": "box",
         "x": [
          "4",
          "4",
          "4",
          "4",
          "4",
          "4",
          "4",
          "4",
          "4",
          "4",
          "4",
          "4",
          "4",
          "4",
          "4",
          "4",
          "4",
          "4",
          "4",
          "4",
          "4",
          "4",
          "4",
          "4",
          "4",
          "4",
          "4",
          "4",
          "4",
          "4",
          "4",
          "4",
          "4",
          "4",
          "4",
          "4",
          "4",
          "4",
          "4",
          "4",
          "4",
          "4",
          "4",
          "4",
          "4",
          "4",
          "4",
          "4",
          "4",
          "4",
          "4",
          "4",
          "4",
          "4",
          "4",
          "4",
          "4",
          "4",
          "4",
          "4",
          "4",
          "4",
          "4",
          "4",
          "4",
          "4",
          "4",
          "4",
          "4",
          "4",
          "4",
          "4",
          "4",
          "4",
          "4",
          "4",
          "4",
          "4",
          "4",
          "4",
          "4",
          "4",
          "4",
          "4",
          "4",
          "4",
          "4",
          "4",
          "4",
          "4",
          "4",
          "4",
          "4",
          "4",
          "4",
          "4",
          "4",
          "4",
          "4",
          "4",
          "4",
          "4",
          "4"
         ],
         "x0": " ",
         "xaxis": "x",
         "y": [
          26,
          25,
          28,
          27,
          25,
          25,
          25,
          25,
          24,
          25,
          23,
          19,
          14,
          15,
          17,
          19,
          18,
          17,
          17,
          19,
          19,
          12,
          17,
          15,
          17,
          17,
          12,
          17,
          16,
          18,
          15,
          16,
          12,
          17,
          17,
          16,
          12,
          15,
          16,
          17,
          15,
          17,
          19,
          17,
          19,
          19,
          17,
          17,
          17,
          16,
          16,
          17,
          15,
          17,
          22,
          19,
          20,
          17,
          12,
          19,
          18,
          14,
          15,
          18,
          18,
          15,
          17,
          19,
          19,
          17,
          17,
          17,
          20,
          18,
          25,
          24,
          27,
          25,
          26,
          23,
          26,
          26,
          26,
          26,
          25,
          27,
          25,
          27,
          20,
          20,
          19,
          17,
          20,
          17,
          15,
          18,
          20,
          20,
          22,
          17,
          19,
          18,
          20
         ],
         "y0": " ",
         "yaxis": "y"
        },
        {
         "alignmentgroup": "True",
         "hovertemplate": "drv=%{x}<br>hwy=%{y}<extra></extra>",
         "legendgroup": "r",
         "marker": {
          "color": "#00cc96"
         },
         "name": "r",
         "notched": false,
         "offsetgroup": "r",
         "orientation": "v",
         "showlegend": true,
         "type": "box",
         "x": [
          "r",
          "r",
          "r",
          "r",
          "r",
          "r",
          "r",
          "r",
          "r",
          "r",
          "r",
          "r",
          "r",
          "r",
          "r",
          "r",
          "r",
          "r",
          "r",
          "r",
          "r",
          "r",
          "r",
          "r",
          "r"
         ],
         "x0": " ",
         "xaxis": "x",
         "y": [
          20,
          15,
          20,
          17,
          17,
          26,
          23,
          26,
          25,
          24,
          17,
          17,
          18,
          26,
          25,
          26,
          24,
          21,
          22,
          23,
          22,
          20,
          17,
          16,
          18
         ],
         "y0": " ",
         "yaxis": "y"
        }
       ],
       "layout": {
        "autosize": true,
        "boxmode": "overlay",
        "legend": {
         "title": {
          "text": "drv"
         },
         "tracegroupgap": 0
        },
        "margin": {
         "t": 60
        },
        "template": {
         "data": {
          "bar": [
           {
            "error_x": {
             "color": "#2a3f5f"
            },
            "error_y": {
             "color": "#2a3f5f"
            },
            "marker": {
             "line": {
              "color": "#E5ECF6",
              "width": 0.5
             },
             "pattern": {
              "fillmode": "overlay",
              "size": 10,
              "solidity": 0.2
             }
            },
            "type": "bar"
           }
          ],
          "barpolar": [
           {
            "marker": {
             "line": {
              "color": "#E5ECF6",
              "width": 0.5
             },
             "pattern": {
              "fillmode": "overlay",
              "size": 10,
              "solidity": 0.2
             }
            },
            "type": "barpolar"
           }
          ],
          "carpet": [
           {
            "aaxis": {
             "endlinecolor": "#2a3f5f",
             "gridcolor": "white",
             "linecolor": "white",
             "minorgridcolor": "white",
             "startlinecolor": "#2a3f5f"
            },
            "baxis": {
             "endlinecolor": "#2a3f5f",
             "gridcolor": "white",
             "linecolor": "white",
             "minorgridcolor": "white",
             "startlinecolor": "#2a3f5f"
            },
            "type": "carpet"
           }
          ],
          "choropleth": [
           {
            "colorbar": {
             "outlinewidth": 0,
             "ticks": ""
            },
            "type": "choropleth"
           }
          ],
          "contour": [
           {
            "colorbar": {
             "outlinewidth": 0,
             "ticks": ""
            },
            "colorscale": [
             [
              0,
              "#0d0887"
             ],
             [
              0.1111111111111111,
              "#46039f"
             ],
             [
              0.2222222222222222,
              "#7201a8"
             ],
             [
              0.3333333333333333,
              "#9c179e"
             ],
             [
              0.4444444444444444,
              "#bd3786"
             ],
             [
              0.5555555555555556,
              "#d8576b"
             ],
             [
              0.6666666666666666,
              "#ed7953"
             ],
             [
              0.7777777777777778,
              "#fb9f3a"
             ],
             [
              0.8888888888888888,
              "#fdca26"
             ],
             [
              1,
              "#f0f921"
             ]
            ],
            "type": "contour"
           }
          ],
          "contourcarpet": [
           {
            "colorbar": {
             "outlinewidth": 0,
             "ticks": ""
            },
            "type": "contourcarpet"
           }
          ],
          "heatmap": [
           {
            "colorbar": {
             "outlinewidth": 0,
             "ticks": ""
            },
            "colorscale": [
             [
              0,
              "#0d0887"
             ],
             [
              0.1111111111111111,
              "#46039f"
             ],
             [
              0.2222222222222222,
              "#7201a8"
             ],
             [
              0.3333333333333333,
              "#9c179e"
             ],
             [
              0.4444444444444444,
              "#bd3786"
             ],
             [
              0.5555555555555556,
              "#d8576b"
             ],
             [
              0.6666666666666666,
              "#ed7953"
             ],
             [
              0.7777777777777778,
              "#fb9f3a"
             ],
             [
              0.8888888888888888,
              "#fdca26"
             ],
             [
              1,
              "#f0f921"
             ]
            ],
            "type": "heatmap"
           }
          ],
          "heatmapgl": [
           {
            "colorbar": {
             "outlinewidth": 0,
             "ticks": ""
            },
            "colorscale": [
             [
              0,
              "#0d0887"
             ],
             [
              0.1111111111111111,
              "#46039f"
             ],
             [
              0.2222222222222222,
              "#7201a8"
             ],
             [
              0.3333333333333333,
              "#9c179e"
             ],
             [
              0.4444444444444444,
              "#bd3786"
             ],
             [
              0.5555555555555556,
              "#d8576b"
             ],
             [
              0.6666666666666666,
              "#ed7953"
             ],
             [
              0.7777777777777778,
              "#fb9f3a"
             ],
             [
              0.8888888888888888,
              "#fdca26"
             ],
             [
              1,
              "#f0f921"
             ]
            ],
            "type": "heatmapgl"
           }
          ],
          "histogram": [
           {
            "marker": {
             "pattern": {
              "fillmode": "overlay",
              "size": 10,
              "solidity": 0.2
             }
            },
            "type": "histogram"
           }
          ],
          "histogram2d": [
           {
            "colorbar": {
             "outlinewidth": 0,
             "ticks": ""
            },
            "colorscale": [
             [
              0,
              "#0d0887"
             ],
             [
              0.1111111111111111,
              "#46039f"
             ],
             [
              0.2222222222222222,
              "#7201a8"
             ],
             [
              0.3333333333333333,
              "#9c179e"
             ],
             [
              0.4444444444444444,
              "#bd3786"
             ],
             [
              0.5555555555555556,
              "#d8576b"
             ],
             [
              0.6666666666666666,
              "#ed7953"
             ],
             [
              0.7777777777777778,
              "#fb9f3a"
             ],
             [
              0.8888888888888888,
              "#fdca26"
             ],
             [
              1,
              "#f0f921"
             ]
            ],
            "type": "histogram2d"
           }
          ],
          "histogram2dcontour": [
           {
            "colorbar": {
             "outlinewidth": 0,
             "ticks": ""
            },
            "colorscale": [
             [
              0,
              "#0d0887"
             ],
             [
              0.1111111111111111,
              "#46039f"
             ],
             [
              0.2222222222222222,
              "#7201a8"
             ],
             [
              0.3333333333333333,
              "#9c179e"
             ],
             [
              0.4444444444444444,
              "#bd3786"
             ],
             [
              0.5555555555555556,
              "#d8576b"
             ],
             [
              0.6666666666666666,
              "#ed7953"
             ],
             [
              0.7777777777777778,
              "#fb9f3a"
             ],
             [
              0.8888888888888888,
              "#fdca26"
             ],
             [
              1,
              "#f0f921"
             ]
            ],
            "type": "histogram2dcontour"
           }
          ],
          "mesh3d": [
           {
            "colorbar": {
             "outlinewidth": 0,
             "ticks": ""
            },
            "type": "mesh3d"
           }
          ],
          "parcoords": [
           {
            "line": {
             "colorbar": {
              "outlinewidth": 0,
              "ticks": ""
             }
            },
            "type": "parcoords"
           }
          ],
          "pie": [
           {
            "automargin": true,
            "type": "pie"
           }
          ],
          "scatter": [
           {
            "fillpattern": {
             "fillmode": "overlay",
             "size": 10,
             "solidity": 0.2
            },
            "type": "scatter"
           }
          ],
          "scatter3d": [
           {
            "line": {
             "colorbar": {
              "outlinewidth": 0,
              "ticks": ""
             }
            },
            "marker": {
             "colorbar": {
              "outlinewidth": 0,
              "ticks": ""
             }
            },
            "type": "scatter3d"
           }
          ],
          "scattercarpet": [
           {
            "marker": {
             "colorbar": {
              "outlinewidth": 0,
              "ticks": ""
             }
            },
            "type": "scattercarpet"
           }
          ],
          "scattergeo": [
           {
            "marker": {
             "colorbar": {
              "outlinewidth": 0,
              "ticks": ""
             }
            },
            "type": "scattergeo"
           }
          ],
          "scattergl": [
           {
            "marker": {
             "colorbar": {
              "outlinewidth": 0,
              "ticks": ""
             }
            },
            "type": "scattergl"
           }
          ],
          "scattermapbox": [
           {
            "marker": {
             "colorbar": {
              "outlinewidth": 0,
              "ticks": ""
             }
            },
            "type": "scattermapbox"
           }
          ],
          "scatterpolar": [
           {
            "marker": {
             "colorbar": {
              "outlinewidth": 0,
              "ticks": ""
             }
            },
            "type": "scatterpolar"
           }
          ],
          "scatterpolargl": [
           {
            "marker": {
             "colorbar": {
              "outlinewidth": 0,
              "ticks": ""
             }
            },
            "type": "scatterpolargl"
           }
          ],
          "scatterternary": [
           {
            "marker": {
             "colorbar": {
              "outlinewidth": 0,
              "ticks": ""
             }
            },
            "type": "scatterternary"
           }
          ],
          "surface": [
           {
            "colorbar": {
             "outlinewidth": 0,
             "ticks": ""
            },
            "colorscale": [
             [
              0,
              "#0d0887"
             ],
             [
              0.1111111111111111,
              "#46039f"
             ],
             [
              0.2222222222222222,
              "#7201a8"
             ],
             [
              0.3333333333333333,
              "#9c179e"
             ],
             [
              0.4444444444444444,
              "#bd3786"
             ],
             [
              0.5555555555555556,
              "#d8576b"
             ],
             [
              0.6666666666666666,
              "#ed7953"
             ],
             [
              0.7777777777777778,
              "#fb9f3a"
             ],
             [
              0.8888888888888888,
              "#fdca26"
             ],
             [
              1,
              "#f0f921"
             ]
            ],
            "type": "surface"
           }
          ],
          "table": [
           {
            "cells": {
             "fill": {
              "color": "#EBF0F8"
             },
             "line": {
              "color": "white"
             }
            },
            "header": {
             "fill": {
              "color": "#C8D4E3"
             },
             "line": {
              "color": "white"
             }
            },
            "type": "table"
           }
          ]
         },
         "layout": {
          "annotationdefaults": {
           "arrowcolor": "#2a3f5f",
           "arrowhead": 0,
           "arrowwidth": 1
          },
          "autotypenumbers": "strict",
          "coloraxis": {
           "colorbar": {
            "outlinewidth": 0,
            "ticks": ""
           }
          },
          "colorscale": {
           "diverging": [
            [
             0,
             "#8e0152"
            ],
            [
             0.1,
             "#c51b7d"
            ],
            [
             0.2,
             "#de77ae"
            ],
            [
             0.3,
             "#f1b6da"
            ],
            [
             0.4,
             "#fde0ef"
            ],
            [
             0.5,
             "#f7f7f7"
            ],
            [
             0.6,
             "#e6f5d0"
            ],
            [
             0.7,
             "#b8e186"
            ],
            [
             0.8,
             "#7fbc41"
            ],
            [
             0.9,
             "#4d9221"
            ],
            [
             1,
             "#276419"
            ]
           ],
           "sequential": [
            [
             0,
             "#0d0887"
            ],
            [
             0.1111111111111111,
             "#46039f"
            ],
            [
             0.2222222222222222,
             "#7201a8"
            ],
            [
             0.3333333333333333,
             "#9c179e"
            ],
            [
             0.4444444444444444,
             "#bd3786"
            ],
            [
             0.5555555555555556,
             "#d8576b"
            ],
            [
             0.6666666666666666,
             "#ed7953"
            ],
            [
             0.7777777777777778,
             "#fb9f3a"
            ],
            [
             0.8888888888888888,
             "#fdca26"
            ],
            [
             1,
             "#f0f921"
            ]
           ],
           "sequentialminus": [
            [
             0,
             "#0d0887"
            ],
            [
             0.1111111111111111,
             "#46039f"
            ],
            [
             0.2222222222222222,
             "#7201a8"
            ],
            [
             0.3333333333333333,
             "#9c179e"
            ],
            [
             0.4444444444444444,
             "#bd3786"
            ],
            [
             0.5555555555555556,
             "#d8576b"
            ],
            [
             0.6666666666666666,
             "#ed7953"
            ],
            [
             0.7777777777777778,
             "#fb9f3a"
            ],
            [
             0.8888888888888888,
             "#fdca26"
            ],
            [
             1,
             "#f0f921"
            ]
           ]
          },
          "colorway": [
           "#636efa",
           "#EF553B",
           "#00cc96",
           "#ab63fa",
           "#FFA15A",
           "#19d3f3",
           "#FF6692",
           "#B6E880",
           "#FF97FF",
           "#FECB52"
          ],
          "font": {
           "color": "#2a3f5f"
          },
          "geo": {
           "bgcolor": "white",
           "lakecolor": "white",
           "landcolor": "#E5ECF6",
           "showlakes": true,
           "showland": true,
           "subunitcolor": "white"
          },
          "hoverlabel": {
           "align": "left"
          },
          "hovermode": "closest",
          "mapbox": {
           "style": "light"
          },
          "paper_bgcolor": "white",
          "plot_bgcolor": "#E5ECF6",
          "polar": {
           "angularaxis": {
            "gridcolor": "white",
            "linecolor": "white",
            "ticks": ""
           },
           "bgcolor": "#E5ECF6",
           "radialaxis": {
            "gridcolor": "white",
            "linecolor": "white",
            "ticks": ""
           }
          },
          "scene": {
           "xaxis": {
            "backgroundcolor": "#E5ECF6",
            "gridcolor": "white",
            "gridwidth": 2,
            "linecolor": "white",
            "showbackground": true,
            "ticks": "",
            "zerolinecolor": "white"
           },
           "yaxis": {
            "backgroundcolor": "#E5ECF6",
            "gridcolor": "white",
            "gridwidth": 2,
            "linecolor": "white",
            "showbackground": true,
            "ticks": "",
            "zerolinecolor": "white"
           },
           "zaxis": {
            "backgroundcolor": "#E5ECF6",
            "gridcolor": "white",
            "gridwidth": 2,
            "linecolor": "white",
            "showbackground": true,
            "ticks": "",
            "zerolinecolor": "white"
           }
          },
          "shapedefaults": {
           "line": {
            "color": "#2a3f5f"
           }
          },
          "ternary": {
           "aaxis": {
            "gridcolor": "white",
            "linecolor": "white",
            "ticks": ""
           },
           "baxis": {
            "gridcolor": "white",
            "linecolor": "white",
            "ticks": ""
           },
           "bgcolor": "#E5ECF6",
           "caxis": {
            "gridcolor": "white",
            "linecolor": "white",
            "ticks": ""
           }
          },
          "title": {
           "x": 0.05
          },
          "xaxis": {
           "automargin": true,
           "gridcolor": "white",
           "linecolor": "white",
           "ticks": "",
           "title": {
            "standoff": 15
           },
           "zerolinecolor": "white",
           "zerolinewidth": 2
          },
          "yaxis": {
           "automargin": true,
           "gridcolor": "white",
           "linecolor": "white",
           "ticks": "",
           "title": {
            "standoff": 15
           },
           "zerolinecolor": "white",
           "zerolinewidth": 2
          }
         }
        },
        "xaxis": {
         "anchor": "y",
         "autorange": true,
         "categoryarray": [
          "f",
          "4",
          "r"
         ],
         "categoryorder": "array",
         "domain": [
          0,
          1
         ],
         "range": [
          -0.5,
          2.5
         ],
         "title": {
          "text": "drv"
         },
         "type": "category"
        },
        "yaxis": {
         "anchor": "x",
         "autorange": true,
         "domain": [
          0,
          1
         ],
         "range": [
          10.222222222222221,
          45.77777777777778
         ],
         "title": {
          "text": "hwy"
         },
         "type": "linear"
        }
       }
      },
      "image/png": "[encoded data removed]",
      "text/html": [
       "<div>                            <div id=\"303a5e06-6ac9-4e75-9616-c502bfe0ae54\" class=\"plotly-graph-div\" style=\"height:525px; width:100%;\"></div>            <script type=\"text/javascript\">                require([\"plotly\"], function(Plotly) {                    window.PLOTLYENV=window.PLOTLYENV || {};                                    if (document.getElementById(\"303a5e06-6ac9-4e75-9616-c502bfe0ae54\")) {                    Plotly.newPlot(                        \"303a5e06-6ac9-4e75-9616-c502bfe0ae54\",                        [{\"alignmentgroup\":\"True\",\"hovertemplate\":\"drv=%{x}<br>hwy=%{y}<extra></extra>\",\"legendgroup\":\"f\",\"marker\":{\"color\":\"#636efa\"},\"name\":\"f\",\"notched\":false,\"offsetgroup\":\"f\",\"orientation\":\"v\",\"showlegend\":true,\"x\":[\"f\",\"f\",\"f\",\"f\",\"f\",\"f\",\"f\",\"f\",\"f\",\"f\",\"f\",\"f\",\"f\",\"f\",\"f\",\"f\",\"f\",\"f\",\"f\",\"f\",\"f\",\"f\",\"f\",\"f\",\"f\",\"f\",\"f\",\"f\",\"f\",\"f\",\"f\",\"f\",\"f\",\"f\",\"f\",\"f\",\"f\",\"f\",\"f\",\"f\",\"f\",\"f\",\"f\",\"f\",\"f\",\"f\",\"f\",\"f\",\"f\",\"f\",\"f\",\"f\",\"f\",\"f\",\"f\",\"f\",\"f\",\"f\",\"f\",\"f\",\"f\",\"f\",\"f\",\"f\",\"f\",\"f\",\"f\",\"f\",\"f\",\"f\",\"f\",\"f\",\"f\",\"f\",\"f\",\"f\",\"f\",\"f\",\"f\",\"f\",\"f\",\"f\",\"f\",\"f\",\"f\",\"f\",\"f\",\"f\",\"f\",\"f\",\"f\",\"f\",\"f\",\"f\",\"f\",\"f\",\"f\",\"f\",\"f\",\"f\",\"f\",\"f\",\"f\",\"f\",\"f\",\"f\"],\"x0\":\" \",\"xaxis\":\"x\",\"y\":[29,29,31,30,26,26,27,27,30,26,29,26,24,24,22,22,24,24,17,22,21,23,23,33,32,32,29,32,34,36,36,29,26,27,30,31,26,26,28,26,29,28,27,24,24,24,29,27,31,32,27,26,26,25,25,26,26,27,28,25,29,27,31,31,26,26,28,27,29,31,31,26,26,27,30,33,35,37,35,29,26,29,29,24,44,29,26,29,29,29,29,23,24,44,41,29,26,28,29,29,29,28,29,26,26,26],\"y0\":\" \",\"yaxis\":\"y\",\"type\":\"box\"},{\"alignmentgroup\":\"True\",\"hovertemplate\":\"drv=%{x}<br>hwy=%{y}<extra></extra>\",\"legendgroup\":\"4\",\"marker\":{\"color\":\"#EF553B\"},\"name\":\"4\",\"notched\":false,\"offsetgroup\":\"4\",\"orientation\":\"v\",\"showlegend\":true,\"x\":[\"4\",\"4\",\"4\",\"4\",\"4\",\"4\",\"4\",\"4\",\"4\",\"4\",\"4\",\"4\",\"4\",\"4\",\"4\",\"4\",\"4\",\"4\",\"4\",\"4\",\"4\",\"4\",\"4\",\"4\",\"4\",\"4\",\"4\",\"4\",\"4\",\"4\",\"4\",\"4\",\"4\",\"4\",\"4\",\"4\",\"4\",\"4\",\"4\",\"4\",\"4\",\"4\",\"4\",\"4\",\"4\",\"4\",\"4\",\"4\",\"4\",\"4\",\"4\",\"4\",\"4\",\"4\",\"4\",\"4\",\"4\",\"4\",\"4\",\"4\",\"4\",\"4\",\"4\",\"4\",\"4\",\"4\",\"4\",\"4\",\"4\",\"4\",\"4\",\"4\",\"4\",\"4\",\"4\",\"4\",\"4\",\"4\",\"4\",\"4\",\"4\",\"4\",\"4\",\"4\",\"4\",\"4\",\"4\",\"4\",\"4\",\"4\",\"4\",\"4\",\"4\",\"4\",\"4\",\"4\",\"4\",\"4\",\"4\",\"4\",\"4\",\"4\",\"4\"],\"x0\":\" \",\"xaxis\":\"x\",\"y\":[26,25,28,27,25,25,25,25,24,25,23,19,14,15,17,19,18,17,17,19,19,12,17,15,17,17,12,17,16,18,15,16,12,17,17,16,12,15,16,17,15,17,19,17,19,19,17,17,17,16,16,17,15,17,22,19,20,17,12,19,18,14,15,18,18,15,17,19,19,17,17,17,20,18,25,24,27,25,26,23,26,26,26,26,25,27,25,27,20,20,19,17,20,17,15,18,20,20,22,17,19,18,20],\"y0\":\" \",\"yaxis\":\"y\",\"type\":\"box\"},{\"alignmentgroup\":\"True\",\"hovertemplate\":\"drv=%{x}<br>hwy=%{y}<extra></extra>\",\"legendgroup\":\"r\",\"marker\":{\"color\":\"#00cc96\"},\"name\":\"r\",\"notched\":false,\"offsetgroup\":\"r\",\"orientation\":\"v\",\"showlegend\":true,\"x\":[\"r\",\"r\",\"r\",\"r\",\"r\",\"r\",\"r\",\"r\",\"r\",\"r\",\"r\",\"r\",\"r\",\"r\",\"r\",\"r\",\"r\",\"r\",\"r\",\"r\",\"r\",\"r\",\"r\",\"r\",\"r\"],\"x0\":\" \",\"xaxis\":\"x\",\"y\":[20,15,20,17,17,26,23,26,25,24,17,17,18,26,25,26,24,21,22,23,22,20,17,16,18],\"y0\":\" \",\"yaxis\":\"y\",\"type\":\"box\"}],                        {\"template\":{\"data\":{\"histogram2dcontour\":[{\"type\":\"histogram2dcontour\",\"colorbar\":{\"outlinewidth\":0,\"ticks\":\"\"},\"colorscale\":[[0.0,\"#0d0887\"],[0.1111111111111111,\"#46039f\"],[0.2222222222222222,\"#7201a8\"],[0.3333333333333333,\"#9c179e\"],[0.4444444444444444,\"#bd3786\"],[0.5555555555555556,\"#d8576b\"],[0.6666666666666666,\"#ed7953\"],[0.7777777777777778,\"#fb9f3a\"],[0.8888888888888888,\"#fdca26\"],[1.0,\"#f0f921\"]]}],\"choropleth\":[{\"type\":\"choropleth\",\"colorbar\":{\"outlinewidth\":0,\"ticks\":\"\"}}],\"histogram2d\":[{\"type\":\"histogram2d\",\"colorbar\":{\"outlinewidth\":0,\"ticks\":\"\"},\"colorscale\":[[0.0,\"#0d0887\"],[0.1111111111111111,\"#46039f\"],[0.2222222222222222,\"#7201a8\"],[0.3333333333333333,\"#9c179e\"],[0.4444444444444444,\"#bd3786\"],[0.5555555555555556,\"#d8576b\"],[0.6666666666666666,\"#ed7953\"],[0.7777777777777778,\"#fb9f3a\"],[0.8888888888888888,\"#fdca26\"],[1.0,\"#f0f921\"]]}],\"heatmap\":[{\"type\":\"heatmap\",\"colorbar\":{\"outlinewidth\":0,\"ticks\":\"\"},\"colorscale\":[[0.0,\"#0d0887\"],[0.1111111111111111,\"#46039f\"],[0.2222222222222222,\"#7201a8\"],[0.3333333333333333,\"#9c179e\"],[0.4444444444444444,\"#bd3786\"],[0.5555555555555556,\"#d8576b\"],[0.6666666666666666,\"#ed7953\"],[0.7777777777777778,\"#fb9f3a\"],[0.8888888888888888,\"#fdca26\"],[1.0,\"#f0f921\"]]}],\"heatmapgl\":[{\"type\":\"heatmapgl\",\"colorbar\":{\"outlinewidth\":0,\"ticks\":\"\"},\"colorscale\":[[0.0,\"#0d0887\"],[0.1111111111111111,\"#46039f\"],[0.2222222222222222,\"#7201a8\"],[0.3333333333333333,\"#9c179e\"],[0.4444444444444444,\"#bd3786\"],[0.5555555555555556,\"#d8576b\"],[0.6666666666666666,\"#ed7953\"],[0.7777777777777778,\"#fb9f3a\"],[0.8888888888888888,\"#fdca26\"],[1.0,\"#f0f921\"]]}],\"contourcarpet\":[{\"type\":\"contourcarpet\",\"colorbar\":{\"outlinewidth\":0,\"ticks\":\"\"}}],\"contour\":[{\"type\":\"contour\",\"colorbar\":{\"outlinewidth\":0,\"ticks\":\"\"},\"colorscale\":[[0.0,\"#0d0887\"],[0.1111111111111111,\"#46039f\"],[0.2222222222222222,\"#7201a8\"],[0.3333333333333333,\"#9c179e\"],[0.4444444444444444,\"#bd3786\"],[0.5555555555555556,\"#d8576b\"],[0.6666666666666666,\"#ed7953\"],[0.7777777777777778,\"#fb9f3a\"],[0.8888888888888888,\"#fdca26\"],[1.0,\"#f0f921\"]]}],\"surface\":[{\"type\":\"surface\",\"colorbar\":{\"outlinewidth\":0,\"ticks\":\"\"},\"colorscale\":[[0.0,\"#0d0887\"],[0.1111111111111111,\"#46039f\"],[0.2222222222222222,\"#7201a8\"],[0.3333333333333333,\"#9c179e\"],[0.4444444444444444,\"#bd3786\"],[0.5555555555555556,\"#d8576b\"],[0.6666666666666666,\"#ed7953\"],[0.7777777777777778,\"#fb9f3a\"],[0.8888888888888888,\"#fdca26\"],[1.0,\"#f0f921\"]]}],\"mesh3d\":[{\"type\":\"mesh3d\",\"colorbar\":{\"outlinewidth\":0,\"ticks\":\"\"}}],\"scatter\":[{\"fillpattern\":{\"fillmode\":\"overlay\",\"size\":10,\"solidity\":0.2},\"type\":\"scatter\"}],\"parcoords\":[{\"type\":\"parcoords\",\"line\":{\"colorbar\":{\"outlinewidth\":0,\"ticks\":\"\"}}}],\"scatterpolargl\":[{\"type\":\"scatterpolargl\",\"marker\":{\"colorbar\":{\"outlinewidth\":0,\"ticks\":\"\"}}}],\"bar\":[{\"error_x\":{\"color\":\"#2a3f5f\"},\"error_y\":{\"color\":\"#2a3f5f\"},\"marker\":{\"line\":{\"color\":\"#E5ECF6\",\"width\":0.5},\"pattern\":{\"fillmode\":\"overlay\",\"size\":10,\"solidity\":0.2}},\"type\":\"bar\"}],\"scattergeo\":[{\"type\":\"scattergeo\",\"marker\":{\"colorbar\":{\"outlinewidth\":0,\"ticks\":\"\"}}}],\"scatterpolar\":[{\"type\":\"scatterpolar\",\"marker\":{\"colorbar\":{\"outlinewidth\":0,\"ticks\":\"\"}}}],\"histogram\":[{\"marker\":{\"pattern\":{\"fillmode\":\"overlay\",\"size\":10,\"solidity\":0.2}},\"type\":\"histogram\"}],\"scattergl\":[{\"type\":\"scattergl\",\"marker\":{\"colorbar\":{\"outlinewidth\":0,\"ticks\":\"\"}}}],\"scatter3d\":[{\"type\":\"scatter3d\",\"line\":{\"colorbar\":{\"outlinewidth\":0,\"ticks\":\"\"}},\"marker\":{\"colorbar\":{\"outlinewidth\":0,\"ticks\":\"\"}}}],\"scattermapbox\":[{\"type\":\"scattermapbox\",\"marker\":{\"colorbar\":{\"outlinewidth\":0,\"ticks\":\"\"}}}],\"scatterternary\":[{\"type\":\"scatterternary\",\"marker\":{\"colorbar\":{\"outlinewidth\":0,\"ticks\":\"\"}}}],\"scattercarpet\":[{\"type\":\"scattercarpet\",\"marker\":{\"colorbar\":{\"outlinewidth\":0,\"ticks\":\"\"}}}],\"carpet\":[{\"aaxis\":{\"endlinecolor\":\"#2a3f5f\",\"gridcolor\":\"white\",\"linecolor\":\"white\",\"minorgridcolor\":\"white\",\"startlinecolor\":\"#2a3f5f\"},\"baxis\":{\"endlinecolor\":\"#2a3f5f\",\"gridcolor\":\"white\",\"linecolor\":\"white\",\"minorgridcolor\":\"white\",\"startlinecolor\":\"#2a3f5f\"},\"type\":\"carpet\"}],\"table\":[{\"cells\":{\"fill\":{\"color\":\"#EBF0F8\"},\"line\":{\"color\":\"white\"}},\"header\":{\"fill\":{\"color\":\"#C8D4E3\"},\"line\":{\"color\":\"white\"}},\"type\":\"table\"}],\"barpolar\":[{\"marker\":{\"line\":{\"color\":\"#E5ECF6\",\"width\":0.5},\"pattern\":{\"fillmode\":\"overlay\",\"size\":10,\"solidity\":0.2}},\"type\":\"barpolar\"}],\"pie\":[{\"automargin\":true,\"type\":\"pie\"}]},\"layout\":{\"autotypenumbers\":\"strict\",\"colorway\":[\"#636efa\",\"#EF553B\",\"#00cc96\",\"#ab63fa\",\"#FFA15A\",\"#19d3f3\",\"#FF6692\",\"#B6E880\",\"#FF97FF\",\"#FECB52\"],\"font\":{\"color\":\"#2a3f5f\"},\"hovermode\":\"closest\",\"hoverlabel\":{\"align\":\"left\"},\"paper_bgcolor\":\"white\",\"plot_bgcolor\":\"#E5ECF6\",\"polar\":{\"bgcolor\":\"#E5ECF6\",\"angularaxis\":{\"gridcolor\":\"white\",\"linecolor\":\"white\",\"ticks\":\"\"},\"radialaxis\":{\"gridcolor\":\"white\",\"linecolor\":\"white\",\"ticks\":\"\"}},\"ternary\":{\"bgcolor\":\"#E5ECF6\",\"aaxis\":{\"gridcolor\":\"white\",\"linecolor\":\"white\",\"ticks\":\"\"},\"baxis\":{\"gridcolor\":\"white\",\"linecolor\":\"white\",\"ticks\":\"\"},\"caxis\":{\"gridcolor\":\"white\",\"linecolor\":\"white\",\"ticks\":\"\"}},\"coloraxis\":{\"colorbar\":{\"outlinewidth\":0,\"ticks\":\"\"}},\"colorscale\":{\"sequential\":[[0.0,\"#0d0887\"],[0.1111111111111111,\"#46039f\"],[0.2222222222222222,\"#7201a8\"],[0.3333333333333333,\"#9c179e\"],[0.4444444444444444,\"#bd3786\"],[0.5555555555555556,\"#d8576b\"],[0.6666666666666666,\"#ed7953\"],[0.7777777777777778,\"#fb9f3a\"],[0.8888888888888888,\"#fdca26\"],[1.0,\"#f0f921\"]],\"sequentialminus\":[[0.0,\"#0d0887\"],[0.1111111111111111,\"#46039f\"],[0.2222222222222222,\"#7201a8\"],[0.3333333333333333,\"#9c179e\"],[0.4444444444444444,\"#bd3786\"],[0.5555555555555556,\"#d8576b\"],[0.6666666666666666,\"#ed7953\"],[0.7777777777777778,\"#fb9f3a\"],[0.8888888888888888,\"#fdca26\"],[1.0,\"#f0f921\"]],\"diverging\":[[0,\"#8e0152\"],[0.1,\"#c51b7d\"],[0.2,\"#de77ae\"],[0.3,\"#f1b6da\"],[0.4,\"#fde0ef\"],[0.5,\"#f7f7f7\"],[0.6,\"#e6f5d0\"],[0.7,\"#b8e186\"],[0.8,\"#7fbc41\"],[0.9,\"#4d9221\"],[1,\"#276419\"]]},\"xaxis\":{\"gridcolor\":\"white\",\"linecolor\":\"white\",\"ticks\":\"\",\"title\":{\"standoff\":15},\"zerolinecolor\":\"white\",\"automargin\":true,\"zerolinewidth\":2},\"yaxis\":{\"gridcolor\":\"white\",\"linecolor\":\"white\",\"ticks\":\"\",\"title\":{\"standoff\":15},\"zerolinecolor\":\"white\",\"automargin\":true,\"zerolinewidth\":2},\"scene\":{\"xaxis\":{\"backgroundcolor\":\"#E5ECF6\",\"gridcolor\":\"white\",\"linecolor\":\"white\",\"showbackground\":true,\"ticks\":\"\",\"zerolinecolor\":\"white\",\"gridwidth\":2},\"yaxis\":{\"backgroundcolor\":\"#E5ECF6\",\"gridcolor\":\"white\",\"linecolor\":\"white\",\"showbackground\":true,\"ticks\":\"\",\"zerolinecolor\":\"white\",\"gridwidth\":2},\"zaxis\":{\"backgroundcolor\":\"#E5ECF6\",\"gridcolor\":\"white\",\"linecolor\":\"white\",\"showbackground\":true,\"ticks\":\"\",\"zerolinecolor\":\"white\",\"gridwidth\":2}},\"shapedefaults\":{\"line\":{\"color\":\"#2a3f5f\"}},\"annotationdefaults\":{\"arrowcolor\":\"#2a3f5f\",\"arrowhead\":0,\"arrowwidth\":1},\"geo\":{\"bgcolor\":\"white\",\"landcolor\":\"#E5ECF6\",\"subunitcolor\":\"white\",\"showland\":true,\"showlakes\":true,\"lakecolor\":\"white\"},\"title\":{\"x\":0.05},\"mapbox\":{\"style\":\"light\"}}},\"xaxis\":{\"anchor\":\"y\",\"domain\":[0.0,1.0],\"title\":{\"text\":\"drv\"},\"categoryorder\":\"array\",\"categoryarray\":[\"f\",\"4\",\"r\"]},\"yaxis\":{\"anchor\":\"x\",\"domain\":[0.0,1.0],\"title\":{\"text\":\"hwy\"}},\"legend\":{\"title\":{\"text\":\"drv\"},\"tracegroupgap\":0},\"margin\":{\"t\":60},\"boxmode\":\"overlay\"},                        {\"responsive\": true}                    ).then(function(){\n",
       "                            \n",
       "var gd = document.getElementById('303a5e06-6ac9-4e75-9616-c502bfe0ae54');\n",
       "var x = new MutationObserver(function (mutations, observer) {{\n",
       "        var display = window.getComputedStyle(gd).display;\n",
       "        if (!display || display === 'none') {{\n",
       "            console.log([gd, 'removed!']);\n",
       "            Plotly.purge(gd);\n",
       "            observer.disconnect();\n",
       "        }}\n",
       "}});\n",
       "\n",
       "// Listen for the removal of the full notebook cells\n",
       "var notebookContainer = gd.closest('#notebook-container');\n",
       "if (notebookContainer) {{\n",
       "    x.observe(notebookContainer, {childList: true});\n",
       "}}\n",
       "\n",
       "// Listen for the clearing of the current output cell\n",
       "var outputEl = gd.closest('.output');\n",
       "if (outputEl) {{\n",
       "    x.observe(outputEl, {childList: true});\n",
       "}}\n",
       "\n",
       "                        })                };                });            </script>        </div>"
      ]
     },
     "metadata": {},
     "output_type": "display_data"
    }
   ],
   "source": [
    "# 상자 그림 만들기\n",
    "px.box(data_frame = mpg, x = 'drv', y = 'hwy', color = 'drv')"
   ]
  },
  {
   "cell_type": "markdown",
   "id": "3c4122df",
   "metadata": {},
   "source": [
    "------------------------------------------------------------------------\n",
    "\n",
    "#### (알아 두면 좋아요) `plotly` 활용하기\n",
    "\n",
    "**그래프 크기 조절하기**"
   ]
  },
  {
   "cell_type": "code",
   "execution_count": 7,
   "id": "d0b8fc76",
   "metadata": {},
   "outputs": [
    {
     "data": {
      "application/vnd.plotly.v1+json": {
       "config": {
        "plotlyServerURL": "https://plot.ly"
       },
       "data": [
        {
         "hovertemplate": "drv=f<br>hwy=%{x}<br>cty=%{y}<extra></extra>",
         "legendgroup": "f",
         "marker": {
          "color": "#636efa",
          "symbol": "circle"
         },
         "mode": "markers",
         "name": "f",
         "orientation": "v",
         "showlegend": true,
         "type": "scatter",
         "x": [
          29,
          29,
          31,
          30,
          26,
          26,
          27,
          27,
          30,
          26,
          29,
          26,
          24,
          24,
          22,
          22,
          24,
          24,
          17,
          22,
          21,
          23,
          23,
          33,
          32,
          32,
          29,
          32,
          34,
          36,
          36,
          29,
          26,
          27,
          30,
          31,
          26,
          26,
          28,
          26,
          29,
          28,
          27,
          24,
          24,
          24,
          29,
          27,
          31,
          32,
          27,
          26,
          26,
          25,
          25,
          26,
          26,
          27,
          28,
          25,
          29,
          27,
          31,
          31,
          26,
          26,
          28,
          27,
          29,
          31,
          31,
          26,
          26,
          27,
          30,
          33,
          35,
          37,
          35,
          29,
          26,
          29,
          29,
          24,
          44,
          29,
          26,
          29,
          29,
          29,
          29,
          23,
          24,
          44,
          41,
          29,
          26,
          28,
          29,
          29,
          29,
          28,
          29,
          26,
          26,
          26
         ],
         "xaxis": "x",
         "y": [
          18,
          21,
          20,
          21,
          16,
          18,
          18,
          19,
          22,
          18,
          18,
          17,
          18,
          17,
          16,
          16,
          17,
          17,
          11,
          15,
          15,
          16,
          16,
          28,
          24,
          25,
          23,
          24,
          26,
          25,
          24,
          21,
          18,
          18,
          21,
          21,
          18,
          18,
          19,
          19,
          19,
          20,
          20,
          17,
          16,
          17,
          21,
          19,
          23,
          23,
          19,
          19,
          18,
          19,
          19,
          18,
          16,
          17,
          18,
          16,
          21,
          21,
          21,
          21,
          18,
          18,
          19,
          21,
          21,
          21,
          22,
          18,
          18,
          18,
          24,
          24,
          26,
          28,
          26,
          21,
          19,
          21,
          22,
          17,
          33,
          21,
          19,
          22,
          21,
          21,
          21,
          16,
          17,
          35,
          29,
          21,
          19,
          20,
          20,
          21,
          18,
          19,
          21,
          16,
          18,
          17
         ],
         "yaxis": "y"
        },
        {
         "hovertemplate": "drv=4<br>hwy=%{x}<br>cty=%{y}<extra></extra>",
         "legendgroup": "4",
         "marker": {
          "color": "#EF553B",
          "symbol": "circle"
         },
         "mode": "markers",
         "name": "4",
         "orientation": "v",
         "showlegend": true,
         "type": "scatter",
         "x": [
          26,
          25,
          28,
          27,
          25,
          25,
          25,
          25,
          24,
          25,
          23,
          19,
          14,
          15,
          17,
          19,
          18,
          17,
          17,
          19,
          19,
          12,
          17,
          15,
          17,
          17,
          12,
          17,
          16,
          18,
          15,
          16,
          12,
          17,
          17,
          16,
          12,
          15,
          16,
          17,
          15,
          17,
          19,
          17,
          19,
          19,
          17,
          17,
          17,
          16,
          16,
          17,
          15,
          17,
          22,
          19,
          20,
          17,
          12,
          19,
          18,
          14,
          15,
          18,
          18,
          15,
          17,
          19,
          19,
          17,
          17,
          17,
          20,
          18,
          25,
          24,
          27,
          25,
          26,
          23,
          26,
          26,
          26,
          26,
          25,
          27,
          25,
          27,
          20,
          20,
          19,
          17,
          20,
          17,
          15,
          18,
          20,
          20,
          22,
          17,
          19,
          18,
          20
         ],
         "xaxis": "x",
         "y": [
          18,
          16,
          20,
          19,
          15,
          17,
          17,
          15,
          15,
          17,
          16,
          14,
          11,
          11,
          14,
          15,
          14,
          13,
          14,
          14,
          14,
          9,
          11,
          11,
          13,
          13,
          9,
          13,
          11,
          13,
          11,
          12,
          9,
          13,
          13,
          12,
          9,
          11,
          11,
          13,
          11,
          14,
          15,
          14,
          13,
          13,
          13,
          14,
          14,
          13,
          13,
          13,
          11,
          13,
          17,
          15,
          15,
          14,
          9,
          14,
          13,
          11,
          11,
          12,
          12,
          11,
          14,
          13,
          13,
          13,
          14,
          15,
          14,
          12,
          18,
          18,
          20,
          19,
          20,
          18,
          21,
          19,
          19,
          19,
          20,
          20,
          19,
          20,
          15,
          16,
          15,
          15,
          16,
          14,
          11,
          13,
          15,
          16,
          17,
          15,
          15,
          15,
          16
         ],
         "yaxis": "y"
        },
        {
         "hovertemplate": "drv=r<br>hwy=%{x}<br>cty=%{y}<extra></extra>",
         "legendgroup": "r",
         "marker": {
          "color": "#00cc96",
          "symbol": "circle"
         },
         "mode": "markers",
         "name": "r",
         "orientation": "v",
         "showlegend": true,
         "type": "scatter",
         "x": [
          20,
          15,
          20,
          17,
          17,
          26,
          23,
          26,
          25,
          24,
          17,
          17,
          18,
          26,
          25,
          26,
          24,
          21,
          22,
          23,
          22,
          20,
          17,
          16,
          18
         ],
         "xaxis": "x",
         "y": [
          14,
          11,
          14,
          13,
          12,
          16,
          15,
          16,
          15,
          15,
          11,
          11,
          12,
          18,
          18,
          17,
          16,
          15,
          15,
          15,
          15,
          14,
          11,
          11,
          12
         ],
         "yaxis": "y"
        }
       ],
       "layout": {
        "height": 400,
        "legend": {
         "title": {
          "text": "drv"
         },
         "tracegroupgap": 0
        },
        "margin": {
         "t": 60
        },
        "template": {
         "data": {
          "bar": [
           {
            "error_x": {
             "color": "#2a3f5f"
            },
            "error_y": {
             "color": "#2a3f5f"
            },
            "marker": {
             "line": {
              "color": "#E5ECF6",
              "width": 0.5
             },
             "pattern": {
              "fillmode": "overlay",
              "size": 10,
              "solidity": 0.2
             }
            },
            "type": "bar"
           }
          ],
          "barpolar": [
           {
            "marker": {
             "line": {
              "color": "#E5ECF6",
              "width": 0.5
             },
             "pattern": {
              "fillmode": "overlay",
              "size": 10,
              "solidity": 0.2
             }
            },
            "type": "barpolar"
           }
          ],
          "carpet": [
           {
            "aaxis": {
             "endlinecolor": "#2a3f5f",
             "gridcolor": "white",
             "linecolor": "white",
             "minorgridcolor": "white",
             "startlinecolor": "#2a3f5f"
            },
            "baxis": {
             "endlinecolor": "#2a3f5f",
             "gridcolor": "white",
             "linecolor": "white",
             "minorgridcolor": "white",
             "startlinecolor": "#2a3f5f"
            },
            "type": "carpet"
           }
          ],
          "choropleth": [
           {
            "colorbar": {
             "outlinewidth": 0,
             "ticks": ""
            },
            "type": "choropleth"
           }
          ],
          "contour": [
           {
            "colorbar": {
             "outlinewidth": 0,
             "ticks": ""
            },
            "colorscale": [
             [
              0,
              "#0d0887"
             ],
             [
              0.1111111111111111,
              "#46039f"
             ],
             [
              0.2222222222222222,
              "#7201a8"
             ],
             [
              0.3333333333333333,
              "#9c179e"
             ],
             [
              0.4444444444444444,
              "#bd3786"
             ],
             [
              0.5555555555555556,
              "#d8576b"
             ],
             [
              0.6666666666666666,
              "#ed7953"
             ],
             [
              0.7777777777777778,
              "#fb9f3a"
             ],
             [
              0.8888888888888888,
              "#fdca26"
             ],
             [
              1,
              "#f0f921"
             ]
            ],
            "type": "contour"
           }
          ],
          "contourcarpet": [
           {
            "colorbar": {
             "outlinewidth": 0,
             "ticks": ""
            },
            "type": "contourcarpet"
           }
          ],
          "heatmap": [
           {
            "colorbar": {
             "outlinewidth": 0,
             "ticks": ""
            },
            "colorscale": [
             [
              0,
              "#0d0887"
             ],
             [
              0.1111111111111111,
              "#46039f"
             ],
             [
              0.2222222222222222,
              "#7201a8"
             ],
             [
              0.3333333333333333,
              "#9c179e"
             ],
             [
              0.4444444444444444,
              "#bd3786"
             ],
             [
              0.5555555555555556,
              "#d8576b"
             ],
             [
              0.6666666666666666,
              "#ed7953"
             ],
             [
              0.7777777777777778,
              "#fb9f3a"
             ],
             [
              0.8888888888888888,
              "#fdca26"
             ],
             [
              1,
              "#f0f921"
             ]
            ],
            "type": "heatmap"
           }
          ],
          "heatmapgl": [
           {
            "colorbar": {
             "outlinewidth": 0,
             "ticks": ""
            },
            "colorscale": [
             [
              0,
              "#0d0887"
             ],
             [
              0.1111111111111111,
              "#46039f"
             ],
             [
              0.2222222222222222,
              "#7201a8"
             ],
             [
              0.3333333333333333,
              "#9c179e"
             ],
             [
              0.4444444444444444,
              "#bd3786"
             ],
             [
              0.5555555555555556,
              "#d8576b"
             ],
             [
              0.6666666666666666,
              "#ed7953"
             ],
             [
              0.7777777777777778,
              "#fb9f3a"
             ],
             [
              0.8888888888888888,
              "#fdca26"
             ],
             [
              1,
              "#f0f921"
             ]
            ],
            "type": "heatmapgl"
           }
          ],
          "histogram": [
           {
            "marker": {
             "pattern": {
              "fillmode": "overlay",
              "size": 10,
              "solidity": 0.2
             }
            },
            "type": "histogram"
           }
          ],
          "histogram2d": [
           {
            "colorbar": {
             "outlinewidth": 0,
             "ticks": ""
            },
            "colorscale": [
             [
              0,
              "#0d0887"
             ],
             [
              0.1111111111111111,
              "#46039f"
             ],
             [
              0.2222222222222222,
              "#7201a8"
             ],
             [
              0.3333333333333333,
              "#9c179e"
             ],
             [
              0.4444444444444444,
              "#bd3786"
             ],
             [
              0.5555555555555556,
              "#d8576b"
             ],
             [
              0.6666666666666666,
              "#ed7953"
             ],
             [
              0.7777777777777778,
              "#fb9f3a"
             ],
             [
              0.8888888888888888,
              "#fdca26"
             ],
             [
              1,
              "#f0f921"
             ]
            ],
            "type": "histogram2d"
           }
          ],
          "histogram2dcontour": [
           {
            "colorbar": {
             "outlinewidth": 0,
             "ticks": ""
            },
            "colorscale": [
             [
              0,
              "#0d0887"
             ],
             [
              0.1111111111111111,
              "#46039f"
             ],
             [
              0.2222222222222222,
              "#7201a8"
             ],
             [
              0.3333333333333333,
              "#9c179e"
             ],
             [
              0.4444444444444444,
              "#bd3786"
             ],
             [
              0.5555555555555556,
              "#d8576b"
             ],
             [
              0.6666666666666666,
              "#ed7953"
             ],
             [
              0.7777777777777778,
              "#fb9f3a"
             ],
             [
              0.8888888888888888,
              "#fdca26"
             ],
             [
              1,
              "#f0f921"
             ]
            ],
            "type": "histogram2dcontour"
           }
          ],
          "mesh3d": [
           {
            "colorbar": {
             "outlinewidth": 0,
             "ticks": ""
            },
            "type": "mesh3d"
           }
          ],
          "parcoords": [
           {
            "line": {
             "colorbar": {
              "outlinewidth": 0,
              "ticks": ""
             }
            },
            "type": "parcoords"
           }
          ],
          "pie": [
           {
            "automargin": true,
            "type": "pie"
           }
          ],
          "scatter": [
           {
            "fillpattern": {
             "fillmode": "overlay",
             "size": 10,
             "solidity": 0.2
            },
            "type": "scatter"
           }
          ],
          "scatter3d": [
           {
            "line": {
             "colorbar": {
              "outlinewidth": 0,
              "ticks": ""
             }
            },
            "marker": {
             "colorbar": {
              "outlinewidth": 0,
              "ticks": ""
             }
            },
            "type": "scatter3d"
           }
          ],
          "scattercarpet": [
           {
            "marker": {
             "colorbar": {
              "outlinewidth": 0,
              "ticks": ""
             }
            },
            "type": "scattercarpet"
           }
          ],
          "scattergeo": [
           {
            "marker": {
             "colorbar": {
              "outlinewidth": 0,
              "ticks": ""
             }
            },
            "type": "scattergeo"
           }
          ],
          "scattergl": [
           {
            "marker": {
             "colorbar": {
              "outlinewidth": 0,
              "ticks": ""
             }
            },
            "type": "scattergl"
           }
          ],
          "scattermapbox": [
           {
            "marker": {
             "colorbar": {
              "outlinewidth": 0,
              "ticks": ""
             }
            },
            "type": "scattermapbox"
           }
          ],
          "scatterpolar": [
           {
            "marker": {
             "colorbar": {
              "outlinewidth": 0,
              "ticks": ""
             }
            },
            "type": "scatterpolar"
           }
          ],
          "scatterpolargl": [
           {
            "marker": {
             "colorbar": {
              "outlinewidth": 0,
              "ticks": ""
             }
            },
            "type": "scatterpolargl"
           }
          ],
          "scatterternary": [
           {
            "marker": {
             "colorbar": {
              "outlinewidth": 0,
              "ticks": ""
             }
            },
            "type": "scatterternary"
           }
          ],
          "surface": [
           {
            "colorbar": {
             "outlinewidth": 0,
             "ticks": ""
            },
            "colorscale": [
             [
              0,
              "#0d0887"
             ],
             [
              0.1111111111111111,
              "#46039f"
             ],
             [
              0.2222222222222222,
              "#7201a8"
             ],
             [
              0.3333333333333333,
              "#9c179e"
             ],
             [
              0.4444444444444444,
              "#bd3786"
             ],
             [
              0.5555555555555556,
              "#d8576b"
             ],
             [
              0.6666666666666666,
              "#ed7953"
             ],
             [
              0.7777777777777778,
              "#fb9f3a"
             ],
             [
              0.8888888888888888,
              "#fdca26"
             ],
             [
              1,
              "#f0f921"
             ]
            ],
            "type": "surface"
           }
          ],
          "table": [
           {
            "cells": {
             "fill": {
              "color": "#EBF0F8"
             },
             "line": {
              "color": "white"
             }
            },
            "header": {
             "fill": {
              "color": "#C8D4E3"
             },
             "line": {
              "color": "white"
             }
            },
            "type": "table"
           }
          ]
         },
         "layout": {
          "annotationdefaults": {
           "arrowcolor": "#2a3f5f",
           "arrowhead": 0,
           "arrowwidth": 1
          },
          "autotypenumbers": "strict",
          "coloraxis": {
           "colorbar": {
            "outlinewidth": 0,
            "ticks": ""
           }
          },
          "colorscale": {
           "diverging": [
            [
             0,
             "#8e0152"
            ],
            [
             0.1,
             "#c51b7d"
            ],
            [
             0.2,
             "#de77ae"
            ],
            [
             0.3,
             "#f1b6da"
            ],
            [
             0.4,
             "#fde0ef"
            ],
            [
             0.5,
             "#f7f7f7"
            ],
            [
             0.6,
             "#e6f5d0"
            ],
            [
             0.7,
             "#b8e186"
            ],
            [
             0.8,
             "#7fbc41"
            ],
            [
             0.9,
             "#4d9221"
            ],
            [
             1,
             "#276419"
            ]
           ],
           "sequential": [
            [
             0,
             "#0d0887"
            ],
            [
             0.1111111111111111,
             "#46039f"
            ],
            [
             0.2222222222222222,
             "#7201a8"
            ],
            [
             0.3333333333333333,
             "#9c179e"
            ],
            [
             0.4444444444444444,
             "#bd3786"
            ],
            [
             0.5555555555555556,
             "#d8576b"
            ],
            [
             0.6666666666666666,
             "#ed7953"
            ],
            [
             0.7777777777777778,
             "#fb9f3a"
            ],
            [
             0.8888888888888888,
             "#fdca26"
            ],
            [
             1,
             "#f0f921"
            ]
           ],
           "sequentialminus": [
            [
             0,
             "#0d0887"
            ],
            [
             0.1111111111111111,
             "#46039f"
            ],
            [
             0.2222222222222222,
             "#7201a8"
            ],
            [
             0.3333333333333333,
             "#9c179e"
            ],
            [
             0.4444444444444444,
             "#bd3786"
            ],
            [
             0.5555555555555556,
             "#d8576b"
            ],
            [
             0.6666666666666666,
             "#ed7953"
            ],
            [
             0.7777777777777778,
             "#fb9f3a"
            ],
            [
             0.8888888888888888,
             "#fdca26"
            ],
            [
             1,
             "#f0f921"
            ]
           ]
          },
          "colorway": [
           "#636efa",
           "#EF553B",
           "#00cc96",
           "#ab63fa",
           "#FFA15A",
           "#19d3f3",
           "#FF6692",
           "#B6E880",
           "#FF97FF",
           "#FECB52"
          ],
          "font": {
           "color": "#2a3f5f"
          },
          "geo": {
           "bgcolor": "white",
           "lakecolor": "white",
           "landcolor": "#E5ECF6",
           "showlakes": true,
           "showland": true,
           "subunitcolor": "white"
          },
          "hoverlabel": {
           "align": "left"
          },
          "hovermode": "closest",
          "mapbox": {
           "style": "light"
          },
          "paper_bgcolor": "white",
          "plot_bgcolor": "#E5ECF6",
          "polar": {
           "angularaxis": {
            "gridcolor": "white",
            "linecolor": "white",
            "ticks": ""
           },
           "bgcolor": "#E5ECF6",
           "radialaxis": {
            "gridcolor": "white",
            "linecolor": "white",
            "ticks": ""
           }
          },
          "scene": {
           "xaxis": {
            "backgroundcolor": "#E5ECF6",
            "gridcolor": "white",
            "gridwidth": 2,
            "linecolor": "white",
            "showbackground": true,
            "ticks": "",
            "zerolinecolor": "white"
           },
           "yaxis": {
            "backgroundcolor": "#E5ECF6",
            "gridcolor": "white",
            "gridwidth": 2,
            "linecolor": "white",
            "showbackground": true,
            "ticks": "",
            "zerolinecolor": "white"
           },
           "zaxis": {
            "backgroundcolor": "#E5ECF6",
            "gridcolor": "white",
            "gridwidth": 2,
            "linecolor": "white",
            "showbackground": true,
            "ticks": "",
            "zerolinecolor": "white"
           }
          },
          "shapedefaults": {
           "line": {
            "color": "#2a3f5f"
           }
          },
          "ternary": {
           "aaxis": {
            "gridcolor": "white",
            "linecolor": "white",
            "ticks": ""
           },
           "baxis": {
            "gridcolor": "white",
            "linecolor": "white",
            "ticks": ""
           },
           "bgcolor": "#E5ECF6",
           "caxis": {
            "gridcolor": "white",
            "linecolor": "white",
            "ticks": ""
           }
          },
          "title": {
           "x": 0.05
          },
          "xaxis": {
           "automargin": true,
           "gridcolor": "white",
           "linecolor": "white",
           "ticks": "",
           "title": {
            "standoff": 15
           },
           "zerolinecolor": "white",
           "zerolinewidth": 2
          },
          "yaxis": {
           "automargin": true,
           "gridcolor": "white",
           "linecolor": "white",
           "ticks": "",
           "title": {
            "standoff": 15
           },
           "zerolinecolor": "white",
           "zerolinewidth": 2
          }
         }
        },
        "width": 600,
        "xaxis": {
         "anchor": "y",
         "autorange": true,
         "domain": [
          0,
          1
         ],
         "range": [
          9.87902187902188,
          46.12097812097812
         ],
         "title": {
          "text": "hwy"
         },
         "type": "linear"
        },
        "yaxis": {
         "anchor": "x",
         "autorange": true,
         "domain": [
          0,
          1
         ],
         "range": [
          7.077262693156733,
          36.92273730684327
         ],
         "title": {
          "text": "cty"
         },
         "type": "linear"
        }
       }
      },
      "image/png": "[encoded data removed]",
      "text/html": [
       "<div>                            <div id=\"033b3fec-92dc-4e90-a3e0-e3d751e81148\" class=\"plotly-graph-div\" style=\"height:400px; width:600px;\"></div>            <script type=\"text/javascript\">                require([\"plotly\"], function(Plotly) {                    window.PLOTLYENV=window.PLOTLYENV || {};                                    if (document.getElementById(\"033b3fec-92dc-4e90-a3e0-e3d751e81148\")) {                    Plotly.newPlot(                        \"033b3fec-92dc-4e90-a3e0-e3d751e81148\",                        [{\"hovertemplate\":\"drv=f<br>hwy=%{x}<br>cty=%{y}<extra></extra>\",\"legendgroup\":\"f\",\"marker\":{\"color\":\"#636efa\",\"symbol\":\"circle\"},\"mode\":\"markers\",\"name\":\"f\",\"orientation\":\"v\",\"showlegend\":true,\"x\":[29,29,31,30,26,26,27,27,30,26,29,26,24,24,22,22,24,24,17,22,21,23,23,33,32,32,29,32,34,36,36,29,26,27,30,31,26,26,28,26,29,28,27,24,24,24,29,27,31,32,27,26,26,25,25,26,26,27,28,25,29,27,31,31,26,26,28,27,29,31,31,26,26,27,30,33,35,37,35,29,26,29,29,24,44,29,26,29,29,29,29,23,24,44,41,29,26,28,29,29,29,28,29,26,26,26],\"xaxis\":\"x\",\"y\":[18,21,20,21,16,18,18,19,22,18,18,17,18,17,16,16,17,17,11,15,15,16,16,28,24,25,23,24,26,25,24,21,18,18,21,21,18,18,19,19,19,20,20,17,16,17,21,19,23,23,19,19,18,19,19,18,16,17,18,16,21,21,21,21,18,18,19,21,21,21,22,18,18,18,24,24,26,28,26,21,19,21,22,17,33,21,19,22,21,21,21,16,17,35,29,21,19,20,20,21,18,19,21,16,18,17],\"yaxis\":\"y\",\"type\":\"scatter\"},{\"hovertemplate\":\"drv=4<br>hwy=%{x}<br>cty=%{y}<extra></extra>\",\"legendgroup\":\"4\",\"marker\":{\"color\":\"#EF553B\",\"symbol\":\"circle\"},\"mode\":\"markers\",\"name\":\"4\",\"orientation\":\"v\",\"showlegend\":true,\"x\":[26,25,28,27,25,25,25,25,24,25,23,19,14,15,17,19,18,17,17,19,19,12,17,15,17,17,12,17,16,18,15,16,12,17,17,16,12,15,16,17,15,17,19,17,19,19,17,17,17,16,16,17,15,17,22,19,20,17,12,19,18,14,15,18,18,15,17,19,19,17,17,17,20,18,25,24,27,25,26,23,26,26,26,26,25,27,25,27,20,20,19,17,20,17,15,18,20,20,22,17,19,18,20],\"xaxis\":\"x\",\"y\":[18,16,20,19,15,17,17,15,15,17,16,14,11,11,14,15,14,13,14,14,14,9,11,11,13,13,9,13,11,13,11,12,9,13,13,12,9,11,11,13,11,14,15,14,13,13,13,14,14,13,13,13,11,13,17,15,15,14,9,14,13,11,11,12,12,11,14,13,13,13,14,15,14,12,18,18,20,19,20,18,21,19,19,19,20,20,19,20,15,16,15,15,16,14,11,13,15,16,17,15,15,15,16],\"yaxis\":\"y\",\"type\":\"scatter\"},{\"hovertemplate\":\"drv=r<br>hwy=%{x}<br>cty=%{y}<extra></extra>\",\"legendgroup\":\"r\",\"marker\":{\"color\":\"#00cc96\",\"symbol\":\"circle\"},\"mode\":\"markers\",\"name\":\"r\",\"orientation\":\"v\",\"showlegend\":true,\"x\":[20,15,20,17,17,26,23,26,25,24,17,17,18,26,25,26,24,21,22,23,22,20,17,16,18],\"xaxis\":\"x\",\"y\":[14,11,14,13,12,16,15,16,15,15,11,11,12,18,18,17,16,15,15,15,15,14,11,11,12],\"yaxis\":\"y\",\"type\":\"scatter\"}],                        {\"template\":{\"data\":{\"histogram2dcontour\":[{\"type\":\"histogram2dcontour\",\"colorbar\":{\"outlinewidth\":0,\"ticks\":\"\"},\"colorscale\":[[0.0,\"#0d0887\"],[0.1111111111111111,\"#46039f\"],[0.2222222222222222,\"#7201a8\"],[0.3333333333333333,\"#9c179e\"],[0.4444444444444444,\"#bd3786\"],[0.5555555555555556,\"#d8576b\"],[0.6666666666666666,\"#ed7953\"],[0.7777777777777778,\"#fb9f3a\"],[0.8888888888888888,\"#fdca26\"],[1.0,\"#f0f921\"]]}],\"choropleth\":[{\"type\":\"choropleth\",\"colorbar\":{\"outlinewidth\":0,\"ticks\":\"\"}}],\"histogram2d\":[{\"type\":\"histogram2d\",\"colorbar\":{\"outlinewidth\":0,\"ticks\":\"\"},\"colorscale\":[[0.0,\"#0d0887\"],[0.1111111111111111,\"#46039f\"],[0.2222222222222222,\"#7201a8\"],[0.3333333333333333,\"#9c179e\"],[0.4444444444444444,\"#bd3786\"],[0.5555555555555556,\"#d8576b\"],[0.6666666666666666,\"#ed7953\"],[0.7777777777777778,\"#fb9f3a\"],[0.8888888888888888,\"#fdca26\"],[1.0,\"#f0f921\"]]}],\"heatmap\":[{\"type\":\"heatmap\",\"colorbar\":{\"outlinewidth\":0,\"ticks\":\"\"},\"colorscale\":[[0.0,\"#0d0887\"],[0.1111111111111111,\"#46039f\"],[0.2222222222222222,\"#7201a8\"],[0.3333333333333333,\"#9c179e\"],[0.4444444444444444,\"#bd3786\"],[0.5555555555555556,\"#d8576b\"],[0.6666666666666666,\"#ed7953\"],[0.7777777777777778,\"#fb9f3a\"],[0.8888888888888888,\"#fdca26\"],[1.0,\"#f0f921\"]]}],\"heatmapgl\":[{\"type\":\"heatmapgl\",\"colorbar\":{\"outlinewidth\":0,\"ticks\":\"\"},\"colorscale\":[[0.0,\"#0d0887\"],[0.1111111111111111,\"#46039f\"],[0.2222222222222222,\"#7201a8\"],[0.3333333333333333,\"#9c179e\"],[0.4444444444444444,\"#bd3786\"],[0.5555555555555556,\"#d8576b\"],[0.6666666666666666,\"#ed7953\"],[0.7777777777777778,\"#fb9f3a\"],[0.8888888888888888,\"#fdca26\"],[1.0,\"#f0f921\"]]}],\"contourcarpet\":[{\"type\":\"contourcarpet\",\"colorbar\":{\"outlinewidth\":0,\"ticks\":\"\"}}],\"contour\":[{\"type\":\"contour\",\"colorbar\":{\"outlinewidth\":0,\"ticks\":\"\"},\"colorscale\":[[0.0,\"#0d0887\"],[0.1111111111111111,\"#46039f\"],[0.2222222222222222,\"#7201a8\"],[0.3333333333333333,\"#9c179e\"],[0.4444444444444444,\"#bd3786\"],[0.5555555555555556,\"#d8576b\"],[0.6666666666666666,\"#ed7953\"],[0.7777777777777778,\"#fb9f3a\"],[0.8888888888888888,\"#fdca26\"],[1.0,\"#f0f921\"]]}],\"surface\":[{\"type\":\"surface\",\"colorbar\":{\"outlinewidth\":0,\"ticks\":\"\"},\"colorscale\":[[0.0,\"#0d0887\"],[0.1111111111111111,\"#46039f\"],[0.2222222222222222,\"#7201a8\"],[0.3333333333333333,\"#9c179e\"],[0.4444444444444444,\"#bd3786\"],[0.5555555555555556,\"#d8576b\"],[0.6666666666666666,\"#ed7953\"],[0.7777777777777778,\"#fb9f3a\"],[0.8888888888888888,\"#fdca26\"],[1.0,\"#f0f921\"]]}],\"mesh3d\":[{\"type\":\"mesh3d\",\"colorbar\":{\"outlinewidth\":0,\"ticks\":\"\"}}],\"scatter\":[{\"fillpattern\":{\"fillmode\":\"overlay\",\"size\":10,\"solidity\":0.2},\"type\":\"scatter\"}],\"parcoords\":[{\"type\":\"parcoords\",\"line\":{\"colorbar\":{\"outlinewidth\":0,\"ticks\":\"\"}}}],\"scatterpolargl\":[{\"type\":\"scatterpolargl\",\"marker\":{\"colorbar\":{\"outlinewidth\":0,\"ticks\":\"\"}}}],\"bar\":[{\"error_x\":{\"color\":\"#2a3f5f\"},\"error_y\":{\"color\":\"#2a3f5f\"},\"marker\":{\"line\":{\"color\":\"#E5ECF6\",\"width\":0.5},\"pattern\":{\"fillmode\":\"overlay\",\"size\":10,\"solidity\":0.2}},\"type\":\"bar\"}],\"scattergeo\":[{\"type\":\"scattergeo\",\"marker\":{\"colorbar\":{\"outlinewidth\":0,\"ticks\":\"\"}}}],\"scatterpolar\":[{\"type\":\"scatterpolar\",\"marker\":{\"colorbar\":{\"outlinewidth\":0,\"ticks\":\"\"}}}],\"histogram\":[{\"marker\":{\"pattern\":{\"fillmode\":\"overlay\",\"size\":10,\"solidity\":0.2}},\"type\":\"histogram\"}],\"scattergl\":[{\"type\":\"scattergl\",\"marker\":{\"colorbar\":{\"outlinewidth\":0,\"ticks\":\"\"}}}],\"scatter3d\":[{\"type\":\"scatter3d\",\"line\":{\"colorbar\":{\"outlinewidth\":0,\"ticks\":\"\"}},\"marker\":{\"colorbar\":{\"outlinewidth\":0,\"ticks\":\"\"}}}],\"scattermapbox\":[{\"type\":\"scattermapbox\",\"marker\":{\"colorbar\":{\"outlinewidth\":0,\"ticks\":\"\"}}}],\"scatterternary\":[{\"type\":\"scatterternary\",\"marker\":{\"colorbar\":{\"outlinewidth\":0,\"ticks\":\"\"}}}],\"scattercarpet\":[{\"type\":\"scattercarpet\",\"marker\":{\"colorbar\":{\"outlinewidth\":0,\"ticks\":\"\"}}}],\"carpet\":[{\"aaxis\":{\"endlinecolor\":\"#2a3f5f\",\"gridcolor\":\"white\",\"linecolor\":\"white\",\"minorgridcolor\":\"white\",\"startlinecolor\":\"#2a3f5f\"},\"baxis\":{\"endlinecolor\":\"#2a3f5f\",\"gridcolor\":\"white\",\"linecolor\":\"white\",\"minorgridcolor\":\"white\",\"startlinecolor\":\"#2a3f5f\"},\"type\":\"carpet\"}],\"table\":[{\"cells\":{\"fill\":{\"color\":\"#EBF0F8\"},\"line\":{\"color\":\"white\"}},\"header\":{\"fill\":{\"color\":\"#C8D4E3\"},\"line\":{\"color\":\"white\"}},\"type\":\"table\"}],\"barpolar\":[{\"marker\":{\"line\":{\"color\":\"#E5ECF6\",\"width\":0.5},\"pattern\":{\"fillmode\":\"overlay\",\"size\":10,\"solidity\":0.2}},\"type\":\"barpolar\"}],\"pie\":[{\"automargin\":true,\"type\":\"pie\"}]},\"layout\":{\"autotypenumbers\":\"strict\",\"colorway\":[\"#636efa\",\"#EF553B\",\"#00cc96\",\"#ab63fa\",\"#FFA15A\",\"#19d3f3\",\"#FF6692\",\"#B6E880\",\"#FF97FF\",\"#FECB52\"],\"font\":{\"color\":\"#2a3f5f\"},\"hovermode\":\"closest\",\"hoverlabel\":{\"align\":\"left\"},\"paper_bgcolor\":\"white\",\"plot_bgcolor\":\"#E5ECF6\",\"polar\":{\"bgcolor\":\"#E5ECF6\",\"angularaxis\":{\"gridcolor\":\"white\",\"linecolor\":\"white\",\"ticks\":\"\"},\"radialaxis\":{\"gridcolor\":\"white\",\"linecolor\":\"white\",\"ticks\":\"\"}},\"ternary\":{\"bgcolor\":\"#E5ECF6\",\"aaxis\":{\"gridcolor\":\"white\",\"linecolor\":\"white\",\"ticks\":\"\"},\"baxis\":{\"gridcolor\":\"white\",\"linecolor\":\"white\",\"ticks\":\"\"},\"caxis\":{\"gridcolor\":\"white\",\"linecolor\":\"white\",\"ticks\":\"\"}},\"coloraxis\":{\"colorbar\":{\"outlinewidth\":0,\"ticks\":\"\"}},\"colorscale\":{\"sequential\":[[0.0,\"#0d0887\"],[0.1111111111111111,\"#46039f\"],[0.2222222222222222,\"#7201a8\"],[0.3333333333333333,\"#9c179e\"],[0.4444444444444444,\"#bd3786\"],[0.5555555555555556,\"#d8576b\"],[0.6666666666666666,\"#ed7953\"],[0.7777777777777778,\"#fb9f3a\"],[0.8888888888888888,\"#fdca26\"],[1.0,\"#f0f921\"]],\"sequentialminus\":[[0.0,\"#0d0887\"],[0.1111111111111111,\"#46039f\"],[0.2222222222222222,\"#7201a8\"],[0.3333333333333333,\"#9c179e\"],[0.4444444444444444,\"#bd3786\"],[0.5555555555555556,\"#d8576b\"],[0.6666666666666666,\"#ed7953\"],[0.7777777777777778,\"#fb9f3a\"],[0.8888888888888888,\"#fdca26\"],[1.0,\"#f0f921\"]],\"diverging\":[[0,\"#8e0152\"],[0.1,\"#c51b7d\"],[0.2,\"#de77ae\"],[0.3,\"#f1b6da\"],[0.4,\"#fde0ef\"],[0.5,\"#f7f7f7\"],[0.6,\"#e6f5d0\"],[0.7,\"#b8e186\"],[0.8,\"#7fbc41\"],[0.9,\"#4d9221\"],[1,\"#276419\"]]},\"xaxis\":{\"gridcolor\":\"white\",\"linecolor\":\"white\",\"ticks\":\"\",\"title\":{\"standoff\":15},\"zerolinecolor\":\"white\",\"automargin\":true,\"zerolinewidth\":2},\"yaxis\":{\"gridcolor\":\"white\",\"linecolor\":\"white\",\"ticks\":\"\",\"title\":{\"standoff\":15},\"zerolinecolor\":\"white\",\"automargin\":true,\"zerolinewidth\":2},\"scene\":{\"xaxis\":{\"backgroundcolor\":\"#E5ECF6\",\"gridcolor\":\"white\",\"linecolor\":\"white\",\"showbackground\":true,\"ticks\":\"\",\"zerolinecolor\":\"white\",\"gridwidth\":2},\"yaxis\":{\"backgroundcolor\":\"#E5ECF6\",\"gridcolor\":\"white\",\"linecolor\":\"white\",\"showbackground\":true,\"ticks\":\"\",\"zerolinecolor\":\"white\",\"gridwidth\":2},\"zaxis\":{\"backgroundcolor\":\"#E5ECF6\",\"gridcolor\":\"white\",\"linecolor\":\"white\",\"showbackground\":true,\"ticks\":\"\",\"zerolinecolor\":\"white\",\"gridwidth\":2}},\"shapedefaults\":{\"line\":{\"color\":\"#2a3f5f\"}},\"annotationdefaults\":{\"arrowcolor\":\"#2a3f5f\",\"arrowhead\":0,\"arrowwidth\":1},\"geo\":{\"bgcolor\":\"white\",\"landcolor\":\"#E5ECF6\",\"subunitcolor\":\"white\",\"showland\":true,\"showlakes\":true,\"lakecolor\":\"white\"},\"title\":{\"x\":0.05},\"mapbox\":{\"style\":\"light\"}}},\"xaxis\":{\"anchor\":\"y\",\"domain\":[0.0,1.0],\"title\":{\"text\":\"hwy\"}},\"yaxis\":{\"anchor\":\"x\",\"domain\":[0.0,1.0],\"title\":{\"text\":\"cty\"}},\"legend\":{\"title\":{\"text\":\"drv\"},\"tracegroupgap\":0},\"margin\":{\"t\":60},\"height\":400,\"width\":600},                        {\"responsive\": true}                    ).then(function(){\n",
       "                            \n",
       "var gd = document.getElementById('033b3fec-92dc-4e90-a3e0-e3d751e81148');\n",
       "var x = new MutationObserver(function (mutations, observer) {{\n",
       "        var display = window.getComputedStyle(gd).display;\n",
       "        if (!display || display === 'none') {{\n",
       "            console.log([gd, 'removed!']);\n",
       "            Plotly.purge(gd);\n",
       "            observer.disconnect();\n",
       "        }}\n",
       "}});\n",
       "\n",
       "// Listen for the removal of the full notebook cells\n",
       "var notebookContainer = gd.closest('#notebook-container');\n",
       "if (notebookContainer) {{\n",
       "    x.observe(notebookContainer, {childList: true});\n",
       "}}\n",
       "\n",
       "// Listen for the clearing of the current output cell\n",
       "var outputEl = gd.closest('.output');\n",
       "if (outputEl) {{\n",
       "    x.observe(outputEl, {childList: true});\n",
       "}}\n",
       "\n",
       "                        })                };                });            </script>        </div>"
      ]
     },
     "metadata": {},
     "output_type": "display_data"
    }
   ],
   "source": [
    "px.scatter(data_frame = mpg, x = 'hwy', y = 'cty', color = 'drv',\n",
    "           width = 600, height = 400)"
   ]
  },
  {
   "cell_type": "markdown",
   "id": "4bbd4d03",
   "metadata": {},
   "source": [
    "**새 창에 그래프 출력하기**"
   ]
  },
  {
   "cell_type": "code",
   "execution_count": 8,
   "id": "60731df5",
   "metadata": {},
   "outputs": [],
   "source": [
    "import plotly\n",
    "plotly.io.renderers.default = 'browser'"
   ]
  },
  {
   "cell_type": "code",
   "execution_count": 9,
   "id": "910a6cd2",
   "metadata": {},
   "outputs": [],
   "source": [
    "# 설정 원래대로 되돌리기\n",
    "plotly.io.renderers.default = 'jupyterlab'"
   ]
  },
  {
   "cell_type": "markdown",
   "id": "f31f6d94",
   "metadata": {},
   "source": [
    "**HTML 파일로 저장하기**"
   ]
  },
  {
   "cell_type": "code",
   "execution_count": 10,
   "id": "8229506a",
   "metadata": {
    "eval": false
   },
   "outputs": [],
   "source": [
    "# 그래프를 변수에 할당하기\n",
    "fig = px.scatter(data_frame = mpg, x = 'cty', y = 'hwy')\n",
    "\n",
    "# html로 저장하기\n",
    "# fig.write_html('scatter_plot.html')"
   ]
  }
 ],
 "metadata": {
  "jupytext": {
   "cell_metadata_filter": "eval,name,error,tags,echo,-all",
   "notebook_metadata_filter": "-all"
  },
  "kernelspec": {
   "display_name": "Python 3 (ipykernel)",
   "language": "python",
   "name": "python3"
  },
  "language_info": {
   "codemirror_mode": {
    "name": "ipython",
    "version": 3
   },
   "file_extension": ".py",
   "mimetype": "text/x-python",
   "name": "python",
   "nbconvert_exporter": "python",
   "pygments_lexer": "ipython3",
   "version": "3.9.11"
  }
 },
 "nbformat": 4,
 "nbformat_minor": 5
}
